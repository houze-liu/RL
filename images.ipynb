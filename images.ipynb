{
 "cells": [
  {
   "cell_type": "markdown",
   "metadata": {},
   "source": [
    "A Markov Chain is a set of states and relationship matrix of transfering from one to another. Burning a Markov Chain to equilibriium by sampling is called MCMC.  \n",
    "Markov Property:\n",
    "$$\n",
    "P[X_{t+1}=y|X_t=x_t, \\dots, X_0=x_o] = P[X_{t+1}=y|X_t=x_t]\n",
    "$$"
   ]
  },
  {
   "cell_type": "markdown",
   "metadata": {},
   "source": [
    "1. Must transfer to some state: $\\sum_j P_{ji} = 1$  \n",
    "2. Must be some state: $\\sum_i \\pi(i) = 1$"
   ]
  },
  {
   "cell_type": "code",
   "execution_count": 2,
   "metadata": {
    "ExecuteTime": {
     "end_time": "2019-09-03T07:15:46.067222Z",
     "start_time": "2019-09-03T07:15:41.279320Z"
    }
   },
   "outputs": [],
   "source": [
    "import tensorflow as tf\n",
    "import torchvision.datasets as ds\n",
    "import numpy as np"
   ]
  },
  {
   "cell_type": "code",
   "execution_count": 3,
   "metadata": {
    "ExecuteTime": {
     "end_time": "2019-09-03T07:15:48.697173Z",
     "start_time": "2019-09-03T07:15:48.644964Z"
    }
   },
   "outputs": [
    {
     "name": "stdout",
     "output_type": "stream",
     "text": [
      "torch.Size([60000, 28, 28]) torch.Size([60000])\n"
     ]
    }
   ],
   "source": [
    "data = ds.MNIST(root='/Users/ellise/Desktop/datasets/MNIST_data/', train=True, download=False)\n",
    "X_train = data.train_data\n",
    "y_train = data.train_labels\n",
    "print(X_train.shape, y_train.shape)"
   ]
  },
  {
   "cell_type": "code",
   "execution_count": 8,
   "metadata": {
    "ExecuteTime": {
     "end_time": "2019-09-03T07:20:37.787308Z",
     "start_time": "2019-09-03T07:20:37.776614Z"
    }
   },
   "outputs": [],
   "source": [
    "# 需要将y_train处理成one-hot vector\n",
    "y_one_hot = tf.one_hot(y_train, depth=10)"
   ]
  },
  {
   "cell_type": "code",
   "execution_count": 7,
   "metadata": {
    "ExecuteTime": {
     "end_time": "2019-09-03T07:18:49.411160Z",
     "start_time": "2019-09-03T07:18:49.193767Z"
    }
   },
   "outputs": [
    {
     "name": "stdout",
     "output_type": "stream",
     "text": [
      "WARNING:tensorflow:From <ipython-input-7-5e264a7c24be>:13: softmax_cross_entropy_with_logits (from tensorflow.python.ops.nn_ops) is deprecated and will be removed in a future version.\n",
      "Instructions for updating:\n",
      "\n",
      "Future major versions of TensorFlow will allow gradients to flow\n",
      "into the labels input on backprop by default.\n",
      "\n",
      "See `tf.nn.softmax_cross_entropy_with_logits_v2`.\n",
      "\n"
     ]
    }
   ],
   "source": [
    "tf.reset_default_graph()\n",
    "inputs = tf.placeholder(tf.float32, shape=[None, 28, 28])\n",
    "y = tf.placeholder(tf.int16, shape=[None, 1])\n",
    "def classifier(x):\n",
    "    with tf.variable_scope(\"classifier\", reuse=False):\n",
    "        x = tf.layers.flatten(x)\n",
    "        h1 = tf.layers.dense(inputs=x, units=512, activation=tf.nn.relu)\n",
    "        h2 = tf.layers.dense(inputs=h1, units=128, activation=tf.nn.relu)\n",
    "        out = tf.layers.dense(inputs=h2, units=10, activation=None)\n",
    "    return out\n",
    "\n",
    "y_hat = classifier(inputs)\n",
    "loss = tf.nn.softmax_cross_entropy_with_logits(labels=y, logits=y_hat)\n",
    "opt = tf.train.AdamOptimizer(learning_rate=1e-4).minimize(loss)\n",
    "with tf.Session() as sess:\n",
    "    for epoch in range(100):\n",
    "        # feed in batch_data\n",
    "        loss_, _ = sess.run([loss, opt], feed_dict={inputs: , y: })\n",
    "\n"
   ]
  },
  {
   "cell_type": "markdown",
   "metadata": {},
   "source": [
    "## Constrast Normalization"
   ]
  },
  {
   "cell_type": "code",
   "execution_count": 45,
   "metadata": {
    "ExecuteTime": {
     "end_time": "2019-08-25T02:34:57.593939Z",
     "start_time": "2019-08-25T02:34:57.590045Z"
    }
   },
   "outputs": [
    {
     "name": "stdout",
     "output_type": "stream",
     "text": [
      "contrast:79.64882892760731\n"
     ]
    }
   ],
   "source": [
    "# 取一张图片\n",
    "img = X_train[0].numpy()\n",
    "# constrast: root(sum (x_ij - x_mean)^2)\n",
    "x_mean = np.mean(img)\n",
    "contrast = np.sqrt(np.mean((img - x_mean)**2))\n",
    "print(\"contrast:{}\".format(contrast))\n",
    "img_ = (img - x_mean) / contrast"
   ]
  },
  {
   "cell_type": "code",
   "execution_count": 43,
   "metadata": {
    "ExecuteTime": {
     "end_time": "2019-08-25T02:33:17.340476Z",
     "start_time": "2019-08-25T02:33:17.251622Z"
    }
   },
   "outputs": [
    {
     "data": {
      "image/png": "[encoded data removed]",
      "text/plain": [
       "<Figure size 432x288 with 2 Axes>"
      ]
     },
     "metadata": {
      "needs_background": "light"
     },
     "output_type": "display_data"
    }
   ],
   "source": [
    "import matplotlib.pyplot as plt\n",
    "# plot before and after operation\n",
    "plt.subplot(1,2,1)\n",
    "plt.imshow(img, cmap='gray')\n",
    "plt.axis('off')\n",
    "plt.subplot(1,2,2)\n",
    "plt.imshow(img_, cmap='gray')\n",
    "plt.axis('off')\n",
    "plt.show()\n",
    "# 似乎并没有什么区别，查看deivation"
   ]
  },
  {
   "cell_type": "code",
   "execution_count": 44,
   "metadata": {
    "ExecuteTime": {
     "end_time": "2019-08-25T02:34:16.908521Z",
     "start_time": "2019-08-25T02:34:16.903519Z"
    }
   },
   "outputs": [
    {
     "data": {
      "text/plain": [
       "(79.64882892760731, 1.0)"
      ]
     },
     "execution_count": 44,
     "metadata": {},
     "output_type": "execute_result"
    }
   ],
   "source": [
    "np.std(img), np.std(img_) # std 被normalized到1了\n",
    "# 其实contrast即使std"
   ]
  },
  {
   "cell_type": "code",
   "execution_count": null,
   "metadata": {},
   "outputs": [],
   "source": [
    "13922822000"
   ]
  }
 ],
 "metadata": {
  "kernelspec": {
   "display_name": "Python 3",
   "language": "python",
   "name": "python3"
  },
  "language_info": {
   "codemirror_mode": {
    "name": "ipython",
    "version": 3
   },
   "file_extension": ".py",
   "mimetype": "text/x-python",
   "name": "python",
   "nbconvert_exporter": "python",
   "pygments_lexer": "ipython3",
   "version": "3.6.8"
  },
  "toc": {
   "base_numbering": 1,
   "nav_menu": {},
   "number_sections": true,
   "sideBar": true,
   "skip_h1_title": false,
   "title_cell": "Table of Contents",
   "title_sidebar": "Contents",
   "toc_cell": false,
   "toc_position": {},
   "toc_section_display": true,
   "toc_window_display": false
  },
  "varInspector": {
   "cols": {
    "lenName": 16,
    "lenType": 16,
    "lenVar": 40
   },
   "kernels_config": {
    "python": {
     "delete_cmd_postfix": "",
     "delete_cmd_prefix": "del ",
     "library": "var_list.py",
     "varRefreshCmd": "print(var_dic_list())"
    },
    "r": {
     "delete_cmd_postfix": ") ",
     "delete_cmd_prefix": "rm(",
     "library": "var_list.r",
     "varRefreshCmd": "cat(var_dic_list()) "
    }
   },
   "types_to_exclude": [
    "module",
    "function",
    "builtin_function_or_method",
    "instance",
    "_Feature"
   ],
   "window_display": false
  }
 },
 "nbformat": 4,
 "nbformat_minor": 2
}

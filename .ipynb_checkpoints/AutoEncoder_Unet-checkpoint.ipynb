{
 "cells": [
  {
   "cell_type": "markdown",
   "metadata": {},
   "source": [
    "# The main puerpose of this file is to 1. study intergrating Info to AE; 2. implement a U-net to enhance understanding."
   ]
  },
  {
   "cell_type": "code",
   "execution_count": 253,
   "metadata": {
    "ExecuteTime": {
     "end_time": "2019-09-26T16:06:46.396931Z",
     "start_time": "2019-09-26T16:06:46.116341Z"
    }
   },
   "outputs": [],
   "source": [
    "import torchvision.datasets as ds\n",
    "import numpy as np"
   ]
  },
  {
   "cell_type": "code",
   "execution_count": 177,
   "metadata": {
    "ExecuteTime": {
     "end_time": "2019-09-26T05:32:12.893559Z",
     "start_time": "2019-09-26T05:32:12.866597Z"
    }
   },
   "outputs": [
    {
     "data": {
      "text/plain": [
       "torch.Size([64, 1, 64, 64])"
      ]
     },
     "execution_count": 177,
     "metadata": {},
     "output_type": "execute_result"
    }
   ],
   "source": [
    "# firstly, define a auto-encoder: retain most salient information 什么是关键信息？能够还原输入的\n",
    "import torch.nn as nn\n",
    "import torch\n",
    "class AE(nn.Module):\n",
    "    def __init__(self):\n",
    "        super(AE, self).__init__()\n",
    "        layers = []\n",
    "        layers.append(nn.Conv2d(kernel_size=3, padding=2, stride=1, in_channels=1, out_channels=1))\n",
    "        layers.append(nn.Sigmoid())\n",
    "        layers.append(nn.ConvTranspose2d(kernel_size=3, padding=2, stride=1, in_channels=1, out_channels=1))\n",
    "        layers.append(nn.Sigmoid()) # dense prediction\n",
    "        self.layers = layers\n",
    "        self.model = nn.Sequential(*layers)\n",
    "        \n",
    "    def forward(self,x):\n",
    "        return self.model(x) + x\n",
    "    \n",
    "ae = AE()\n",
    "x = torch.randn(64, 1, 64, 64)\n",
    "ae(x).shape"
   ]
  },
  {
   "cell_type": "markdown",
   "metadata": {},
   "source": [
    "## part A: InfoAE\n",
    "Maximizing Mutual Info between input c and predicted c_hat"
   ]
  },
  {
   "cell_type": "code",
   "execution_count": 272,
   "metadata": {
    "ExecuteTime": {
     "end_time": "2019-09-26T16:09:32.550190Z",
     "start_time": "2019-09-26T16:09:32.544922Z"
    }
   },
   "outputs": [
    {
     "data": {
      "text/plain": [
       "torch.Size([100, 51])"
      ]
     },
     "execution_count": 272,
     "metadata": {},
     "output_type": "execute_result"
    }
   ],
   "source": [
    "a = torch.randn(100,50)\n",
    "b = torch.randn(100,1)\n",
    "torch.cat((a,b), dim=1).shape"
   ]
  },
  {
   "cell_type": "code",
   "execution_count": 292,
   "metadata": {
    "ExecuteTime": {
     "end_time": "2019-09-26T16:12:16.520414Z",
     "start_time": "2019-09-26T16:12:16.517263Z"
    }
   },
   "outputs": [],
   "source": [
    "def add(a, b):\n",
    "    return a+b, a-b\n",
    "\n",
    "c,d = add(1,3)"
   ]
  },
  {
   "cell_type": "code",
   "execution_count": 339,
   "metadata": {
    "ExecuteTime": {
     "end_time": "2019-09-26T17:01:33.536604Z",
     "start_time": "2019-09-26T17:01:33.530186Z"
    }
   },
   "outputs": [],
   "source": [
    "class Encoder(nn.Module):\n",
    "    def __init__(self):\n",
    "        super(Encoder, self).__init__()\n",
    "        layers = []\n",
    "        layers.append(nn.Linear(in_features=785, out_features=512))\n",
    "        layers.append(nn.ReLU(inplace=True))\n",
    "        layers.append(nn.Linear(in_features=512, out_features=256))\n",
    "        layers.append(nn.ReLU(inplace=True))\n",
    "        layers.append(nn.Linear(in_features=256, out_features=10))\n",
    "        self.model = nn.Sequential(*layers)\n",
    "        \n",
    "    def forward(self, x,c):\n",
    "        return self.model(torch.cat([x.view(-1, 784),c], dim=1))\n",
    "    \n",
    "class Decoder(nn.Module):\n",
    "    def __init__(self):\n",
    "        super(Decoder, self).__init__()\n",
    "        layers = []\n",
    "        layers.append(nn.Linear(in_features=10, out_features=256))\n",
    "        layers.append(nn.ReLU(inplace=True))\n",
    "        layers.append(nn.Linear(in_features=256, out_features=512))\n",
    "        layers.append(nn.ReLU(inplace=True))\n",
    "        layers.append(nn.Linear(in_features=512, out_features=785))\n",
    "        layers.append(nn.Sigmoid())\n",
    "        self.model = nn.Sequential(*layers)\n",
    "        \n",
    "    def forward(self, z):\n",
    "        out = self.model(z)\n",
    "        return out[:,:-1], out[:,-1]     "
   ]
  },
  {
   "cell_type": "code",
   "execution_count": 340,
   "metadata": {
    "ExecuteTime": {
     "end_time": "2019-09-26T17:01:34.021787Z",
     "start_time": "2019-09-26T17:01:34.012185Z"
    }
   },
   "outputs": [],
   "source": [
    "class Dataset():\n",
    "    def __init__(self, test_val_split=0.5, normalize=True):\n",
    "        \"\"\"\n",
    "        arg:\n",
    "            test_val_split: the proportion of data_test is used for test data\n",
    "        \"\"\"\n",
    "        self.idx = 0\n",
    "        self.ds = ds\n",
    "        self.ratio = test_val_split\n",
    "        \n",
    "        self._extract_train_test_data()\n",
    "        self._test_val_split()\n",
    "        if normalize:\n",
    "            self._normalize()\n",
    "    \n",
    "    def _extract_train_test_data(self):\n",
    "        data_train = self.ds.MNIST(root='/Users/ellise/Desktop/datasets/MNIST_data/', train=True, download=False)\n",
    "        data_test = self.ds.MNIST(root='/Users/ellise/Desktop/datasets/MNIST_data/', train=False, download=False)\n",
    "        self.X_train, self.y_train = data_train.train_data.float(), data_train.train_labels\n",
    "        self.X_test, self.y_test = data_test.test_data.float(), data_test.test_labels\n",
    "        self.num_instances_test = self.X_test.shape[0]\n",
    "        \n",
    "    def _test_val_split(self):\n",
    "        \"\"\"\n",
    "        split test and validation set according to split ratio and total_size\n",
    "        \"\"\"\n",
    "        split_idx = self.num_instances_test - int(self.num_instances_test * self.ratio)\n",
    "        self.X_val, self.y_val = self.X_test[:split_idx], self.y_test[:split_idx]\n",
    "        self.X_test, self.y_test = self.X_test[split_idx:], self.y_test[split_idx:]\n",
    "        print(\"Train set size: {}; Test set size: {}; Validation set size: {}\".format(self.X_train.shape[0],\\\n",
    "                                                                                     self.X_test.shape[0],\\\n",
    "                                                                                     self.X_val.shape[0]))\n",
    "        \n",
    "    def get_train_batch(self, batch_size):\n",
    "        idx_start = self.idx\n",
    "        idx_end = self.idx + batch_size\n",
    "        self.idx += batch_size\n",
    "\n",
    "        if(self.idx >= self.X_train.shape[0]):\n",
    "            self.idx = 0\n",
    "            idx_list = np.linspace(0,self.X_train.shape[0]-1,self.X_train.shape[0])\n",
    "            idx_list_shuffle = np.random.shuffle(np.linspace(0,self.X_train.shape[0]-1,self.X_train.shape[0]))\n",
    "\n",
    "            self.X_train[idx_list] = self.X_train[idx_list_shuffle]\n",
    "            self.y_train[idx_list] = self.y_train[idx_list_shuffle]\n",
    "        return (self.X_train[idx_start:idx_end], self.y_train[idx_start:idx_end])\n",
    "    \n",
    "    def _normalize(self):\n",
    "        def squash(X):\n",
    "            # put data into 0-1\n",
    "            return (X - torch.min(X)) / (torch.max(X) - torch.min(X))\n",
    "        self.X_train = squash(self.X_train)\n",
    "        print()\n",
    "        self.X_test = squash(self.X_test)\n",
    "        self.X_val = squash(self.X_val)\n",
    "        \n",
    "    def get_test_data(self):\n",
    "        return (self.X_test, self.y_test)\n",
    "        \n",
    "    def get_validation_data(self):\n",
    "        return (self.X_val, self.y_val)\n",
    "    \n",
    "    def get_num_of_instances_in_train(self):\n",
    "        # used for return how many instances in training set in total\n",
    "        return self.X_train.shape[0]\n",
    "    \n",
    "    def get_test_set_size(self):\n",
    "        return self.X_test.shape[0]\n",
    "    \n",
    "    def get_val_set_size(self):\n",
    "        return self.X_val.shape[0]"
   ]
  },
  {
   "cell_type": "code",
   "execution_count": 379,
   "metadata": {
    "ExecuteTime": {
     "end_time": "2019-09-26T17:36:29.585477Z",
     "start_time": "2019-09-26T17:36:29.578832Z"
    }
   },
   "outputs": [],
   "source": [
    "def Train_AE(epochs, batch_size, learning_rate, encoder, decoder, opt, criterion, dataset):\n",
    "    param = list(encoder.parameters()) + list(decoder.parameters())\n",
    "    opt = opt(lr=learning_rate, params=param) \n",
    "    criterion = criterion()\n",
    "    \n",
    "    num = dataset.get_num_of_instances_in_train()\n",
    "    \n",
    "    X_test, y_test = dataset.get_test_data()\n",
    "    \n",
    "    for e in range(epochs * int(num / batch_size)):\n",
    "        x_batch, y_batch = dataset.get_train_batch(batch_size=batch_size)\n",
    "        c = torch.randn(x_batch.shape[0], 1)\n",
    "        x_batch_hat, c_hat = decoder(encoder(x_batch, c))\n",
    "        loss = criterion(input=x_batch_hat, target=x_batch.view(-1, 784))\n",
    "        loss_c = -torch.mean(c * torch.log(c_hat + 1e-8))\n",
    "        loss += loss_c\n",
    "        loss.backward()\n",
    "        opt.step()\n",
    "        opt.zero_grad()\n",
    "        \n",
    "        # get result every several number of steps\n",
    "        if e % int(num/batch_size) == 0:\n",
    "            cur_epoch = int(e / int(num/batch_size)) + 1\n",
    "            print(\"Epoch: {}; [Loss] : [{}]; [Loss C] : [{}]\".format(cur_epoch, loss, loss_c))\n",
    "            \n",
    "#     X_test_hat = decoder(encoder(X_test, c))\n",
    "#     loss_test = criterion(input=X_test_hat, target=X_test.view(-1,784))\n",
    "#     print(\"Test Loss: {}\".format(loss_test))"
   ]
  },
  {
   "cell_type": "code",
   "execution_count": 380,
   "metadata": {
    "ExecuteTime": {
     "end_time": "2019-09-26T17:38:37.222255Z",
     "start_time": "2019-09-26T17:36:30.643186Z"
    }
   },
   "outputs": [
    {
     "name": "stdout",
     "output_type": "stream",
     "text": [
      "Train set size: 60000; Test set size: 8000; Validation set size: 2000\n",
      "\n",
      "Epoch: 1; [Loss] : [0.18990525603294373]; [Loss C] : [-0.04125704616308212]\n",
      "Epoch: 2; [Loss] : [0.04321308806538582]; [Loss C] : [0.0020464949775487185]\n",
      "Epoch: 3; [Loss] : [0.029073918238282204]; [Loss C] : [0.0002194607222918421]\n",
      "Epoch: 4; [Loss] : [0.022864777594804764]; [Loss C] : [-7.751018529233988e-06]\n",
      "Epoch: 5; [Loss] : [0.020782077684998512]; [Loss C] : [9.183291695080698e-06]\n",
      "Epoch: 6; [Loss] : [0.017071044072508812]; [Loss C] : [-0.00013336502888705581]\n",
      "Epoch: 7; [Loss] : [0.017117073759436607]; [Loss C] : [-0.0004305468173697591]\n",
      "Epoch: 8; [Loss] : [0.017168687656521797]; [Loss C] : [4.6232551540015265e-05]\n",
      "Epoch: 9; [Loss] : [0.015721285715699196]; [Loss C] : [-2.5744937374838628e-05]\n",
      "Epoch: 10; [Loss] : [0.01638585887849331]; [Loss C] : [4.6525663492502645e-05]\n"
     ]
    }
   ],
   "source": [
    "dataset = Dataset(test_val_split=0.8,normalize=True) # normalize data to 0,1\n",
    "encoder = Encoder()\n",
    "decoder = Decoder()\n",
    "opt = torch.optim.Adam\n",
    "criterion = nn.MSELoss\n",
    "Train_AE(epochs=10, batch_size=256, learning_rate=5e-3, encoder=encoder, decoder=decoder,opt=opt, criterion=criterion, dataset=dataset)"
   ]
  },
  {
   "cell_type": "code",
   "execution_count": 376,
   "metadata": {
    "ExecuteTime": {
     "end_time": "2019-09-26T17:36:06.651270Z",
     "start_time": "2019-09-26T17:36:06.219831Z"
    }
   },
   "outputs": [
    {
     "data": {
      "image/png": "[encoded data removed]",
      "text/plain": [
       "<Figure size 432x288 with 16 Axes>"
      ]
     },
     "metadata": {
      "needs_background": "light"
     },
     "output_type": "display_data"
    }
   ],
   "source": [
    "for i in range(16):\n",
    "    plt.subplot(4,4,i+1)\n",
    "    plt.imshow(x_batch[i].detach(), cmap='gray')\n",
    "    plt.axis('off')"
   ]
  },
  {
   "cell_type": "code",
   "execution_count": 387,
   "metadata": {
    "ExecuteTime": {
     "end_time": "2019-09-26T18:09:41.317100Z",
     "start_time": "2019-09-26T18:09:40.953984Z"
    }
   },
   "outputs": [
    {
     "data": {
      "image/png": "[encoded data removed]",
      "text/plain": [
       "<Figure size 432x288 with 16 Axes>"
      ]
     },
     "metadata": {
      "needs_background": "light"
     },
     "output_type": "display_data"
    }
   ],
   "source": [
    "import matplotlib.pyplot as plt\n",
    "# x_batch, _ = dataset.get_train_batch(batch_size=16)\n",
    "c_=torch.zeros_like(c) + 1\n",
    "x_reconst,_ = decoder(encoder(x_batch.view(-1, 784),c_))\n",
    "\n",
    "for i in range(16):\n",
    "    plt.subplot(4,4,i+1)\n",
    "    plt.imshow(x_reconst[i].view(28,28).detach(), cmap='gray')\n",
    "    plt.axis('off')"
   ]
  },
  {
   "cell_type": "markdown",
   "metadata": {},
   "source": [
    "Since reconstruction loss is quite a strong restriction, so this might not work"
   ]
  },
  {
   "cell_type": "markdown",
   "metadata": {},
   "source": [
    "## part B: U-net "
   ]
  },
  {
   "cell_type": "code",
   "execution_count": 173,
   "metadata": {
    "ExecuteTime": {
     "end_time": "2019-09-26T05:21:55.783120Z",
     "start_time": "2019-09-26T05:21:55.775373Z"
    }
   },
   "outputs": [],
   "source": [
    "class U_net_generator(nn.Module):\n",
    "    def __init__(self, outer_dim, middle_dim, middle=None, outer_most=False):\n",
    "        super(U_net_generator, self).__init__()\n",
    "        \n",
    "        down_layer = [nn.Conv2d(outer_dim, middle_dim, 4,2,1)] # in, out, kernel, stride, padding\n",
    "        down_layer.append(nn.BatchNorm2d(num_features=middle_dim))\n",
    "        down_layer.append(nn.ReLU())\n",
    "        \n",
    "        up_layer = [nn.ConvTranspose2d(middle_dim, outer_dim, 4,2,1)]\n",
    "        up_layer.append(nn.BatchNorm2d(num_features=outer_dim))\n",
    "        if outer_most:\n",
    "            up_layer.append(nn.Tanh())\n",
    "        else:\n",
    "            up_layer.append(nn.ReLU())\n",
    "            \n",
    "        if middle == None:\n",
    "            self.layers = down_layer + up_layer\n",
    "        else:\n",
    "            self.layers = down_layer + [middle] + up_layer\n",
    "            \n",
    "        self.model = nn.Sequential(*self.layers)\n",
    "        \n",
    "    def forward(self, x):\n",
    "        return self.model(x) + x\n",
    "    \n",
    "net = U_net_generator(2,4)\n",
    "net = U_net_generator(1,2,net)"
   ]
  },
  {
   "cell_type": "code",
   "execution_count": 210,
   "metadata": {
    "ExecuteTime": {
     "end_time": "2019-09-26T05:44:44.039165Z",
     "start_time": "2019-09-26T05:44:44.034530Z"
    }
   },
   "outputs": [],
   "source": [
    "class middle_layer(nn.Module):\n",
    "    def __init__(self, outer_dim, middle_dim):\n",
    "        super(middle_layer, self).__init__()\n",
    "        down_layer = [nn.Conv2d(outer_dim, middle_dim, 4,2,1)] # in, out, kernel, stride, padding\n",
    "        down_layer.append(nn.BatchNorm2d(num_features=middle_dim))\n",
    "        down_layer.append(nn.ReLU())\n",
    "        \n",
    "        up_layer = [nn.ConvTranspose2d(middle_dim, outer_dim, 4,2,1)]\n",
    "        up_layer.append(nn.BatchNorm2d(num_features=outer_dim))\n",
    "        \n",
    "        layers = down_layer + up_layer\n",
    "        self.model = nn.Sequential(*layers)\n",
    "        \n",
    "        self.down_layer = down_layer\n",
    "        \n",
    "    def forward(self, x):\n",
    "        global code\n",
    "        code = nn.Sequential(*self.down_layer)(x)\n",
    "        return self.model(x) + x"
   ]
  },
  {
   "cell_type": "code",
   "execution_count": 209,
   "metadata": {
    "ExecuteTime": {
     "end_time": "2019-09-26T05:44:15.655447Z",
     "start_time": "2019-09-26T05:44:15.644266Z"
    }
   },
   "outputs": [],
   "source": [
    "img = torch.randn(64,3,64,64)"
   ]
  },
  {
   "cell_type": "code",
   "execution_count": 243,
   "metadata": {
    "ExecuteTime": {
     "end_time": "2019-09-26T05:52:23.322373Z",
     "start_time": "2019-09-26T05:52:23.316600Z"
    }
   },
   "outputs": [],
   "source": [
    "code = None\n",
    "img_dim = 3\n",
    "num = 2 # latent code res * 2^num = img res\n",
    "num = num-1 # condiering middle layer dim increase\n",
    "left = int(img_dim*(2 ** num))\n",
    "right = int(img_dim*(2 ** num))\n",
    "net = middle_layer(left, right)\n",
    "for i in range(num):\n",
    "    temp = left\n",
    "    left = int(left / 2)\n",
    "    right = temp\n",
    "    net = U_net_generator(left, right, net)"
   ]
  },
  {
   "cell_type": "code",
   "execution_count": 244,
   "metadata": {
    "ExecuteTime": {
     "end_time": "2019-09-26T05:52:30.567648Z",
     "start_time": "2019-09-26T05:52:30.518079Z"
    }
   },
   "outputs": [
    {
     "data": {
      "text/plain": [
       "torch.Size([64, 3, 64, 64])"
      ]
     },
     "execution_count": 244,
     "metadata": {},
     "output_type": "execute_result"
    }
   ],
   "source": [
    "net(img).shape"
   ]
  },
  {
   "cell_type": "code",
   "execution_count": 245,
   "metadata": {
    "ExecuteTime": {
     "end_time": "2019-09-26T05:52:31.198091Z",
     "start_time": "2019-09-26T05:52:31.193748Z"
    },
    "scrolled": true
   },
   "outputs": [
    {
     "data": {
      "text/plain": [
       "U_net_generator(\n",
       "  (model): Sequential(\n",
       "    (0): Conv2d(3, 6, kernel_size=(4, 4), stride=(2, 2), padding=(1, 1))\n",
       "    (1): BatchNorm2d(6, eps=1e-05, momentum=0.1, affine=True, track_running_stats=True)\n",
       "    (2): ReLU()\n",
       "    (3): middle_layer(\n",
       "      (model): Sequential(\n",
       "        (0): Conv2d(6, 6, kernel_size=(4, 4), stride=(2, 2), padding=(1, 1))\n",
       "        (1): BatchNorm2d(6, eps=1e-05, momentum=0.1, affine=True, track_running_stats=True)\n",
       "        (2): ReLU()\n",
       "        (3): ConvTranspose2d(6, 6, kernel_size=(4, 4), stride=(2, 2), padding=(1, 1))\n",
       "        (4): BatchNorm2d(6, eps=1e-05, momentum=0.1, affine=True, track_running_stats=True)\n",
       "      )\n",
       "    )\n",
       "    (4): ConvTranspose2d(6, 3, kernel_size=(4, 4), stride=(2, 2), padding=(1, 1))\n",
       "    (5): BatchNorm2d(3, eps=1e-05, momentum=0.1, affine=True, track_running_stats=True)\n",
       "    (6): ReLU()\n",
       "  )\n",
       ")"
      ]
     },
     "execution_count": 245,
     "metadata": {},
     "output_type": "execute_result"
    }
   ],
   "source": [
    "net"
   ]
  },
  {
   "cell_type": "code",
   "execution_count": 246,
   "metadata": {
    "ExecuteTime": {
     "end_time": "2019-09-26T05:52:33.221112Z",
     "start_time": "2019-09-26T05:52:33.217166Z"
    }
   },
   "outputs": [
    {
     "data": {
      "text/plain": [
       "torch.Size([64, 6, 16, 16])"
      ]
     },
     "execution_count": 246,
     "metadata": {},
     "output_type": "execute_result"
    }
   ],
   "source": [
    "code.shape"
   ]
  },
  {
   "cell_type": "code",
   "execution_count": 2,
   "metadata": {
    "ExecuteTime": {
     "end_time": "2019-09-27T04:16:49.159365Z",
     "start_time": "2019-09-27T04:16:48.519021Z"
    }
   },
   "outputs": [
    {
     "name": "stdout",
     "output_type": "stream",
     "text": [
      "Train set size: 60000; Test set size: 8000; Validation set size: 2000\n",
      "\n"
     ]
    }
   ],
   "source": [
    "from dataloader import MNIST_Dataset\n",
    "\n",
    "dataset = MNIST_Dataset(test_val_split=0.8, normalize=True)"
   ]
  }
 ],
 "metadata": {
  "kernelspec": {
   "display_name": "Python 3",
   "language": "python",
   "name": "python3"
  },
  "toc": {
   "base_numbering": 1,
   "nav_menu": {},
   "number_sections": true,
   "sideBar": true,
   "skip_h1_title": false,
   "title_cell": "Table of Contents",
   "title_sidebar": "Contents",
   "toc_cell": false,
   "toc_position": {},
   "toc_section_display": true,
   "toc_window_display": false
  },
  "varInspector": {
   "cols": {
    "lenName": 16,
    "lenType": 16,
    "lenVar": 40
   },
   "kernels_config": {
    "python": {
     "delete_cmd_postfix": "",
     "delete_cmd_prefix": "del ",
     "library": "var_list.py",
     "varRefreshCmd": "print(var_dic_list())"
    },
    "r": {
     "delete_cmd_postfix": ") ",
     "delete_cmd_prefix": "rm(",
     "library": "var_list.r",
     "varRefreshCmd": "cat(var_dic_list()) "
    }
   },
   "types_to_exclude": [
    "module",
    "function",
    "builtin_function_or_method",
    "instance",
    "_Feature"
   ],
   "window_display": false
  }
 },
 "nbformat": 4,
 "nbformat_minor": 2
}

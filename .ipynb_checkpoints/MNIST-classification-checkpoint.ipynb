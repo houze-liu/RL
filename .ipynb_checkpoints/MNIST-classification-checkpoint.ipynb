{
 "cells": [
  {
   "cell_type": "markdown",
   "metadata": {},
   "source": [
    "## imports"
   ]
  },
  {
   "cell_type": "code",
   "execution_count": 3,
   "metadata": {
    "ExecuteTime": {
     "end_time": "2019-09-15T04:42:11.401792Z",
     "start_time": "2019-09-15T04:42:06.834384Z"
    }
   },
   "outputs": [],
   "source": [
    "import torch\n",
    "import torch.nn as nn\n",
    "import tensorflow as tf\n",
    "import torchvision.datasets as ds\n",
    "import numpy as np"
   ]
  },
  {
   "cell_type": "markdown",
   "metadata": {},
   "source": [
    "## process data: MNIST \n",
    "先不要急着做改动，先充分熟悉流程，建立相对完备的流程，然后再做一些相应的改动"
   ]
  },
  {
   "cell_type": "code",
   "execution_count": null,
   "metadata": {},
   "outputs": [],
   "source": [
    "# python 是如何进行初始化class的？"
   ]
  },
  {
   "cell_type": "code",
   "execution_count": 401,
   "metadata": {
    "ExecuteTime": {
     "end_time": "2019-09-20T13:17:52.136167Z",
     "start_time": "2019-09-20T13:17:52.127037Z"
    }
   },
   "outputs": [],
   "source": [
    "class Dataset():\n",
    "    def __init__(self, test_val_split=0.5, normalize=True):\n",
    "        \"\"\"\n",
    "        arg:\n",
    "            test_val_split: the proportion of data_test is used for test data\n",
    "        \"\"\"\n",
    "        self.idx = 0\n",
    "        self.ds = ds\n",
    "        self.ratio = test_val_split\n",
    "        \n",
    "        self._extract_train_test_data()\n",
    "        self._test_val_split()\n",
    "        if normalize:\n",
    "            self._normalize()\n",
    "    \n",
    "    def _extract_train_test_data(self):\n",
    "        data_train = self.ds.MNIST(root='/Users/ellise/Desktop/datasets/MNIST_data/', train=True, download=False)\n",
    "        data_test = self.ds.MNIST(root='/Users/ellise/Desktop/datasets/MNIST_data/', train=False, download=False)\n",
    "        self.X_train, self.y_train = data_train.train_data.float(), data_train.train_labels\n",
    "        self.X_test, self.y_test = data_test.test_data.float(), data_test.test_labels\n",
    "        self.num_instances_test = self.X_test.shape[0]\n",
    "        \n",
    "    def _test_val_split(self):\n",
    "        \"\"\"\n",
    "        split test and validation set according to split ratio and total_size\n",
    "        \"\"\"\n",
    "        split_idx = self.num_instances_test - int(self.num_instances_test * self.ratio)\n",
    "        self.X_val, self.y_val = self.X_test[:split_idx], self.y_test[:split_idx]\n",
    "        self.X_test, self.y_test = self.X_test[split_idx:], self.y_test[split_idx:]\n",
    "        print(\"Train set size: {}; Test set size: {}; Validation set size: {}\".format(self.X_train.shape[0],\\\n",
    "                                                                                     self.X_test.shape[0],\\\n",
    "                                                                                     self.X_val.shape[0]))\n",
    "        \n",
    "    def get_train_batch(self, batch_size):\n",
    "        idx_start = self.idx\n",
    "        idx_end = self.idx + batch_size\n",
    "        self.idx += batch_size\n",
    "\n",
    "        if(self.idx >= self.X_train.shape[0]):\n",
    "            self.idx = 0\n",
    "            idx_list = np.linspace(0,self.X_train.shape[0]-1,self.X_train.shape[0])\n",
    "            idx_list_shuffle = np.random.shuffle(np.linspace(0,self.X_train.shape[0]-1,self.X_train.shape[0]))\n",
    "\n",
    "            self.X_train[idx_list] = self.X_train[idx_list_shuffle]\n",
    "            self.y_train[idx_list] = self.y_train[idx_list_shuffle]\n",
    "        return (self.X_train[idx_start:idx_end], self.y_train[idx_start:idx_end])\n",
    "    \n",
    "    def _normalize(self):\n",
    "        def squash(X):\n",
    "            # put data into 0-1\n",
    "            return (X - torch.min(X)) / (torch.max(X) - torch.min(X))\n",
    "        self.X_train = squash(self.X_train)\n",
    "        print()\n",
    "        self.X_test = squash(self.X_test)\n",
    "        self.X_val = squash(self.X_val)\n",
    "        \n",
    "    def get_test_data(self):\n",
    "        return (self.X_test, self.y_test)\n",
    "        \n",
    "    def get_validation_data(self):\n",
    "        return (self.X_val, self.y_val)\n",
    "    \n",
    "    def get_num_of_instances_in_train(self):\n",
    "        # used for return how many instances in training set in total\n",
    "        return self.X_train.shape[0]\n",
    "    \n",
    "    def get_test_set_size(self):\n",
    "        return self.X_test.shape[0]\n",
    "    \n",
    "    def get_val_set_size(self):\n",
    "        return self.X_val.shape[0]"
   ]
  },
  {
   "cell_type": "markdown",
   "metadata": {},
   "source": [
    "## define network"
   ]
  },
  {
   "cell_type": "code",
   "execution_count": 156,
   "metadata": {
    "ExecuteTime": {
     "end_time": "2019-09-16T05:03:43.415914Z",
     "start_time": "2019-09-16T05:03:43.410743Z"
    }
   },
   "outputs": [],
   "source": [
    "class Classifier(nn.Module):\n",
    "    def __init__(self):\n",
    "        super(Classifier,self).__init__()\n",
    "        layers = [nn.Linear(in_features=784, out_features=512),\n",
    "                  nn.ReLU(inplace=True),\n",
    "                  nn.Linear(in_features=512, out_features=128),\n",
    "                  nn.ReLU(inplace=True),\n",
    "                  nn.Linear(in_features=128, out_features=10)]\n",
    "        self.model = nn.Sequential(*layers)\n",
    "\n",
    "    def forward(self, x):\n",
    "        return self.model(x.view(-1, 784))"
   ]
  },
  {
   "cell_type": "markdown",
   "metadata": {},
   "source": [
    "## Define some helper functions to get results"
   ]
  },
  {
   "cell_type": "code",
   "execution_count": 157,
   "metadata": {
    "ExecuteTime": {
     "end_time": "2019-09-16T05:03:44.407973Z",
     "start_time": "2019-09-16T05:03:44.403273Z"
    }
   },
   "outputs": [],
   "source": [
    "def get_predictions(y_score):\n",
    "    \"\"\"\n",
    "    arg: y_hat of scores for each class of one instance\n",
    "    return: index of highest score for this instance\n",
    "    \"\"\"\n",
    "    return y_score.detach().numpy().tolist().index(max(y_score))\n",
    "\n",
    "def get_accuracy(pred, target):\n",
    "    batch_size = len(pred)\n",
    "    count = 0\n",
    "    for i in range(batch_size):\n",
    "        if pred[i] == target[i]:\n",
    "            count += 1\n",
    "    return count / batch_size\n",
    "\n",
    "def get_acc_result(y_score, y_target):\n",
    "    y_hat = [get_predictions(y) for y in y_score]\n",
    "    acc = get_accuracy(pred=y_hat, target=y_target)\n",
    "    return acc"
   ]
  },
  {
   "cell_type": "markdown",
   "metadata": {},
   "source": [
    "## Training(0.984/0.978/0.969)"
   ]
  },
  {
   "cell_type": "code",
   "execution_count": 167,
   "metadata": {
    "ExecuteTime": {
     "end_time": "2019-09-16T05:07:59.718412Z",
     "start_time": "2019-09-16T05:07:59.711591Z"
    }
   },
   "outputs": [],
   "source": [
    "def Train(epochs, batch_size, learning_rate, model, opt, criterion, dataset):\n",
    "    opt = opt(lr=learning_rate, params=model.parameters()) \n",
    "    criterion = criterion()\n",
    "    \n",
    "    num = dataset.get_num_of_instances_in_train()\n",
    "    \n",
    "    X_test, y_test = dataset.get_test_data()\n",
    "    X_val, y_val = dataset.get_validation_data()\n",
    "    # define results\n",
    "    results = {}\n",
    "    results[\"acc_train\"] = []\n",
    "    results[\"acc_test\"] = []\n",
    "    results[\"acc_validation\"] = None\n",
    "    \n",
    "    for e in range(epochs * int(num / batch_size)):\n",
    "        x_batch, y_batch = dataset.get_train_batch(batch_size=batch_size)\n",
    "        y_score_train = model(x_batch)\n",
    "        loss = criterion(input=y_score_train, target=y_batch)\n",
    "        loss.backward()\n",
    "        opt.step()\n",
    "        opt.zero_grad()\n",
    "        \n",
    "        # get result every several number of steps\n",
    "        if e % int(num/batch_size) == 0:\n",
    "            cur_epoch = int(e / int(num/batch_size)) + 1\n",
    "            acc_train = get_acc_result(y_score_train, y_batch)\n",
    "\n",
    "            y_score_test = model(X_test)\n",
    "            acc_test = get_acc_result(y_score_test, y_test)\n",
    "            \n",
    "            print(\"Epoch: {}; [Train/Test] : [{:.3}/{:.3}]\".format(cur_epoch, acc_train, acc_test))\n",
    "            results[\"acc_train\"].append(acc_train)\n",
    "            results[\"acc_test\"].append(acc_test)\n",
    "            \n",
    "    y_score_val = model(X_val)\n",
    "    acc_val = get_acc_result(y_score_val, y_val)\n",
    "    results[\"acc_validation\"] = acc_val\n",
    "    print(\"******Finished! Validation acc: {:.3}******\".format(acc_val))\n",
    "    print(\"Traing/Test/Validation : {}/{}/{}\".format(num, dataset.get_test_set_size(), dataset.get_val_set_size()))\n",
    "    \n",
    "    return results"
   ]
  },
  {
   "cell_type": "code",
   "execution_count": 215,
   "metadata": {
    "ExecuteTime": {
     "end_time": "2019-09-16T14:29:21.539948Z",
     "start_time": "2019-09-16T14:28:29.275184Z"
    }
   },
   "outputs": [
    {
     "name": "stdout",
     "output_type": "stream",
     "text": [
      "Train set size: 60000; Test set size: 8000; Validation set size: 2000\n",
      "Epoch: 1; [Train/Test] : [0.113/0.376]\n",
      "Epoch: 2; [Train/Test] : [0.906/0.894]\n",
      "Epoch: 3; [Train/Test] : [0.906/0.92]\n",
      "Epoch: 4; [Train/Test] : [0.914/0.934]\n",
      "Epoch: 5; [Train/Test] : [0.93/0.945]\n",
      "Epoch: 6; [Train/Test] : [0.957/0.95]\n",
      "Epoch: 7; [Train/Test] : [0.979/0.948]\n",
      "Epoch: 8; [Train/Test] : [0.969/0.956]\n",
      "Epoch: 9; [Train/Test] : [0.965/0.962]\n",
      "Epoch: 10; [Train/Test] : [0.953/0.962]\n",
      "Epoch: 11; [Train/Test] : [0.965/0.962]\n",
      "Epoch: 12; [Train/Test] : [0.953/0.964]\n",
      "Epoch: 13; [Train/Test] : [0.965/0.968]\n",
      "Epoch: 14; [Train/Test] : [0.961/0.966]\n",
      "Epoch: 15; [Train/Test] : [0.977/0.969]\n",
      "Epoch: 16; [Train/Test] : [0.969/0.968]\n",
      "Epoch: 17; [Train/Test] : [0.965/0.969]\n",
      "Epoch: 18; [Train/Test] : [0.926/0.967]\n",
      "Epoch: 19; [Train/Test] : [0.996/0.971]\n",
      "Epoch: 20; [Train/Test] : [0.965/0.971]\n",
      "Epoch: 21; [Train/Test] : [0.969/0.973]\n",
      "Epoch: 22; [Train/Test] : [0.973/0.973]\n",
      "Epoch: 23; [Train/Test] : [0.938/0.973]\n",
      "Epoch: 24; [Train/Test] : [0.98/0.973]\n",
      "Epoch: 25; [Train/Test] : [0.988/0.973]\n",
      "Epoch: 26; [Train/Test] : [0.988/0.972]\n",
      "Epoch: 27; [Train/Test] : [0.98/0.976]\n",
      "Epoch: 28; [Train/Test] : [0.992/0.975]\n",
      "Epoch: 29; [Train/Test] : [0.992/0.976]\n",
      "Epoch: 30; [Train/Test] : [0.957/0.975]\n",
      "Epoch: 31; [Train/Test] : [1.0/0.975]\n",
      "Epoch: 32; [Train/Test] : [0.965/0.973]\n",
      "Epoch: 33; [Train/Test] : [0.996/0.976]\n",
      "Epoch: 34; [Train/Test] : [0.984/0.976]\n",
      "Epoch: 35; [Train/Test] : [0.984/0.978]\n",
      "Epoch: 36; [Train/Test] : [0.992/0.976]\n",
      "Epoch: 37; [Train/Test] : [0.98/0.976]\n",
      "Epoch: 38; [Train/Test] : [0.984/0.977]\n",
      "Epoch: 39; [Train/Test] : [0.992/0.978]\n",
      "Epoch: 40; [Train/Test] : [0.988/0.977]\n",
      "Epoch: 41; [Train/Test] : [0.98/0.979]\n",
      "Epoch: 42; [Train/Test] : [0.988/0.978]\n",
      "Epoch: 43; [Train/Test] : [1.0/0.978]\n",
      "Epoch: 44; [Train/Test] : [0.98/0.978]\n",
      "Epoch: 45; [Train/Test] : [0.992/0.979]\n",
      "Epoch: 46; [Train/Test] : [0.988/0.977]\n",
      "Epoch: 47; [Train/Test] : [0.992/0.979]\n",
      "Epoch: 48; [Train/Test] : [1.0/0.978]\n",
      "Epoch: 49; [Train/Test] : [0.996/0.978]\n",
      "Epoch: 50; [Train/Test] : [0.984/0.978]\n",
      "******Finished! Validation acc: 0.969******\n",
      "Traing/Test/Validation : 10000/8000/2000\n"
     ]
    }
   ],
   "source": [
    "dataset = Dataset(0.8)           \n",
    "classifier = Classifier()\n",
    "opt = torch.optim.Adagrad\n",
    "criterion = torch.nn.CrossEntropyLoss\n",
    "results = Train(epochs=50, batch_size=256, learning_rate=1e-2, model=classifier, opt=opt, criterion=criterion, dataset=dataset)"
   ]
  },
  {
   "cell_type": "code",
   "execution_count": 217,
   "metadata": {
    "ExecuteTime": {
     "end_time": "2019-09-16T14:30:19.802650Z",
     "start_time": "2019-09-16T14:30:19.680942Z"
    }
   },
   "outputs": [
    {
     "name": "stderr",
     "output_type": "stream",
     "text": [
      "/Users/ellise/anaconda2/envs/py36/lib/python3.6/site-packages/matplotlib/cbook/deprecation.py:107: MatplotlibDeprecationWarning: Adding an axes using the same arguments as a previous axes currently reuses the earlier instance.  In a future version, a new instance will always be created and returned.  Meanwhile, this warning can be suppressed, and the future behavior ensured, by passing a unique label to each axes instance.\n",
      "  warnings.warn(message, mplDeprecation, stacklevel=1)\n"
     ]
    },
    {
     "data": {
      "image/png": "[encoded data removed]",
      "text/plain": [
       "<Figure size 720x432 with 1 Axes>"
      ]
     },
     "metadata": {
      "needs_background": "light"
     },
     "output_type": "display_data"
    }
   ],
   "source": [
    "import matplotlib.pyplot as plt\n",
    "\n",
    "def plot_results(results):\n",
    "    plt.figure(figsize=(10,6))\n",
    "    epoch = len(results[\"acc_train\"])\n",
    "    x = np.linspace(1, epoch, epoch)\n",
    "    plt.plot(x, results[\"acc_train\"], color=\"b\")\n",
    "    plt.plot(x, results[\"acc_test\"], color=\"r\")\n",
    "    plt.hlines(results[\"acc_validation\"], xmin=1,xmax=epoch)\n",
    "    \n",
    "    ax = plt.axes()\n",
    "    box = ax.get_position()\n",
    "    ax.set_position([box.x0, box.y0, box.width * 0.8, box.height])\n",
    "\n",
    "    # Put a legend to the right of the current axis\n",
    "    ax.legend([\"Train\", \"Test\", \"Validation\"],loc='center left', bbox_to_anchor=(1, 0.5), prop={'size':15})\n",
    "    plt.xlabel(\"epoch\")\n",
    "    plt.title(\"Accuracy\")\n",
    "    plt.show()\n",
    "\n",
    "plot_results(results)"
   ]
  },
  {
   "cell_type": "markdown",
   "metadata": {},
   "source": [
    "## Constrast Normalization\n",
    "Preprocess images to have better properties"
   ]
  },
  {
   "cell_type": "code",
   "execution_count": 173,
   "metadata": {
    "ExecuteTime": {
     "end_time": "2019-09-16T05:51:34.094499Z",
     "start_time": "2019-09-16T05:51:34.088906Z"
    }
   },
   "outputs": [],
   "source": [
    "class CN():\n",
    "    def __init__(self, dataset):\n",
    "        # the purpose of this class is to help preprocess dataset as in the arg\n",
    "        self.dataset = dataset\n",
    "        self._convert_train()\n",
    "        self._convert_test()\n",
    "        self._convert_val()\n",
    "        \n",
    "        \n",
    "    def _contrast_transformation(self, img):\n",
    "        # contrast is just std\n",
    "        mean = torch.mean(img)\n",
    "        contrast = torch.std(img)\n",
    "        return (img - mean) / max(contrast, 1e-8) # to avoid 0\n",
    "        \n",
    "    def _convert_train(self):\n",
    "        self.dataset.X_train = torch.Tensor([self._contrast_transformation(img).numpy() for img in self.dataset.X_train])\n",
    "        \n",
    "    def _convert_test(self):\n",
    "        self.dataset.X_test = torch.Tensor([self._contrast_transformation(img).numpy() for img in self.dataset.X_test])\n",
    "        \n",
    "    def _convert_val(self):\n",
    "        self.dataset.X_val = torch.Tensor([self._contrast_transformation(img).numpy() for img in self.dataset.X_val])"
   ]
  },
  {
   "cell_type": "code",
   "execution_count": 216,
   "metadata": {
    "ExecuteTime": {
     "end_time": "2019-09-16T14:30:19.473144Z",
     "start_time": "2019-09-16T14:29:21.749483Z"
    }
   },
   "outputs": [
    {
     "name": "stdout",
     "output_type": "stream",
     "text": [
      "Train set size: 60000; Test set size: 8000; Validation set size: 2000\n",
      "Epoch: 1; [Train/Test] : [0.117/0.297]\n",
      "Epoch: 2; [Train/Test] : [0.918/0.914]\n",
      "Epoch: 3; [Train/Test] : [0.934/0.934]\n",
      "Epoch: 4; [Train/Test] : [0.93/0.945]\n",
      "Epoch: 5; [Train/Test] : [0.945/0.953]\n",
      "Epoch: 6; [Train/Test] : [0.957/0.961]\n",
      "Epoch: 7; [Train/Test] : [0.979/0.949]\n",
      "Epoch: 8; [Train/Test] : [0.984/0.962]\n",
      "Epoch: 9; [Train/Test] : [0.973/0.97]\n",
      "Epoch: 10; [Train/Test] : [0.965/0.97]\n",
      "Epoch: 11; [Train/Test] : [0.973/0.968]\n",
      "Epoch: 12; [Train/Test] : [0.965/0.97]\n",
      "Epoch: 13; [Train/Test] : [0.969/0.973]\n",
      "Epoch: 14; [Train/Test] : [0.977/0.974]\n",
      "Epoch: 15; [Train/Test] : [0.992/0.977]\n",
      "Epoch: 16; [Train/Test] : [0.984/0.977]\n",
      "Epoch: 17; [Train/Test] : [0.98/0.974]\n",
      "Epoch: 18; [Train/Test] : [0.961/0.974]\n",
      "Epoch: 19; [Train/Test] : [0.996/0.978]\n",
      "Epoch: 20; [Train/Test] : [0.969/0.978]\n",
      "Epoch: 21; [Train/Test] : [0.977/0.98]\n",
      "Epoch: 22; [Train/Test] : [0.984/0.98]\n",
      "Epoch: 23; [Train/Test] : [0.984/0.978]\n",
      "Epoch: 24; [Train/Test] : [0.992/0.979]\n",
      "Epoch: 25; [Train/Test] : [0.996/0.979]\n",
      "Epoch: 26; [Train/Test] : [0.984/0.977]\n",
      "Epoch: 27; [Train/Test] : [0.992/0.982]\n",
      "Epoch: 28; [Train/Test] : [0.988/0.982]\n",
      "Epoch: 29; [Train/Test] : [0.996/0.982]\n",
      "Epoch: 30; [Train/Test] : [0.969/0.98]\n",
      "Epoch: 31; [Train/Test] : [1.0/0.979]\n",
      "Epoch: 32; [Train/Test] : [0.98/0.979]\n",
      "Epoch: 33; [Train/Test] : [0.996/0.982]\n",
      "Epoch: 34; [Train/Test] : [0.996/0.982]\n",
      "Epoch: 35; [Train/Test] : [0.996/0.983]\n",
      "Epoch: 36; [Train/Test] : [0.996/0.981]\n",
      "Epoch: 37; [Train/Test] : [0.992/0.98]\n",
      "Epoch: 38; [Train/Test] : [0.996/0.982]\n",
      "Epoch: 39; [Train/Test] : [0.996/0.983]\n",
      "Epoch: 40; [Train/Test] : [0.996/0.983]\n",
      "Epoch: 41; [Train/Test] : [0.992/0.984]\n",
      "Epoch: 42; [Train/Test] : [0.996/0.982]\n",
      "Epoch: 43; [Train/Test] : [1.0/0.982]\n",
      "Epoch: 44; [Train/Test] : [0.988/0.982]\n",
      "Epoch: 45; [Train/Test] : [0.992/0.984]\n",
      "Epoch: 46; [Train/Test] : [0.996/0.983]\n",
      "Epoch: 47; [Train/Test] : [0.996/0.983]\n",
      "Epoch: 48; [Train/Test] : [1.0/0.983]\n",
      "Epoch: 49; [Train/Test] : [1.0/0.983]\n",
      "Epoch: 50; [Train/Test] : [0.992/0.982]\n",
      "******Finished! Validation acc: 0.974******\n",
      "Traing/Test/Validation : 10000/8000/2000\n"
     ]
    }
   ],
   "source": [
    "dataset = Dataset(0.8)           \n",
    "CN(dataset=dataset) # only adding CN transofrmation to dataset\n",
    "classifier = Classifier() # build up model\n",
    "opt = torch.optim.Adagrad\n",
    "criterion = torch.nn.CrossEntropyLoss\n",
    "results_contrast = Train(epochs=50, batch_size=256, learning_rate=1e-2, model=classifier, opt=opt, criterion=criterion, dataset=dataset)"
   ]
  },
  {
   "cell_type": "code",
   "execution_count": 218,
   "metadata": {
    "ExecuteTime": {
     "end_time": "2019-09-16T14:30:20.130799Z",
     "start_time": "2019-09-16T14:30:20.015618Z"
    }
   },
   "outputs": [
    {
     "name": "stderr",
     "output_type": "stream",
     "text": [
      "/Users/ellise/anaconda2/envs/py36/lib/python3.6/site-packages/matplotlib/cbook/deprecation.py:107: MatplotlibDeprecationWarning: Adding an axes using the same arguments as a previous axes currently reuses the earlier instance.  In a future version, a new instance will always be created and returned.  Meanwhile, this warning can be suppressed, and the future behavior ensured, by passing a unique label to each axes instance.\n",
      "  warnings.warn(message, mplDeprecation, stacklevel=1)\n"
     ]
    },
    {
     "data": {
      "image/png": "[encoded data removed]",
      "text/plain": [
       "<Figure size 720x432 with 1 Axes>"
      ]
     },
     "metadata": {
      "needs_background": "light"
     },
     "output_type": "display_data"
    }
   ],
   "source": [
    "plot_results(results_contrast)"
   ]
  },
  {
   "cell_type": "markdown",
   "metadata": {},
   "source": [
    "## Train Auto-Encoder To Get Latent Code And Train Classifier On Latent Code"
   ]
  },
  {
   "cell_type": "markdown",
   "metadata": {},
   "source": [
    "### Define A Auto-Encoder Network and Train it"
   ]
  },
  {
   "cell_type": "code",
   "execution_count": 250,
   "metadata": {
    "ExecuteTime": {
     "end_time": "2019-09-17T14:55:01.800689Z",
     "start_time": "2019-09-17T14:55:01.794297Z"
    }
   },
   "outputs": [],
   "source": [
    "class Encoder(nn.Module):\n",
    "    def __init__(self):\n",
    "        super(Encoder, self).__init__()\n",
    "        layers = []\n",
    "        layers.append(nn.Linear(in_features=784, out_features=512))\n",
    "        layers.append(nn.ReLU(inplace=True))\n",
    "        layers.append(nn.Linear(in_features=512, out_features=256))\n",
    "        layers.append(nn.ReLU(inplace=True))\n",
    "        layers.append(nn.Linear(in_features=256, out_features=10))\n",
    "        self.model = nn.Sequential(*layers)\n",
    "        \n",
    "    def forward(self, x):\n",
    "        return self.model(x.view(-1, 784))\n",
    "    \n",
    "class Decoder(nn.Module):\n",
    "    def __init__(self):\n",
    "        super(Decoder, self).__init__()\n",
    "        layers = []\n",
    "        layers.append(nn.Linear(in_features=10, out_features=256))\n",
    "        layers.append(nn.ReLU(inplace=True))\n",
    "        layers.append(nn.Linear(in_features=256, out_features=512))\n",
    "        layers.append(nn.ReLU(inplace=True))\n",
    "        layers.append(nn.Linear(in_features=512, out_features=784))\n",
    "        layers.append(nn.Sigmoid())\n",
    "        self.model = nn.Sequential(*layers)\n",
    "        \n",
    "    def forward(self, z):\n",
    "        return self.model(z) "
   ]
  },
  {
   "cell_type": "code",
   "execution_count": 289,
   "metadata": {
    "ExecuteTime": {
     "end_time": "2019-09-17T15:18:28.327596Z",
     "start_time": "2019-09-17T15:18:28.321647Z"
    }
   },
   "outputs": [],
   "source": [
    "def Train_AE(epochs, batch_size, learning_rate, encoder, decoder, opt, criterion, dataset):\n",
    "    param = list(encoder.parameters()) + list(decoder.parameters())\n",
    "    opt = opt(lr=learning_rate, params=param) \n",
    "    criterion = criterion()\n",
    "    \n",
    "    num = dataset.get_num_of_instances_in_train()\n",
    "    \n",
    "    X_test, y_test = dataset.get_test_data()\n",
    "    \n",
    "    for e in range(epochs * int(num / batch_size)):\n",
    "        x_batch, y_batch = dataset.get_train_batch(batch_size=batch_size)\n",
    "        x_batch_hat = decoder(encoder(x_batch))\n",
    "        loss = criterion(input=x_batch_hat, target=x_batch.view(-1, 784))\n",
    "        loss.backward()\n",
    "        opt.step()\n",
    "        opt.zero_grad()\n",
    "        \n",
    "        # get result every several number of steps\n",
    "        if e % int(num/batch_size) == 0:\n",
    "            cur_epoch = int(e / int(num/batch_size)) + 1\n",
    "            print(\"Epoch: {}; [Loss] : [{}]\".format(cur_epoch, loss))\n",
    "            \n",
    "    X_test_hat = decoder(encoder(X_test))\n",
    "    loss_test = criterion(input=X_test_hat, target=X_test.view(-1,784))\n",
    "    print(\"Test Loss: {}\".format(loss_test))"
   ]
  },
  {
   "cell_type": "code",
   "execution_count": 290,
   "metadata": {
    "ExecuteTime": {
     "end_time": "2019-09-17T15:19:58.035514Z",
     "start_time": "2019-09-17T15:18:28.726052Z"
    },
    "scrolled": true
   },
   "outputs": [
    {
     "name": "stdout",
     "output_type": "stream",
     "text": [
      "Train set size: 60000; Test set size: 8000; Validation set size: 2000\n",
      "Epoch: 1; [Loss] : [0.23093105852603912]\n",
      "Epoch: 2; [Loss] : [0.06134575605392456]\n",
      "Epoch: 3; [Loss] : [0.05958554893732071]\n",
      "Epoch: 4; [Loss] : [0.04725509136915207]\n",
      "Epoch: 5; [Loss] : [0.03722343593835831]\n",
      "Epoch: 6; [Loss] : [0.03157776966691017]\n",
      "Epoch: 7; [Loss] : [0.0318424366414547]\n",
      "Epoch: 8; [Loss] : [0.027654007077217102]\n",
      "Epoch: 9; [Loss] : [0.02906573936343193]\n",
      "Epoch: 10; [Loss] : [0.025201529264450073]\n",
      "Epoch: 11; [Loss] : [0.025976885110139847]\n",
      "Epoch: 12; [Loss] : [0.024514175951480865]\n",
      "Epoch: 13; [Loss] : [0.021953213959932327]\n",
      "Epoch: 14; [Loss] : [0.023697666823863983]\n",
      "Epoch: 15; [Loss] : [0.01899244263768196]\n",
      "Epoch: 16; [Loss] : [0.0193423293530941]\n",
      "Epoch: 17; [Loss] : [0.019459886476397514]\n",
      "Epoch: 18; [Loss] : [0.02163897082209587]\n",
      "Epoch: 19; [Loss] : [0.017230259254574776]\n",
      "Epoch: 20; [Loss] : [0.01932567171752453]\n",
      "Epoch: 21; [Loss] : [0.018554581329226494]\n",
      "Epoch: 22; [Loss] : [0.017633626237511635]\n",
      "Epoch: 23; [Loss] : [0.017456313595175743]\n",
      "Epoch: 24; [Loss] : [0.018016695976257324]\n",
      "Epoch: 25; [Loss] : [0.01760941743850708]\n",
      "Epoch: 26; [Loss] : [0.01641222834587097]\n",
      "Epoch: 27; [Loss] : [0.01611105538904667]\n",
      "Epoch: 28; [Loss] : [0.018853848800063133]\n",
      "Epoch: 29; [Loss] : [0.015555528923869133]\n",
      "Epoch: 30; [Loss] : [0.01863069459795952]\n",
      "Epoch: 31; [Loss] : [0.01478748582303524]\n",
      "Epoch: 32; [Loss] : [0.01648234762251377]\n",
      "Epoch: 33; [Loss] : [0.01514021772891283]\n",
      "Epoch: 34; [Loss] : [0.015976279973983765]\n",
      "Epoch: 35; [Loss] : [0.016422050073742867]\n",
      "Epoch: 36; [Loss] : [0.01648620516061783]\n",
      "Epoch: 37; [Loss] : [0.015594870783388615]\n",
      "Epoch: 38; [Loss] : [0.01698707975447178]\n",
      "Epoch: 39; [Loss] : [0.01716092973947525]\n",
      "Epoch: 40; [Loss] : [0.01568659581243992]\n",
      "Epoch: 41; [Loss] : [0.015830835327506065]\n",
      "Epoch: 42; [Loss] : [0.016286714002490044]\n",
      "Epoch: 43; [Loss] : [0.015490473248064518]\n",
      "Epoch: 44; [Loss] : [0.014732548035681248]\n",
      "Epoch: 45; [Loss] : [0.013125662691891193]\n",
      "Epoch: 46; [Loss] : [0.01608014665544033]\n",
      "Epoch: 47; [Loss] : [0.0165892131626606]\n",
      "Epoch: 48; [Loss] : [0.015958823263645172]\n",
      "Epoch: 49; [Loss] : [0.014325713738799095]\n",
      "Epoch: 50; [Loss] : [0.01387324370443821]\n",
      "Test Loss: 0.015124515630304813\n"
     ]
    }
   ],
   "source": [
    "dataset = Dataset(test_val_split=0.8,normalize=True) # normalize data to 0,1\n",
    "encoder = Encoder()\n",
    "decoder = Decoder()\n",
    "opt = torch.optim.Adam\n",
    "criterion = nn.MSELoss\n",
    "Train_AE(epochs=50, batch_size=256, learning_rate=5e-3, encoder=encoder, decoder=decoder,opt=opt, criterion=criterion, dataset=dataset)"
   ]
  },
  {
   "cell_type": "markdown",
   "metadata": {},
   "source": [
    "### Take a look at the reconstructed images"
   ]
  },
  {
   "cell_type": "code",
   "execution_count": 287,
   "metadata": {
    "ExecuteTime": {
     "end_time": "2019-09-17T15:17:01.802087Z",
     "start_time": "2019-09-17T15:17:01.423841Z"
    }
   },
   "outputs": [
    {
     "data": {
      "image/png": "[encoded data removed]",
      "text/plain": [
       "<Figure size 432x288 with 16 Axes>"
      ]
     },
     "metadata": {
      "needs_background": "light"
     },
     "output_type": "display_data"
    }
   ],
   "source": [
    "x_batch, _ = dataset.get_train_batch(batch_size=16)\n",
    "x_reconst = decoder(encoder(x_batch.view(-1, 784)))\n",
    "\n",
    "for i in range(16):\n",
    "    plt.subplot(4,4,i+1)\n",
    "    plt.imshow(x_reconst[i].view(28,28).detach(), cmap='gray')\n",
    "    plt.axis('off')\n"
   ]
  },
  {
   "cell_type": "code",
   "execution_count": 288,
   "metadata": {
    "ExecuteTime": {
     "end_time": "2019-09-17T15:17:02.648475Z",
     "start_time": "2019-09-17T15:17:02.136650Z"
    }
   },
   "outputs": [
    {
     "data": {
      "image/png": "[encoded data removed]",
      "text/plain": [
       "<Figure size 432x288 with 16 Axes>"
      ]
     },
     "metadata": {
      "needs_background": "light"
     },
     "output_type": "display_data"
    }
   ],
   "source": [
    "for i in range(16):\n",
    "    plt.subplot(4,4,i+1)\n",
    "    plt.imshow(x_batch[i].detach(), cmap='gray')\n",
    "    plt.axis('off')"
   ]
  },
  {
   "cell_type": "markdown",
   "metadata": {},
   "source": [
    "### Using Latent Code To Train Classifier"
   ]
  },
  {
   "cell_type": "code",
   "execution_count": 317,
   "metadata": {
    "ExecuteTime": {
     "end_time": "2019-09-18T14:41:02.868304Z",
     "start_time": "2019-09-18T14:41:02.864056Z"
    }
   },
   "outputs": [],
   "source": [
    "class Classifier_AE(nn.Module):\n",
    "    def __init__(self):\n",
    "        super(Classifier_AE,self).__init__()\n",
    "        layers = [nn.Linear(in_features=10, out_features=512),\n",
    "                  nn.ReLU(inplace=True),\n",
    "                  nn.Linear(in_features=512, out_features=128),\n",
    "                  nn.ReLU(inplace=True),\n",
    "                  nn.Linear(in_features=128, out_features=10)]\n",
    "        self.model = nn.Sequential(*layers)\n",
    "\n",
    "    def forward(self, x):\n",
    "        return self.model(x)"
   ]
  },
  {
   "cell_type": "code",
   "execution_count": 308,
   "metadata": {
    "ExecuteTime": {
     "end_time": "2019-09-17T15:27:39.171217Z",
     "start_time": "2019-09-17T15:27:03.140815Z"
    }
   },
   "outputs": [
    {
     "name": "stdout",
     "output_type": "stream",
     "text": [
      "Train set size: 60000; Test set size: 8000; Validation set size: 2000\n",
      "Epoch: 1; [Train/Test] : [0.0859/0.494]\n",
      "Epoch: 2; [Train/Test] : [0.918/0.928]\n",
      "Epoch: 3; [Train/Test] : [0.906/0.937]\n",
      "Epoch: 4; [Train/Test] : [0.93/0.942]\n",
      "Epoch: 5; [Train/Test] : [0.941/0.947]\n",
      "Epoch: 6; [Train/Test] : [0.965/0.949]\n",
      "Epoch: 7; [Train/Test] : [0.969/0.943]\n",
      "Epoch: 8; [Train/Test] : [0.961/0.95]\n",
      "Epoch: 9; [Train/Test] : [0.934/0.955]\n",
      "Epoch: 10; [Train/Test] : [0.957/0.954]\n",
      "Epoch: 11; [Train/Test] : [0.934/0.954]\n",
      "Epoch: 12; [Train/Test] : [0.941/0.955]\n",
      "Epoch: 13; [Train/Test] : [0.949/0.956]\n",
      "Epoch: 14; [Train/Test] : [0.949/0.956]\n",
      "Epoch: 15; [Train/Test] : [0.953/0.957]\n",
      "Epoch: 16; [Train/Test] : [0.961/0.957]\n",
      "Epoch: 17; [Train/Test] : [0.957/0.957]\n",
      "Epoch: 18; [Train/Test] : [0.906/0.957]\n",
      "Epoch: 19; [Train/Test] : [0.988/0.958]\n",
      "Epoch: 20; [Train/Test] : [0.945/0.957]\n",
      "Epoch: 21; [Train/Test] : [0.949/0.959]\n",
      "Epoch: 22; [Train/Test] : [0.941/0.958]\n",
      "Epoch: 23; [Train/Test] : [0.945/0.957]\n",
      "Epoch: 24; [Train/Test] : [0.98/0.959]\n",
      "Epoch: 25; [Train/Test] : [0.949/0.96]\n",
      "Epoch: 26; [Train/Test] : [0.969/0.957]\n",
      "Epoch: 27; [Train/Test] : [0.98/0.96]\n",
      "Epoch: 28; [Train/Test] : [0.957/0.96]\n",
      "Epoch: 29; [Train/Test] : [0.977/0.959]\n",
      "Epoch: 30; [Train/Test] : [0.922/0.96]\n",
      "Epoch: 31; [Train/Test] : [0.996/0.959]\n",
      "Epoch: 32; [Train/Test] : [0.93/0.959]\n",
      "Epoch: 33; [Train/Test] : [0.984/0.962]\n",
      "Epoch: 34; [Train/Test] : [0.957/0.961]\n",
      "Epoch: 35; [Train/Test] : [0.953/0.96]\n",
      "Epoch: 36; [Train/Test] : [0.949/0.961]\n",
      "Epoch: 37; [Train/Test] : [0.973/0.96]\n",
      "Epoch: 38; [Train/Test] : [0.957/0.958]\n",
      "Epoch: 39; [Train/Test] : [0.961/0.962]\n",
      "Epoch: 40; [Train/Test] : [0.949/0.962]\n",
      "Epoch: 41; [Train/Test] : [0.977/0.958]\n",
      "Epoch: 42; [Train/Test] : [0.965/0.963]\n",
      "Epoch: 43; [Train/Test] : [0.984/0.962]\n",
      "Epoch: 44; [Train/Test] : [0.945/0.96]\n",
      "Epoch: 45; [Train/Test] : [0.969/0.963]\n",
      "Epoch: 46; [Train/Test] : [0.969/0.962]\n",
      "Epoch: 47; [Train/Test] : [0.969/0.96]\n",
      "Epoch: 48; [Train/Test] : [0.949/0.962]\n",
      "Epoch: 49; [Train/Test] : [0.984/0.962]\n",
      "Epoch: 50; [Train/Test] : [0.973/0.961]\n",
      "******Finished! Validation acc: 0.949******\n",
      "Traing/Test/Validation : 10000/8000/2000\n"
     ]
    }
   ],
   "source": [
    "dataset = Dataset(test_val_split=0.8,normalize=True) # normalize data to 0,1\n",
    "dataset.X_train = encoder(dataset.X_train).detach()\n",
    "dataset.X_test = encoder(dataset.X_test).detach()\n",
    "dataset.X_val = encoder(dataset.X_val).detach()\n",
    "classifier_ae = Classifier_AE()\n",
    "opt = torch.optim.Adagrad\n",
    "criterion = torch.nn.CrossEntropyLoss\n",
    "result_ae = Train(epochs=50, batch_size=256, learning_rate=1e-2, model=classifier_ae, opt=opt, criterion=criterion, dataset=dataset)"
   ]
  },
  {
   "cell_type": "code",
   "execution_count": 309,
   "metadata": {
    "ExecuteTime": {
     "end_time": "2019-09-17T15:28:04.854099Z",
     "start_time": "2019-09-17T15:28:04.707667Z"
    },
    "scrolled": false
   },
   "outputs": [
    {
     "name": "stderr",
     "output_type": "stream",
     "text": [
      "/Users/ellise/anaconda2/envs/py36/lib/python3.6/site-packages/matplotlib/cbook/deprecation.py:107: MatplotlibDeprecationWarning: Adding an axes using the same arguments as a previous axes currently reuses the earlier instance.  In a future version, a new instance will always be created and returned.  Meanwhile, this warning can be suppressed, and the future behavior ensured, by passing a unique label to each axes instance.\n",
      "  warnings.warn(message, mplDeprecation, stacklevel=1)\n"
     ]
    },
    {
     "data": {
      "image/png": "[encoded data removed]",
      "text/plain": [
       "<Figure size 720x432 with 1 Axes>"
      ]
     },
     "metadata": {
      "needs_background": "light"
     },
     "output_type": "display_data"
    }
   ],
   "source": [
    "plot_results(result_ae)"
   ]
  },
  {
   "cell_type": "markdown",
   "metadata": {},
   "source": [
    "## Change layer units or activation functions "
   ]
  },
  {
   "cell_type": "code",
   "execution_count": 313,
   "metadata": {
    "ExecuteTime": {
     "end_time": "2019-09-18T14:38:29.623215Z",
     "start_time": "2019-09-18T14:38:29.618837Z"
    }
   },
   "outputs": [],
   "source": [
    "class Classifier_sigmoid(nn.Module):\n",
    "    def __init__(self):\n",
    "        super(Classifier_sigmoid,self).__init__()\n",
    "        layers = [nn.Linear(in_features=784, out_features=512),\n",
    "                  nn.Sigmoid(),\n",
    "                  nn.Linear(in_features=512, out_features=128),\n",
    "                  nn.Sigmoid(),\n",
    "                  nn.Linear(in_features=128, out_features=10)]\n",
    "        self.model = nn.Sequential(*layers)\n",
    "\n",
    "    def forward(self, x):\n",
    "        return self.model(x.view(-1, 784))"
   ]
  },
  {
   "cell_type": "code",
   "execution_count": 315,
   "metadata": {
    "ExecuteTime": {
     "end_time": "2019-09-18T14:39:37.742726Z",
     "start_time": "2019-09-18T14:38:43.377691Z"
    },
    "scrolled": false
   },
   "outputs": [
    {
     "name": "stdout",
     "output_type": "stream",
     "text": [
      "Train set size: 60000; Test set size: 8000; Validation set size: 2000\n",
      "Epoch: 1; [Train/Test] : [0.102/0.113]\n",
      "Epoch: 2; [Train/Test] : [0.836/0.837]\n",
      "Epoch: 3; [Train/Test] : [0.844/0.885]\n",
      "Epoch: 4; [Train/Test] : [0.852/0.898]\n",
      "Epoch: 5; [Train/Test] : [0.883/0.908]\n",
      "Epoch: 6; [Train/Test] : [0.902/0.915]\n",
      "Epoch: 7; [Train/Test] : [0.917/0.914]\n",
      "Epoch: 8; [Train/Test] : [0.922/0.92]\n",
      "Epoch: 9; [Train/Test] : [0.945/0.925]\n",
      "Epoch: 10; [Train/Test] : [0.871/0.925]\n",
      "Epoch: 11; [Train/Test] : [0.926/0.927]\n",
      "Epoch: 12; [Train/Test] : [0.922/0.931]\n",
      "Epoch: 13; [Train/Test] : [0.953/0.931]\n",
      "Epoch: 14; [Train/Test] : [0.941/0.932]\n",
      "Epoch: 15; [Train/Test] : [0.953/0.936]\n",
      "Epoch: 16; [Train/Test] : [0.949/0.935]\n",
      "Epoch: 17; [Train/Test] : [0.938/0.938]\n",
      "Epoch: 18; [Train/Test] : [0.867/0.937]\n",
      "Epoch: 19; [Train/Test] : [0.969/0.939]\n",
      "Epoch: 20; [Train/Test] : [0.906/0.94]\n",
      "Epoch: 21; [Train/Test] : [0.953/0.94]\n",
      "Epoch: 22; [Train/Test] : [0.934/0.943]\n",
      "Epoch: 23; [Train/Test] : [0.902/0.942]\n",
      "Epoch: 24; [Train/Test] : [0.957/0.942]\n",
      "Epoch: 25; [Train/Test] : [0.957/0.944]\n",
      "Epoch: 26; [Train/Test] : [0.949/0.945]\n",
      "Epoch: 27; [Train/Test] : [0.938/0.944]\n",
      "Epoch: 28; [Train/Test] : [0.941/0.947]\n",
      "Epoch: 29; [Train/Test] : [0.969/0.946]\n",
      "Epoch: 30; [Train/Test] : [0.914/0.945]\n",
      "Epoch: 31; [Train/Test] : [0.996/0.948]\n",
      "Epoch: 32; [Train/Test] : [0.898/0.947]\n",
      "Epoch: 33; [Train/Test] : [0.949/0.948]\n",
      "Epoch: 34; [Train/Test] : [0.969/0.949]\n",
      "Epoch: 35; [Train/Test] : [0.957/0.949]\n",
      "Epoch: 36; [Train/Test] : [0.961/0.948]\n",
      "Epoch: 37; [Train/Test] : [0.965/0.951]\n",
      "Epoch: 38; [Train/Test] : [0.922/0.95]\n",
      "Epoch: 39; [Train/Test] : [0.957/0.951]\n",
      "Epoch: 40; [Train/Test] : [0.941/0.952]\n",
      "Epoch: 41; [Train/Test] : [0.945/0.952]\n",
      "Epoch: 42; [Train/Test] : [0.961/0.951]\n",
      "Epoch: 43; [Train/Test] : [0.988/0.953]\n",
      "Epoch: 44; [Train/Test] : [0.953/0.952]\n",
      "Epoch: 45; [Train/Test] : [0.969/0.953]\n",
      "Epoch: 46; [Train/Test] : [0.957/0.954]\n",
      "Epoch: 47; [Train/Test] : [0.941/0.955]\n",
      "Epoch: 48; [Train/Test] : [0.953/0.954]\n",
      "Epoch: 49; [Train/Test] : [0.988/0.954]\n",
      "Epoch: 50; [Train/Test] : [0.961/0.955]\n",
      "******Finished! Validation acc: 0.933******\n",
      "Traing/Test/Validation : 10000/8000/2000\n"
     ]
    }
   ],
   "source": [
    "dataset = Dataset(0.8)           \n",
    "classifier_sigmoid = Classifier_sigmoid()\n",
    "opt = torch.optim.Adagrad\n",
    "criterion = torch.nn.CrossEntropyLoss\n",
    "results_sigmoid = Train(epochs=50, batch_size=256, learning_rate=1e-2, model=classifier_sigmoid, opt=opt, criterion=criterion, dataset=dataset)"
   ]
  },
  {
   "cell_type": "code",
   "execution_count": 316,
   "metadata": {
    "ExecuteTime": {
     "end_time": "2019-09-18T14:39:55.915896Z",
     "start_time": "2019-09-18T14:39:55.766624Z"
    }
   },
   "outputs": [
    {
     "name": "stderr",
     "output_type": "stream",
     "text": [
      "/Users/ellise/anaconda2/envs/py36/lib/python3.6/site-packages/matplotlib/cbook/deprecation.py:107: MatplotlibDeprecationWarning: Adding an axes using the same arguments as a previous axes currently reuses the earlier instance.  In a future version, a new instance will always be created and returned.  Meanwhile, this warning can be suppressed, and the future behavior ensured, by passing a unique label to each axes instance.\n",
      "  warnings.warn(message, mplDeprecation, stacklevel=1)\n"
     ]
    },
    {
     "data": {
      "image/png": "[encoded data removed]",
      "text/plain": [
       "<Figure size 720x432 with 1 Axes>"
      ]
     },
     "metadata": {
      "needs_background": "light"
     },
     "output_type": "display_data"
    }
   ],
   "source": [
    "plot_results(results_sigmoid)"
   ]
  },
  {
   "cell_type": "markdown",
   "metadata": {},
   "source": [
    "## Adding Batch Normalization layer(1/0.985/0.978)"
   ]
  },
  {
   "cell_type": "code",
   "execution_count": 329,
   "metadata": {
    "ExecuteTime": {
     "end_time": "2019-09-18T14:48:26.127052Z",
     "start_time": "2019-09-18T14:48:26.121377Z"
    }
   },
   "outputs": [],
   "source": [
    "class Classifier_BN(nn.Module):\n",
    "    def __init__(self):\n",
    "        super(Classifier_BN,self).__init__()\n",
    "        layers = [nn.Linear(in_features=784, out_features=512),\n",
    "                  nn.BatchNorm1d(num_features=512),\n",
    "                  nn.ReLU(inplace=True),\n",
    "                  nn.Linear(in_features=512, out_features=128),\n",
    "                  nn.BatchNorm1d(num_features=128),\n",
    "                  nn.ReLU(inplace=True),\n",
    "                  nn.Linear(in_features=128, out_features=10)]\n",
    "        self.model = nn.Sequential(*layers)\n",
    "\n",
    "    def forward(self, x):\n",
    "        return self.model(x.view(-1, 784))"
   ]
  },
  {
   "cell_type": "code",
   "execution_count": 330,
   "metadata": {
    "ExecuteTime": {
     "end_time": "2019-09-18T14:49:49.360576Z",
     "start_time": "2019-09-18T14:48:26.779312Z"
    }
   },
   "outputs": [
    {
     "name": "stdout",
     "output_type": "stream",
     "text": [
      "Train set size: 60000; Test set size: 8000; Validation set size: 2000\n",
      "Epoch: 1; [Train/Test] : [0.113/0.666]\n",
      "Epoch: 2; [Train/Test] : [0.938/0.942]\n",
      "Epoch: 3; [Train/Test] : [0.941/0.957]\n",
      "Epoch: 4; [Train/Test] : [0.945/0.966]\n",
      "Epoch: 5; [Train/Test] : [0.965/0.971]\n",
      "Epoch: 6; [Train/Test] : [0.98/0.971]\n",
      "Epoch: 7; [Train/Test] : [0.979/0.975]\n",
      "Epoch: 8; [Train/Test] : [0.98/0.978]\n",
      "Epoch: 9; [Train/Test] : [0.984/0.978]\n",
      "Epoch: 10; [Train/Test] : [0.977/0.982]\n",
      "Epoch: 11; [Train/Test] : [0.984/0.981]\n",
      "Epoch: 12; [Train/Test] : [0.961/0.98]\n",
      "Epoch: 13; [Train/Test] : [0.977/0.98]\n",
      "Epoch: 14; [Train/Test] : [0.988/0.981]\n",
      "Epoch: 15; [Train/Test] : [0.996/0.982]\n",
      "Epoch: 16; [Train/Test] : [1.0/0.984]\n",
      "Epoch: 17; [Train/Test] : [0.996/0.984]\n",
      "Epoch: 18; [Train/Test] : [0.992/0.981]\n",
      "Epoch: 19; [Train/Test] : [1.0/0.982]\n",
      "Epoch: 20; [Train/Test] : [0.996/0.982]\n",
      "Epoch: 21; [Train/Test] : [1.0/0.984]\n",
      "Epoch: 22; [Train/Test] : [1.0/0.985]\n",
      "Epoch: 23; [Train/Test] : [0.988/0.984]\n",
      "Epoch: 24; [Train/Test] : [0.996/0.984]\n",
      "Epoch: 25; [Train/Test] : [1.0/0.983]\n",
      "Epoch: 26; [Train/Test] : [0.996/0.983]\n",
      "Epoch: 27; [Train/Test] : [1.0/0.984]\n",
      "Epoch: 28; [Train/Test] : [1.0/0.985]\n",
      "Epoch: 29; [Train/Test] : [1.0/0.985]\n",
      "Epoch: 30; [Train/Test] : [1.0/0.984]\n",
      "Epoch: 31; [Train/Test] : [1.0/0.984]\n",
      "Epoch: 32; [Train/Test] : [1.0/0.984]\n",
      "Epoch: 33; [Train/Test] : [1.0/0.985]\n",
      "Epoch: 34; [Train/Test] : [1.0/0.985]\n",
      "Epoch: 35; [Train/Test] : [0.996/0.985]\n",
      "Epoch: 36; [Train/Test] : [1.0/0.984]\n",
      "Epoch: 37; [Train/Test] : [1.0/0.984]\n",
      "Epoch: 38; [Train/Test] : [1.0/0.985]\n",
      "Epoch: 39; [Train/Test] : [1.0/0.985]\n",
      "Epoch: 40; [Train/Test] : [1.0/0.985]\n",
      "Epoch: 41; [Train/Test] : [1.0/0.986]\n",
      "Epoch: 42; [Train/Test] : [1.0/0.984]\n",
      "Epoch: 43; [Train/Test] : [1.0/0.984]\n",
      "Epoch: 44; [Train/Test] : [1.0/0.985]\n",
      "Epoch: 45; [Train/Test] : [1.0/0.985]\n",
      "Epoch: 46; [Train/Test] : [1.0/0.985]\n",
      "Epoch: 47; [Train/Test] : [1.0/0.986]\n",
      "Epoch: 48; [Train/Test] : [1.0/0.984]\n",
      "Epoch: 49; [Train/Test] : [1.0/0.984]\n",
      "Epoch: 50; [Train/Test] : [1.0/0.985]\n",
      "******Finished! Validation acc: 0.978******\n",
      "Traing/Test/Validation : 10000/8000/2000\n"
     ]
    }
   ],
   "source": [
    "dataset = Dataset(0.8)           \n",
    "classifier_BN = Classifier_BN()\n",
    "opt = torch.optim.Adagrad\n",
    "criterion = torch.nn.CrossEntropyLoss\n",
    "results_sigmoid = Train(epochs=50, batch_size=256, learning_rate=1e-2, model=classifier_BN, opt=opt, criterion=criterion, dataset=dataset)"
   ]
  },
  {
   "cell_type": "markdown",
   "metadata": {},
   "source": [
    "## Adding more layers hence more parameters(1/0.981/0.971)"
   ]
  },
  {
   "cell_type": "code",
   "execution_count": 332,
   "metadata": {
    "ExecuteTime": {
     "end_time": "2019-09-18T15:08:30.782830Z",
     "start_time": "2019-09-18T15:08:30.776508Z"
    }
   },
   "outputs": [],
   "source": [
    "class Classifier_adding_layers(nn.Module):\n",
    "    def __init__(self):\n",
    "        super(Classifier_adding_layers,self).__init__()\n",
    "        layers = [nn.Linear(in_features=784, out_features=512),\n",
    "                  nn.ReLU(inplace=True),\n",
    "                  nn.Linear(in_features=512, out_features=512),\n",
    "                  nn.ReLU(inplace=True),\n",
    "                  nn.Linear(in_features=512, out_features=256),\n",
    "                  nn.ReLU(inplace=True),\n",
    "                  nn.Linear(in_features=256, out_features=128),\n",
    "                  nn.ReLU(inplace=True),\n",
    "                  nn.Linear(in_features=128, out_features=10)]\n",
    "        self.model = nn.Sequential(*layers)\n",
    "\n",
    "    def forward(self, x):\n",
    "        return self.model(x.view(-1, 784))"
   ]
  },
  {
   "cell_type": "code",
   "execution_count": 335,
   "metadata": {
    "ExecuteTime": {
     "end_time": "2019-09-18T15:12:03.118828Z",
     "start_time": "2019-09-18T15:10:58.187690Z"
    }
   },
   "outputs": [
    {
     "name": "stdout",
     "output_type": "stream",
     "text": [
      "Train set size: 60000; Test set size: 8000; Validation set size: 2000\n",
      "Epoch: 1; [Train/Test] : [0.102/0.1]\n",
      "Epoch: 2; [Train/Test] : [0.852/0.85]\n",
      "Epoch: 3; [Train/Test] : [0.891/0.919]\n",
      "Epoch: 4; [Train/Test] : [0.895/0.931]\n",
      "Epoch: 5; [Train/Test] : [0.941/0.942]\n",
      "Epoch: 6; [Train/Test] : [0.949/0.957]\n",
      "Epoch: 7; [Train/Test] : [0.958/0.949]\n",
      "Epoch: 8; [Train/Test] : [0.973/0.965]\n",
      "Epoch: 9; [Train/Test] : [0.961/0.969]\n",
      "Epoch: 10; [Train/Test] : [0.957/0.971]\n",
      "Epoch: 11; [Train/Test] : [0.973/0.968]\n",
      "Epoch: 12; [Train/Test] : [0.949/0.967]\n",
      "Epoch: 13; [Train/Test] : [0.965/0.974]\n",
      "Epoch: 14; [Train/Test] : [0.969/0.973]\n",
      "Epoch: 15; [Train/Test] : [0.988/0.976]\n",
      "Epoch: 16; [Train/Test] : [0.988/0.977]\n",
      "Epoch: 17; [Train/Test] : [0.988/0.974]\n",
      "Epoch: 18; [Train/Test] : [0.957/0.972]\n",
      "Epoch: 19; [Train/Test] : [1.0/0.978]\n",
      "Epoch: 20; [Train/Test] : [0.98/0.976]\n",
      "Epoch: 21; [Train/Test] : [0.977/0.979]\n",
      "Epoch: 22; [Train/Test] : [0.98/0.98]\n",
      "Epoch: 23; [Train/Test] : [0.965/0.975]\n",
      "Epoch: 24; [Train/Test] : [0.984/0.978]\n",
      "Epoch: 25; [Train/Test] : [0.988/0.978]\n",
      "Epoch: 26; [Train/Test] : [0.984/0.976]\n",
      "Epoch: 27; [Train/Test] : [0.992/0.982]\n",
      "Epoch: 28; [Train/Test] : [0.996/0.98]\n",
      "Epoch: 29; [Train/Test] : [1.0/0.982]\n",
      "Epoch: 30; [Train/Test] : [0.973/0.977]\n",
      "Epoch: 31; [Train/Test] : [1.0/0.977]\n",
      "Epoch: 32; [Train/Test] : [0.973/0.978]\n",
      "Epoch: 33; [Train/Test] : [0.996/0.982]\n",
      "Epoch: 34; [Train/Test] : [0.996/0.98]\n",
      "Epoch: 35; [Train/Test] : [0.992/0.982]\n",
      "Epoch: 36; [Train/Test] : [0.996/0.978]\n",
      "Epoch: 37; [Train/Test] : [0.996/0.979]\n",
      "Epoch: 38; [Train/Test] : [0.996/0.98]\n",
      "Epoch: 39; [Train/Test] : [1.0/0.983]\n",
      "Epoch: 40; [Train/Test] : [0.996/0.98]\n",
      "Epoch: 41; [Train/Test] : [0.992/0.982]\n",
      "Epoch: 42; [Train/Test] : [0.996/0.98]\n",
      "Epoch: 43; [Train/Test] : [1.0/0.982]\n",
      "Epoch: 44; [Train/Test] : [0.992/0.98]\n",
      "Epoch: 45; [Train/Test] : [0.996/0.982]\n",
      "Epoch: 46; [Train/Test] : [0.996/0.981]\n",
      "Epoch: 47; [Train/Test] : [1.0/0.982]\n",
      "Epoch: 48; [Train/Test] : [1.0/0.979]\n",
      "Epoch: 49; [Train/Test] : [1.0/0.981]\n",
      "Epoch: 50; [Train/Test] : [1.0/0.981]\n",
      "******Finished! Validation acc: 0.971******\n",
      "Traing/Test/Validation : 10000/8000/2000\n"
     ]
    }
   ],
   "source": [
    "dataset = Dataset(0.8)           \n",
    "classifier_add = Classifier_adding_layers()\n",
    "opt = torch.optim.Adagrad\n",
    "criterion = torch.nn.CrossEntropyLoss\n",
    "results_add = Train(epochs=50, batch_size=256, learning_rate=1e-2, model=classifier_add, opt=opt, criterion=criterion, dataset=dataset)"
   ]
  },
  {
   "cell_type": "code",
   "execution_count": 336,
   "metadata": {
    "ExecuteTime": {
     "end_time": "2019-09-18T15:12:03.698078Z",
     "start_time": "2019-09-18T15:12:03.535598Z"
    }
   },
   "outputs": [
    {
     "name": "stderr",
     "output_type": "stream",
     "text": [
      "/Users/ellise/anaconda2/envs/py36/lib/python3.6/site-packages/matplotlib/cbook/deprecation.py:107: MatplotlibDeprecationWarning: Adding an axes using the same arguments as a previous axes currently reuses the earlier instance.  In a future version, a new instance will always be created and returned.  Meanwhile, this warning can be suppressed, and the future behavior ensured, by passing a unique label to each axes instance.\n",
      "  warnings.warn(message, mplDeprecation, stacklevel=1)\n"
     ]
    },
    {
     "data": {
      "image/png": "[encoded data removed]",
      "text/plain": [
       "<Figure size 720x432 with 1 Axes>"
      ]
     },
     "metadata": {
      "needs_background": "light"
     },
     "output_type": "display_data"
    }
   ],
   "source": [
    "plot_results(results_add)"
   ]
  },
  {
   "cell_type": "markdown",
   "metadata": {},
   "source": [
    "## Trying SGD optimizer"
   ]
  },
  {
   "cell_type": "code",
   "execution_count": 338,
   "metadata": {
    "ExecuteTime": {
     "end_time": "2019-09-19T03:22:09.301083Z",
     "start_time": "2019-09-19T03:21:18.282656Z"
    }
   },
   "outputs": [
    {
     "name": "stdout",
     "output_type": "stream",
     "text": [
      "Train set size: 60000; Test set size: 8000; Validation set size: 2000\n",
      "Epoch: 1; [Train/Test] : [0.121/0.105]\n",
      "Epoch: 2; [Train/Test] : [0.191/0.185]\n",
      "Epoch: 3; [Train/Test] : [0.227/0.226]\n",
      "Epoch: 4; [Train/Test] : [0.215/0.28]\n",
      "Epoch: 5; [Train/Test] : [0.402/0.373]\n",
      "Epoch: 6; [Train/Test] : [0.5/0.424]\n",
      "Epoch: 7; [Train/Test] : [0.333/0.479]\n",
      "Epoch: 8; [Train/Test] : [0.629/0.544]\n",
      "Epoch: 9; [Train/Test] : [0.609/0.573]\n",
      "Epoch: 10; [Train/Test] : [0.508/0.606]\n",
      "Epoch: 11; [Train/Test] : [0.602/0.635]\n",
      "Epoch: 12; [Train/Test] : [0.59/0.673]\n",
      "Epoch: 13; [Train/Test] : [0.758/0.705]\n",
      "Epoch: 14; [Train/Test] : [0.742/0.725]\n",
      "Epoch: 15; [Train/Test] : [0.727/0.734]\n",
      "Epoch: 16; [Train/Test] : [0.707/0.766]\n",
      "Epoch: 17; [Train/Test] : [0.727/0.78]\n",
      "Epoch: 18; [Train/Test] : [0.684/0.793]\n",
      "Epoch: 19; [Train/Test] : [0.855/0.804]\n",
      "Epoch: 20; [Train/Test] : [0.77/0.807]\n",
      "Epoch: 21; [Train/Test] : [0.812/0.815]\n",
      "Epoch: 22; [Train/Test] : [0.832/0.826]\n",
      "Epoch: 23; [Train/Test] : [0.777/0.83]\n",
      "Epoch: 24; [Train/Test] : [0.832/0.831]\n",
      "Epoch: 25; [Train/Test] : [0.859/0.841]\n",
      "Epoch: 26; [Train/Test] : [0.867/0.843]\n",
      "Epoch: 27; [Train/Test] : [0.812/0.849]\n",
      "Epoch: 28; [Train/Test] : [0.797/0.855]\n",
      "Epoch: 29; [Train/Test] : [0.898/0.856]\n",
      "Epoch: 30; [Train/Test] : [0.727/0.858]\n",
      "Epoch: 31; [Train/Test] : [0.961/0.862]\n",
      "Epoch: 32; [Train/Test] : [0.797/0.865]\n",
      "Epoch: 33; [Train/Test] : [0.902/0.868]\n",
      "Epoch: 34; [Train/Test] : [0.871/0.874]\n",
      "Epoch: 35; [Train/Test] : [0.883/0.875]\n",
      "Epoch: 36; [Train/Test] : [0.895/0.875]\n",
      "Epoch: 37; [Train/Test] : [0.926/0.879]\n",
      "Epoch: 38; [Train/Test] : [0.867/0.882]\n",
      "Epoch: 39; [Train/Test] : [0.895/0.881]\n",
      "Epoch: 40; [Train/Test] : [0.867/0.885]\n",
      "Epoch: 41; [Train/Test] : [0.844/0.886]\n",
      "Epoch: 42; [Train/Test] : [0.906/0.887]\n",
      "Epoch: 43; [Train/Test] : [0.906/0.89]\n",
      "Epoch: 44; [Train/Test] : [0.871/0.891]\n",
      "Epoch: 45; [Train/Test] : [0.887/0.892]\n",
      "Epoch: 46; [Train/Test] : [0.895/0.894]\n",
      "Epoch: 47; [Train/Test] : [0.836/0.894]\n",
      "Epoch: 48; [Train/Test] : [0.879/0.896]\n",
      "Epoch: 49; [Train/Test] : [0.945/0.897]\n",
      "Epoch: 50; [Train/Test] : [0.891/0.898]\n",
      "******Finished! Validation acc: 0.863******\n",
      "Traing/Test/Validation : 10000/8000/2000\n"
     ]
    }
   ],
   "source": [
    "dataset = Dataset(0.8)           \n",
    "classifier_SGD = Classifier()\n",
    "opt = torch.optim.SGD\n",
    "criterion = torch.nn.CrossEntropyLoss\n",
    "results_sgd = Train(epochs=50, batch_size=256, learning_rate=1e-2, model=classifier_SGD, opt=opt, criterion=criterion, dataset=dataset)"
   ]
  },
  {
   "cell_type": "code",
   "execution_count": 339,
   "metadata": {
    "ExecuteTime": {
     "end_time": "2019-09-19T03:22:11.238768Z",
     "start_time": "2019-09-19T03:22:11.082511Z"
    },
    "scrolled": false
   },
   "outputs": [
    {
     "name": "stderr",
     "output_type": "stream",
     "text": [
      "/Users/ellise/anaconda2/envs/py36/lib/python3.6/site-packages/matplotlib/cbook/deprecation.py:107: MatplotlibDeprecationWarning: Adding an axes using the same arguments as a previous axes currently reuses the earlier instance.  In a future version, a new instance will always be created and returned.  Meanwhile, this warning can be suppressed, and the future behavior ensured, by passing a unique label to each axes instance.\n",
      "  warnings.warn(message, mplDeprecation, stacklevel=1)\n"
     ]
    },
    {
     "data": {
      "image/png": "[encoded data removed]",
      "text/plain": [
       "<Figure size 720x432 with 1 Axes>"
      ]
     },
     "metadata": {
      "needs_background": "light"
     },
     "output_type": "display_data"
    }
   ],
   "source": [
    "plot_results(results_sgd) # 收敛更慢， 最终准确率也低一些，效果没有ADAM好"
   ]
  },
  {
   "cell_type": "code",
   "execution_count": 342,
   "metadata": {
    "ExecuteTime": {
     "end_time": "2019-09-19T03:26:25.410487Z",
     "start_time": "2019-09-19T03:25:35.651198Z"
    }
   },
   "outputs": [
    {
     "name": "stdout",
     "output_type": "stream",
     "text": [
      "Train set size: 60000; Test set size: 8000; Validation set size: 2000\n",
      "Epoch: 1; [Train/Test] : [0.102/0.115]\n",
      "Epoch: 2; [Train/Test] : [0.84/0.766]\n",
      "Epoch: 3; [Train/Test] : [0.84/0.868]\n",
      "Epoch: 4; [Train/Test] : [0.848/0.901]\n",
      "Epoch: 5; [Train/Test] : [0.883/0.919]\n",
      "Epoch: 6; [Train/Test] : [0.926/0.94]\n",
      "Epoch: 7; [Train/Test] : [0.958/0.933]\n",
      "Epoch: 8; [Train/Test] : [0.965/0.953]\n",
      "Epoch: 9; [Train/Test] : [0.961/0.96]\n",
      "Epoch: 10; [Train/Test] : [0.926/0.959]\n",
      "Epoch: 11; [Train/Test] : [0.961/0.963]\n",
      "Epoch: 12; [Train/Test] : [0.945/0.958]\n",
      "Epoch: 13; [Train/Test] : [0.961/0.967]\n",
      "Epoch: 14; [Train/Test] : [0.973/0.968]\n",
      "Epoch: 15; [Train/Test] : [0.973/0.972]\n",
      "Epoch: 16; [Train/Test] : [0.977/0.971]\n",
      "Epoch: 17; [Train/Test] : [0.973/0.972]\n",
      "Epoch: 18; [Train/Test] : [0.938/0.97]\n",
      "Epoch: 19; [Train/Test] : [1.0/0.975]\n",
      "Epoch: 20; [Train/Test] : [0.98/0.975]\n",
      "Epoch: 21; [Train/Test] : [0.973/0.977]\n",
      "Epoch: 22; [Train/Test] : [0.977/0.976]\n",
      "Epoch: 23; [Train/Test] : [0.957/0.963]\n",
      "Epoch: 24; [Train/Test] : [0.984/0.977]\n",
      "Epoch: 25; [Train/Test] : [0.992/0.977]\n",
      "Epoch: 26; [Train/Test] : [0.98/0.973]\n",
      "Epoch: 27; [Train/Test] : [0.98/0.979]\n",
      "Epoch: 28; [Train/Test] : [0.988/0.979]\n",
      "Epoch: 29; [Train/Test] : [0.992/0.981]\n",
      "Epoch: 30; [Train/Test] : [0.969/0.977]\n",
      "Epoch: 31; [Train/Test] : [1.0/0.976]\n",
      "Epoch: 32; [Train/Test] : [0.973/0.973]\n",
      "Epoch: 33; [Train/Test] : [0.996/0.981]\n",
      "Epoch: 34; [Train/Test] : [0.996/0.98]\n",
      "Epoch: 35; [Train/Test] : [0.992/0.982]\n",
      "Epoch: 36; [Train/Test] : [0.996/0.981]\n",
      "Epoch: 37; [Train/Test] : [0.988/0.977]\n",
      "Epoch: 38; [Train/Test] : [0.992/0.982]\n",
      "Epoch: 39; [Train/Test] : [0.992/0.982]\n",
      "Epoch: 40; [Train/Test] : [0.992/0.981]\n",
      "Epoch: 41; [Train/Test] : [0.98/0.983]\n",
      "Epoch: 42; [Train/Test] : [1.0/0.982]\n",
      "Epoch: 43; [Train/Test] : [1.0/0.98]\n",
      "Epoch: 44; [Train/Test] : [0.984/0.981]\n",
      "Epoch: 45; [Train/Test] : [0.996/0.984]\n",
      "Epoch: 46; [Train/Test] : [0.996/0.982]\n",
      "Epoch: 47; [Train/Test] : [0.996/0.983]\n",
      "Epoch: 48; [Train/Test] : [1.0/0.981]\n",
      "Epoch: 49; [Train/Test] : [1.0/0.982]\n",
      "Epoch: 50; [Train/Test] : [0.996/0.981]\n",
      "******Finished! Validation acc: 0.971******\n",
      "Traing/Test/Validation : 10000/8000/2000\n"
     ]
    }
   ],
   "source": [
    "# 加大learning rate， 考虑收敛可能比较慢\n",
    "dataset = Dataset(0.8)           \n",
    "classifier_SGD = Classifier()\n",
    "opt = torch.optim.SGD\n",
    "criterion = torch.nn.CrossEntropyLoss\n",
    "results_sgd = Train(epochs=50, batch_size=256, learning_rate=5e-1, model=classifier_SGD, opt=opt, criterion=criterion, dataset=dataset)"
   ]
  },
  {
   "cell_type": "markdown",
   "metadata": {},
   "source": [
    "SGD加大lr效果好"
   ]
  },
  {
   "cell_type": "code",
   "execution_count": 343,
   "metadata": {
    "ExecuteTime": {
     "end_time": "2019-09-19T03:29:05.665204Z",
     "start_time": "2019-09-19T03:27:32.729919Z"
    }
   },
   "outputs": [
    {
     "name": "stdout",
     "output_type": "stream",
     "text": [
      "Train set size: 60000; Test set size: 8000; Validation set size: 2000\n",
      "Epoch: 1; [Train/Test] : [0.0938/0.101]\n",
      "Epoch: 2; [Train/Test] : [0.109/0.103]\n",
      "Epoch: 3; [Train/Test] : [0.109/0.0956]\n",
      "Epoch: 4; [Train/Test] : [0.0859/0.101]\n",
      "Epoch: 5; [Train/Test] : [0.129/0.113]\n",
      "Epoch: 6; [Train/Test] : [0.0938/0.1]\n",
      "Epoch: 7; [Train/Test] : [0.115/0.1]\n",
      "Epoch: 8; [Train/Test] : [0.0977/0.1]\n",
      "Epoch: 9; [Train/Test] : [0.113/0.113]\n",
      "Epoch: 10; [Train/Test] : [0.082/0.101]\n",
      "Epoch: 11; [Train/Test] : [0.117/0.113]\n",
      "Epoch: 12; [Train/Test] : [0.109/0.1]\n",
      "Epoch: 13; [Train/Test] : [0.0938/0.1]\n",
      "Epoch: 14; [Train/Test] : [0.109/0.103]\n",
      "Epoch: 15; [Train/Test] : [0.0977/0.113]\n",
      "Epoch: 16; [Train/Test] : [0.117/0.113]\n",
      "Epoch: 17; [Train/Test] : [0.109/0.113]\n",
      "Epoch: 18; [Train/Test] : [0.0586/0.1]\n",
      "Epoch: 19; [Train/Test] : [0.0938/0.1]\n",
      "Epoch: 20; [Train/Test] : [0.109/0.103]\n",
      "Epoch: 21; [Train/Test] : [0.0977/0.113]\n",
      "Epoch: 22; [Train/Test] : [0.113/0.113]\n",
      "Epoch: 23; [Train/Test] : [0.102/0.113]\n",
      "Epoch: 24; [Train/Test] : [0.0898/0.0975]\n",
      "Epoch: 25; [Train/Test] : [0.117/0.1]\n",
      "Epoch: 26; [Train/Test] : [0.113/0.103]\n",
      "Epoch: 27; [Train/Test] : [0.102/0.0956]\n",
      "Epoch: 28; [Train/Test] : [0.117/0.113]\n",
      "Epoch: 29; [Train/Test] : [0.102/0.113]\n",
      "Epoch: 30; [Train/Test] : [0.0938/0.0975]\n",
      "Epoch: 31; [Train/Test] : [0.105/0.1]\n",
      "Epoch: 32; [Train/Test] : [0.0898/0.103]\n",
      "Epoch: 33; [Train/Test] : [0.0898/0.0956]\n",
      "Epoch: 34; [Train/Test] : [0.0898/0.113]\n",
      "Epoch: 35; [Train/Test] : [0.0938/0.102]\n",
      "Epoch: 36; [Train/Test] : [0.082/0.0975]\n",
      "Epoch: 37; [Train/Test] : [0.0859/0.102]\n",
      "Epoch: 38; [Train/Test] : [0.133/0.113]\n",
      "Epoch: 39; [Train/Test] : [0.125/0.0956]\n",
      "Epoch: 40; [Train/Test] : [0.0859/0.102]\n",
      "Epoch: 41; [Train/Test] : [0.0977/0.102]\n",
      "Epoch: 42; [Train/Test] : [0.102/0.113]\n",
      "Epoch: 43; [Train/Test] : [0.105/0.102]\n",
      "Epoch: 44; [Train/Test] : [0.109/0.113]\n",
      "Epoch: 45; [Train/Test] : [0.137/0.0956]\n",
      "Epoch: 46; [Train/Test] : [0.125/0.102]\n",
      "Epoch: 47; [Train/Test] : [0.0938/0.102]\n",
      "Epoch: 48; [Train/Test] : [0.105/0.113]\n",
      "Epoch: 49; [Train/Test] : [0.109/0.102]\n",
      "Epoch: 50; [Train/Test] : [0.0781/0.0978]\n",
      "******Finished! Validation acc: 0.117******\n",
      "Traing/Test/Validation : 10000/8000/2000\n"
     ]
    }
   ],
   "source": [
    "dataset = Dataset(0.8)           \n",
    "classifier_SGD = Classifier()\n",
    "opt = torch.optim.Adam\n",
    "criterion = torch.nn.CrossEntropyLoss\n",
    "results_sgd = Train(epochs=50, batch_size=256, learning_rate=5e-1, model=classifier_SGD, opt=opt, criterion=criterion, dataset=dataset)"
   ]
  },
  {
   "cell_type": "markdown",
   "metadata": {},
   "source": [
    "Adam：同样lr训不出来，可能所支持lr比SGD小"
   ]
  },
  {
   "cell_type": "markdown",
   "metadata": {},
   "source": [
    "## 旋转"
   ]
  },
  {
   "cell_type": "code",
   "execution_count": 403,
   "metadata": {
    "ExecuteTime": {
     "end_time": "2019-09-20T13:18:19.171975Z",
     "start_time": "2019-09-20T13:18:07.094207Z"
    }
   },
   "outputs": [
    {
     "name": "stdout",
     "output_type": "stream",
     "text": [
      "Train set size: 60000; Test set size: 8000; Validation set size: 2000\n",
      "\n"
     ]
    }
   ],
   "source": [
    "from skimage.transform import rotate\n",
    "def rotate_(img):\n",
    "    angle = np.random.randint(0, 361)\n",
    "    return rotate(img, angle)\n",
    "\n",
    "dataset = Dataset(0.8)\n",
    "dataset.X_train = torch.Tensor(np.append(dataset.X_train,np.array([rotate_(img) for img in dataset.X_train]), axis=0))\n",
    "dataset.y_train = torch.Tensor(np.append(dataset.y_train,dataset.y_train,axis=0)).long()"
   ]
  },
  {
   "cell_type": "code",
   "execution_count": 404,
   "metadata": {
    "ExecuteTime": {
     "end_time": "2019-09-20T13:18:20.180775Z",
     "start_time": "2019-09-20T13:18:20.177386Z"
    }
   },
   "outputs": [
    {
     "name": "stdout",
     "output_type": "stream",
     "text": [
      "torch.Size([120000, 28, 28]) torch.Size([120000])\n"
     ]
    }
   ],
   "source": [
    "print(dataset.X_train.size(), dataset.y_train.shape)"
   ]
  },
  {
   "cell_type": "code",
   "execution_count": 405,
   "metadata": {
    "ExecuteTime": {
     "end_time": "2019-09-20T13:23:36.432928Z",
     "start_time": "2019-09-20T13:18:23.887425Z"
    }
   },
   "outputs": [
    {
     "name": "stdout",
     "output_type": "stream",
     "text": [
      "Epoch: 1; [Train/Test] : [0.133/0.359]\n",
      "Epoch: 2; [Train/Test] : [0.885/0.886]\n",
      "Epoch: 3; [Train/Test] : [0.871/0.922]\n",
      "Epoch: 4; [Train/Test] : [0.906/0.933]\n",
      "Epoch: 5; [Train/Test] : [0.965/0.954]\n",
      "Epoch: 6; [Train/Test] : [0.973/0.959]\n",
      "Epoch: 7; [Train/Test] : [0.973/0.964]\n",
      "Epoch: 8; [Train/Test] : [0.977/0.965]\n",
      "Epoch: 9; [Train/Test] : [0.965/0.967]\n",
      "Epoch: 10; [Train/Test] : [0.977/0.967]\n",
      "Epoch: 11; [Train/Test] : [0.93/0.969]\n",
      "Epoch: 12; [Train/Test] : [0.973/0.968]\n",
      "Epoch: 13; [Train/Test] : [0.973/0.969]\n",
      "Epoch: 14; [Train/Test] : [0.98/0.968]\n",
      "Epoch: 15; [Train/Test] : [0.973/0.969]\n",
      "Epoch: 16; [Train/Test] : [0.957/0.97]\n",
      "Epoch: 17; [Train/Test] : [0.977/0.97]\n",
      "Epoch: 18; [Train/Test] : [0.965/0.97]\n",
      "Epoch: 19; [Train/Test] : [0.992/0.97]\n",
      "Epoch: 20; [Train/Test] : [0.977/0.971]\n",
      "Epoch: 21; [Train/Test] : [0.98/0.971]\n",
      "Epoch: 22; [Train/Test] : [0.988/0.972]\n",
      "Epoch: 23; [Train/Test] : [0.996/0.971]\n",
      "Epoch: 24; [Train/Test] : [0.996/0.972]\n",
      "Epoch: 25; [Train/Test] : [0.977/0.971]\n",
      "Epoch: 26; [Train/Test] : [0.984/0.971]\n",
      "Epoch: 27; [Train/Test] : [0.992/0.972]\n",
      "Epoch: 28; [Train/Test] : [0.992/0.972]\n",
      "Epoch: 29; [Train/Test] : [0.988/0.972]\n",
      "Epoch: 30; [Train/Test] : [0.992/0.972]\n",
      "Epoch: 31; [Train/Test] : [0.988/0.973]\n",
      "Epoch: 32; [Train/Test] : [1.0/0.973]\n",
      "Epoch: 33; [Train/Test] : [0.992/0.973]\n",
      "Epoch: 34; [Train/Test] : [1.0/0.973]\n",
      "Epoch: 35; [Train/Test] : [0.996/0.974]\n",
      "Epoch: 36; [Train/Test] : [0.992/0.973]\n",
      "Epoch: 37; [Train/Test] : [0.992/0.973]\n",
      "Epoch: 38; [Train/Test] : [1.0/0.973]\n",
      "Epoch: 39; [Train/Test] : [0.977/0.974]\n",
      "Epoch: 40; [Train/Test] : [0.996/0.973]\n",
      "Epoch: 41; [Train/Test] : [0.996/0.973]\n",
      "Epoch: 42; [Train/Test] : [1.0/0.973]\n",
      "Epoch: 43; [Train/Test] : [0.992/0.973]\n",
      "Epoch: 44; [Train/Test] : [1.0/0.974]\n",
      "Epoch: 45; [Train/Test] : [0.996/0.973]\n",
      "Epoch: 46; [Train/Test] : [1.0/0.973]\n",
      "Epoch: 47; [Train/Test] : [0.996/0.973]\n",
      "Epoch: 48; [Train/Test] : [0.996/0.974]\n",
      "Epoch: 49; [Train/Test] : [1.0/0.974]\n",
      "Epoch: 50; [Train/Test] : [0.992/0.974]\n",
      "******Finished! Validation acc: 0.969******\n",
      "Traing/Test/Validation : 120000/8000/2000\n"
     ]
    }
   ],
   "source": [
    "classifier = Classifier()\n",
    "opt = torch.optim.Adagrad\n",
    "criterion = torch.nn.CrossEntropyLoss\n",
    "results_rotate = Train(epochs=50, batch_size=256, learning_rate=1e-2, model=classifier, opt=opt, criterion=criterion, dataset=dataset)"
   ]
  },
  {
   "cell_type": "markdown",
   "metadata": {},
   "source": [
    "  可能因为test和validation中没有明显的旋转，所以将train中旋转做新的数据效果并不明显。"
   ]
  },
  {
   "cell_type": "code",
   "execution_count": 232,
   "metadata": {
    "ExecuteTime": {
     "end_time": "2019-09-17T05:40:08.325541Z",
     "start_time": "2019-09-17T05:40:08.318676Z"
    }
   },
   "outputs": [
    {
     "name": "stdout",
     "output_type": "stream",
     "text": [
      "I'm static method!\n",
      "I'm static method!\n",
      "I'm class method!\n"
     ]
    },
    {
     "data": {
      "text/plain": [
       "<function __main__.Test.static_method()>"
      ]
     },
     "execution_count": 232,
     "metadata": {},
     "output_type": "execute_result"
    }
   ],
   "source": [
    "class Test():\n",
    "    # 没有constructor也可以\n",
    "    def __init__(self): # 第一个参数就是实例\n",
    "        self.data = 1\n",
    "    \n",
    "    @staticmethod\n",
    "    def static_method(): # staticmethod 是否能从实例中获取数据？不能· staticmethod根本没有self\n",
    "        print(\"I'm static method!\")\n",
    "        \n",
    "    @classmethod\n",
    "    def class_method(self): # 类方法必须给self; bound method\n",
    "        print(\"I'm class method!\")\n",
    "        \n",
    "t = Test()\n",
    "t.static_method()\n",
    "Test.static_method()\n",
    "t.class_method()\n",
    "t.static_method"
   ]
  },
  {
   "cell_type": "code",
   "execution_count": 406,
   "metadata": {
    "ExecuteTime": {
     "end_time": "2019-09-20T13:40:21.446849Z",
     "start_time": "2019-09-20T13:40:21.442003Z"
    }
   },
   "outputs": [
    {
     "name": "stdout",
     "output_type": "stream",
     "text": [
      "False\n",
      "True\n",
      "this is callable!\n"
     ]
    }
   ],
   "source": [
    "t = Test()\n",
    "print(callable(t))\n",
    "class Callable():\n",
    "    def __call__(self):\n",
    "        print(\"this is callable!\")\n",
    "        \n",
    "t = Callable() \n",
    "# after implementing __call__ function for class, the instance should become callable\n",
    "print(callable(t))\n",
    "t()"
   ]
  },
  {
   "cell_type": "code",
   "execution_count": 414,
   "metadata": {
    "ExecuteTime": {
     "end_time": "2019-09-20T13:45:55.397722Z",
     "start_time": "2019-09-20T13:45:55.392677Z"
    }
   },
   "outputs": [
    {
     "data": {
      "text/plain": [
       "7"
      ]
     },
     "execution_count": 414,
     "metadata": {},
     "output_type": "execute_result"
    }
   ],
   "source": [
    "from functools import partial\n",
    "\n",
    "def mul(a,v):\n",
    "    return a*v\n",
    "\n",
    "# give a function as arg and its left most element and returns another function of remaining args\n",
    "dbl = partial(mul, 2) # 2 will replace a \n",
    "# now dbl is a new function that muls arg by 2\n",
    "dbl(3)\n",
    "# what if there are 3 args?\n",
    "def mul_2(a,b,c):\n",
    "    return a*b+c\n",
    "\n",
    "dbl_2 = partial(mul_2, 3)\n",
    "dbl_2(2,1) # 3 * 2 + 1"
   ]
  },
  {
   "cell_type": "code",
   "execution_count": 445,
   "metadata": {
    "ExecuteTime": {
     "end_time": "2019-09-23T04:11:19.860141Z",
     "start_time": "2019-09-23T04:11:19.855803Z"
    }
   },
   "outputs": [
    {
     "name": "stdout",
     "output_type": "stream",
     "text": [
      "tensor([[1., 1.],\n",
      "        [1., 1.]], requires_grad=True)\n"
     ]
    }
   ],
   "source": [
    "# pytorch autograd: defined by code; set require_grad=True, and use backward() to compute all gradients\n",
    "# detach() to stop tracking history; so gradients are stored as regarding to each variable of operations\n",
    "x = torch.ones(2, 2, requires_grad=True)\n",
    "print(x)"
   ]
  },
  {
   "cell_type": "code",
   "execution_count": 447,
   "metadata": {
    "ExecuteTime": {
     "end_time": "2019-09-23T04:11:25.208727Z",
     "start_time": "2019-09-23T04:11:25.204483Z"
    }
   },
   "outputs": [
    {
     "name": "stdout",
     "output_type": "stream",
     "text": [
      "tensor([[4., 4.],\n",
      "        [4., 4.]], grad_fn=<AddBackward0>)\n"
     ]
    }
   ],
   "source": [
    "y = 2*x + 2\n",
    "print(y)"
   ]
  },
  {
   "cell_type": "code",
   "execution_count": 448,
   "metadata": {
    "ExecuteTime": {
     "end_time": "2019-09-23T04:11:26.743552Z",
     "start_time": "2019-09-23T04:11:26.740289Z"
    }
   },
   "outputs": [],
   "source": [
    "torch.sum(y).backward()"
   ]
  },
  {
   "cell_type": "code",
   "execution_count": 449,
   "metadata": {
    "ExecuteTime": {
     "end_time": "2019-09-23T04:11:28.165397Z",
     "start_time": "2019-09-23T04:11:28.160522Z"
    }
   },
   "outputs": [
    {
     "data": {
      "text/plain": [
       "tensor([[2., 2.],\n",
       "        [2., 2.]])"
      ]
     },
     "execution_count": 449,
     "metadata": {},
     "output_type": "execute_result"
    }
   ],
   "source": [
    "x.grad"
   ]
  },
  {
   "cell_type": "code",
   "execution_count": null,
   "metadata": {},
   "outputs": [],
   "source": [
    "# step: can be called once backward() has been called for loss on parameters to be optimized\n",
    "# need to clear gradient once finishing each step"
   ]
  },
  {
   "cell_type": "markdown",
   "metadata": {},
   "source": [
    "## Using GAN to generate extra samples"
   ]
  },
  {
   "cell_type": "code",
   "execution_count": 567,
   "metadata": {
    "ExecuteTime": {
     "end_time": "2019-09-23T16:02:44.882653Z",
     "start_time": "2019-09-23T16:02:44.875955Z"
    }
   },
   "outputs": [],
   "source": [
    "# 首先在数据集上训练一个GAN\n",
    "class Generator(nn.Module):\n",
    "    def __init__(self):\n",
    "        super(Generator, self).__init__()\n",
    "        layers = []\n",
    "        layers.append(nn.Linear(in_features=100, out_features=128))\n",
    "        layers.append(nn.ReLU(True))\n",
    "        layers.append(nn.Linear(in_features=128, out_features=784))\n",
    "        layers.append(nn.Sigmoid()) # Tanh不太行，可能和Linear而不是Conv有关\n",
    "        \n",
    "        self.model = nn.Sequential(*layers)\n",
    "        \n",
    "    def forward(self, z):\n",
    "        return self.model(z)\n",
    "    \n",
    "class Discriminator(nn.Module):\n",
    "    def __init__(self):\n",
    "        super(Discriminator, self).__init__()\n",
    "        layers = []\n",
    "        layers.append(nn.Linear(in_features=784, out_features=128))\n",
    "        layers.append(nn.ReLU(True))\n",
    "        layers.append(nn.Linear(in_features=128, out_features=1))\n",
    "        layers.append(nn.Sigmoid())\n",
    "        \n",
    "        self.model = nn.Sequential(*layers)\n",
    "        \n",
    "    def forward(self, x):\n",
    "        return self.model(x.view(x.shape[0], -1))"
   ]
  },
  {
   "cell_type": "code",
   "execution_count": 573,
   "metadata": {
    "ExecuteTime": {
     "end_time": "2019-09-23T16:07:48.663358Z",
     "start_time": "2019-09-23T16:04:13.899390Z"
    },
    "scrolled": true
   },
   "outputs": [
    {
     "name": "stdout",
     "output_type": "stream",
     "text": [
      "Train set size: 60000; Test set size: 8000; Validation set size: 2000\n",
      "\n",
      "Epoch:0;Loss_D:1.3388092517852783;Loss_G:1.1775656938552856\n",
      "Epoch:1;Loss_D:0.08554774522781372;Loss_G:4.799373626708984\n",
      "Epoch:2;Loss_D:0.030910350382328033;Loss_G:5.386926174163818\n",
      "Epoch:3;Loss_D:0.02966383844614029;Loss_G:6.54968786239624\n",
      "Epoch:4;Loss_D:0.15499959886074066;Loss_G:4.041447162628174\n",
      "Epoch:5;Loss_D:0.07569213211536407;Loss_G:5.07236909866333\n",
      "Epoch:6;Loss_D:0.09024043381214142;Loss_G:5.368954658508301\n",
      "Epoch:7;Loss_D:0.06082437187433243;Loss_G:4.373559951782227\n",
      "Epoch:8;Loss_D:0.04115014150738716;Loss_G:4.919280529022217\n",
      "Epoch:9;Loss_D:0.09557738900184631;Loss_G:5.704147815704346\n",
      "Epoch:10;Loss_D:0.10674259066581726;Loss_G:7.109254837036133\n",
      "Epoch:11;Loss_D:0.05613766610622406;Loss_G:6.6205549240112305\n",
      "Epoch:12;Loss_D:0.12873752415180206;Loss_G:5.229218006134033\n",
      "Epoch:13;Loss_D:0.17186138033866882;Loss_G:5.7808709144592285\n",
      "Epoch:14;Loss_D:0.17968766391277313;Loss_G:5.725295066833496\n",
      "Epoch:15;Loss_D:0.13300703465938568;Loss_G:4.698671340942383\n",
      "Epoch:16;Loss_D:0.15572142601013184;Loss_G:4.411088943481445\n",
      "Epoch:17;Loss_D:0.11829067021608353;Loss_G:5.4206438064575195\n",
      "Epoch:18;Loss_D:0.2105964571237564;Loss_G:4.530253887176514\n",
      "Epoch:19;Loss_D:0.19175821542739868;Loss_G:5.566779613494873\n",
      "Epoch:20;Loss_D:0.1973801851272583;Loss_G:4.016880035400391\n",
      "Epoch:21;Loss_D:0.16664117574691772;Loss_G:5.283138275146484\n",
      "Epoch:22;Loss_D:0.3240912854671478;Loss_G:5.115570545196533\n",
      "Epoch:23;Loss_D:0.2627245783805847;Loss_G:4.3184494972229\n",
      "Epoch:24;Loss_D:0.3850962817668915;Loss_G:3.85148286819458\n",
      "Epoch:25;Loss_D:0.52845698595047;Loss_G:3.637864828109741\n",
      "Epoch:26;Loss_D:0.32242316007614136;Loss_G:3.2594664096832275\n",
      "Epoch:27;Loss_D:0.3905150294303894;Loss_G:2.894205331802368\n",
      "Epoch:28;Loss_D:0.6538659334182739;Loss_G:3.0352039337158203\n",
      "Epoch:29;Loss_D:0.8421626091003418;Loss_G:2.610002279281616\n",
      "Epoch:30;Loss_D:0.6206303238868713;Loss_G:3.854890823364258\n",
      "Epoch:31;Loss_D:0.7444590926170349;Loss_G:3.7173361778259277\n",
      "Epoch:32;Loss_D:0.9393057823181152;Loss_G:3.223376512527466\n",
      "Epoch:33;Loss_D:0.7621462941169739;Loss_G:2.5853586196899414\n",
      "Epoch:34;Loss_D:0.6608903408050537;Loss_G:2.5504207611083984\n",
      "Epoch:35;Loss_D:0.7220831513404846;Loss_G:2.64713454246521\n",
      "Epoch:36;Loss_D:0.7689757347106934;Loss_G:2.0496582984924316\n",
      "Epoch:37;Loss_D:0.8705283403396606;Loss_G:2.4633681774139404\n",
      "Epoch:38;Loss_D:0.7608133554458618;Loss_G:2.981842279434204\n",
      "Epoch:39;Loss_D:0.9843288660049438;Loss_G:2.896890878677368\n",
      "Epoch:40;Loss_D:0.8263487219810486;Loss_G:3.2722973823547363\n",
      "Epoch:41;Loss_D:0.7976992130279541;Loss_G:3.6530871391296387\n",
      "Epoch:42;Loss_D:0.730105996131897;Loss_G:3.3545844554901123\n",
      "Epoch:43;Loss_D:0.9660769104957581;Loss_G:2.2089436054229736\n",
      "Epoch:44;Loss_D:0.7912442684173584;Loss_G:2.4574286937713623\n",
      "Epoch:45;Loss_D:0.6702024936676025;Loss_G:2.3154919147491455\n",
      "Epoch:46;Loss_D:0.7556506395339966;Loss_G:2.2809228897094727\n",
      "Epoch:47;Loss_D:0.8654488325119019;Loss_G:2.3515055179595947\n",
      "Epoch:48;Loss_D:0.939288318157196;Loss_G:2.404296875\n",
      "Epoch:49;Loss_D:0.8892452716827393;Loss_G:2.30733060836792\n"
     ]
    }
   ],
   "source": [
    "G = Generator()\n",
    "D = Discriminator()\n",
    "opt_G = torch.optim.Adam(lr=1e-3,params=G.parameters())\n",
    "opt_D = torch.optim.Adam(lr=1e-3,params=D.parameters())\n",
    "\n",
    "dataset = Dataset(0.8, True)\n",
    "# change training set to [-1,1]\n",
    "#dataset.X_train = (dataset.X_train - 0.5) * 2\n",
    "epochs = 50\n",
    "num = dataset.get_num_of_instances_in_train()\n",
    "batch_size = 256\n",
    "for e in range(epochs * int(num / batch_size)):    \n",
    "    for i in range(1):\n",
    "        x_real, _ = dataset.get_train_batch(batch_size)\n",
    "        z = torch.Tensor(np.random.randn(x_real.shape[0], 100))\n",
    "        x_fake = G(z)\n",
    "\n",
    "        D_real = D(x_real)\n",
    "        D_fake = D(x_fake)\n",
    "\n",
    "        # loss_D = - torch.mean(torch.log(D_real) + torch.log(1-D_fake))\n",
    "        loss_D = nn.functional.binary_cross_entropy(input=D_real, target=torch.ones_like(D_real))\n",
    "        loss_D += nn.functional.binary_cross_entropy(input=D_fake, target=torch.zeros_like(D_fake))\n",
    "\n",
    "        # update D\n",
    "        loss_D.backward()\n",
    "        opt_D.step()\n",
    "        opt_D.zero_grad()\n",
    "        opt_G.zero_grad()\n",
    "    \n",
    "    z = torch.Tensor(np.random.randn(x_real.shape[0], 100))\n",
    "    x_fake_ = G(z)\n",
    "    D_fake_ = D(x_fake_)\n",
    "    #loss_G = - torch.mean(torch.log(D_fake))\n",
    "    loss_G = nn.functional.binary_cross_entropy(input=D_fake_, target=torch.ones_like(D_fake_))\n",
    "    \n",
    "    # update G\n",
    "    loss_G.backward()\n",
    "    opt_G.step()\n",
    "    opt_G.zero_grad()\n",
    "    opt_D.zero_grad()\n",
    "    \n",
    "    if e % int(num/batch_size) == 0:\n",
    "        print(\"Epoch:{};Loss_D:{};Loss_G:{}\".format(int(e / int(num/batch_size)), loss_D, loss_G))"
   ]
  },
  {
   "cell_type": "code",
   "execution_count": 577,
   "metadata": {
    "ExecuteTime": {
     "end_time": "2019-09-23T16:08:38.878801Z",
     "start_time": "2019-09-23T16:08:38.519237Z"
    }
   },
   "outputs": [
    {
     "data": {
      "image/png": "[encoded data removed]",
      "text/plain": [
       "<Figure size 432x288 with 16 Axes>"
      ]
     },
     "metadata": {
      "needs_background": "light"
     },
     "output_type": "display_data"
    }
   ],
   "source": [
    "# generate some images and plot\n",
    "z = torch.Tensor(np.random.randn(x_real.shape[0], 100))\n",
    "x_fake = G(z).view(x_real.shape[0], 28, 28)\n",
    "for i in range(16):\n",
    "    plt.subplot(4,4,i+1)\n",
    "    plt.imshow(x_fake[i].detach(), cmap='gray')\n",
    "    plt.axis('off')"
   ]
  },
  {
   "cell_type": "markdown",
   "metadata": {},
   "source": [
    "## GAN训练总结：1. opt无论D还是G step后，均要reset；2. G最后一层激活函数 3. GAN train多久为好（多train还是合适？）4. 质量很低，若要尝试作为训练集，需要用更大的网络"
   ]
  },
  {
   "cell_type": "markdown",
   "metadata": {},
   "source": [
    "# TODO: 几个可以做的目标： 1。data 增强（旋转，done） 2. 模型 更改结构或者activation（层）(done， BatchNormalization效果好) 3. 优化器（done） 5. AE用隐码进行训练(没有明显效果) 6. GAN生成额外样本进行训练(可以尝试，这样会扩充训练集)"
   ]
  },
  {
   "cell_type": "markdown",
   "metadata": {},
   "source": [
    "# 结论：\n",
    "加layers，加BN，进行Contrast Normalization， 均有一定效果，其中， 加BN的效果最好；用AE code进行训练也应该有效果，可能是AE训得不够好； GAN也存在需要训的足够好才可能起到预期效果的问题。"
   ]
  }
 ],
 "metadata": {
  "kernelspec": {
   "display_name": "Python 3",
   "language": "python",
   "name": "python3"
  },
  "language_info": {
   "codemirror_mode": {
    "name": "ipython",
    "version": 3
   },
   "file_extension": ".py",
   "mimetype": "text/x-python",
   "name": "python",
   "nbconvert_exporter": "python",
   "pygments_lexer": "ipython3",
   "version": "3.6.8"
  },
  "toc": {
   "base_numbering": 1,
   "nav_menu": {},
   "number_sections": true,
   "sideBar": true,
   "skip_h1_title": false,
   "title_cell": "Table of Contents",
   "title_sidebar": "Contents",
   "toc_cell": false,
   "toc_position": {},
   "toc_section_display": true,
   "toc_window_display": true
  },
  "varInspector": {
   "cols": {
    "lenName": 16,
    "lenType": 16,
    "lenVar": 40
   },
   "kernels_config": {
    "python": {
     "delete_cmd_postfix": "",
     "delete_cmd_prefix": "del ",
     "library": "var_list.py",
     "varRefreshCmd": "print(var_dic_list())"
    },
    "r": {
     "delete_cmd_postfix": ") ",
     "delete_cmd_prefix": "rm(",
     "library": "var_list.r",
     "varRefreshCmd": "cat(var_dic_list()) "
    }
   },
   "types_to_exclude": [
    "module",
    "function",
    "builtin_function_or_method",
    "instance",
    "_Feature"
   ],
   "window_display": false
  }
 },
 "nbformat": 4,
 "nbformat_minor": 2
}

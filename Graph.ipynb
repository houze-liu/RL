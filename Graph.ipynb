{
 "cells": [
  {
   "cell_type": "markdown",
   "metadata": {},
   "source": [
    "# Graph\n",
    "**Definition:**  \n",
    "A graph is a set of vertices and a collection of edges that each connect a pair of vertices"
   ]
  },
  {
   "cell_type": "markdown",
   "metadata": {},
   "source": [
    "## Basic implementation"
   ]
  },
  {
   "cell_type": "code",
   "execution_count": 1,
   "metadata": {
    "ExecuteTime": {
     "end_time": "2019-09-14T12:23:23.809866Z",
     "start_time": "2019-09-14T12:23:23.799469Z"
    }
   },
   "outputs": [
    {
     "name": "stdout",
     "output_type": "stream",
     "text": [
      "2\n",
      "1\n",
      "0\n",
      "!!!\n",
      "1\n"
     ]
    }
   ],
   "source": [
    "def recurr(v):\n",
    "    v -= 1\n",
    "    print(v)\n",
    "    if v == 0:\n",
    "        print(\"!!!\")\n",
    "        return # return应该是结束方程执行并返回\n",
    "    \n",
    "    recurr(v)\n",
    "    \n",
    "recurr(3) # 顺次执行先前未执行的代码，想像成stack\n",
    "\n",
    "a = {}\n",
    "try:\n",
    "    a[2]\n",
    "except:\n",
    "    print(1)"
   ]
  },
  {
   "cell_type": "code",
   "execution_count": 2,
   "metadata": {
    "ExecuteTime": {
     "end_time": "2019-09-14T12:23:24.093135Z",
     "start_time": "2019-09-14T12:23:24.074513Z"
    }
   },
   "outputs": [],
   "source": [
    "# 以某种格式存放graph并能够读取\n",
    "# 数据结构是算法的基础, e.g. 好的图表征是DFS，BFS搜索算法的基础（路径问题）\n",
    "class Node():\n",
    "    def __init__(self,v):\n",
    "        self.value=v\n",
    "        self.next=None\n",
    "        \n",
    "class Queue():\n",
    "    def __init__(self):\n",
    "        self.root = None\n",
    "    \n",
    "    def put(self, v):\n",
    "        if self.root == None:\n",
    "            self.root = Node(v)\n",
    "        \n",
    "        self.root.next = Node(v)\n",
    "    \n",
    "    def get(self):\n",
    "        if self.root == None:\n",
    "            return None\n",
    "        value = self.root.value\n",
    "        self.root = self.root.next\n",
    "        return value\n",
    "    \n",
    "    def empty(self):\n",
    "        if self.root == None:\n",
    "            return True\n",
    "        else:\n",
    "            return False\n",
    "\n",
    "class Graph:\n",
    "    def __init__(self):\n",
    "        self.V = None \n",
    "        self.E = None\n",
    "        self.edges = None # if want a adj of certain V, exame all eadges\n",
    "        self.edgeTo = {} # used for tracking the path\n",
    "        self.adj_dict = {} # track the adj list\n",
    "    \n",
    "    def adj(self, v):\n",
    "        adj_list = []\n",
    "        all_connect = []\n",
    "        # 找出edges中含有v的tuples\n",
    "        for connect in self.edges: \n",
    "            # determin if contains v\n",
    "            if (v in connect):\n",
    "                if (connect[0]==connect[1] and connect[0]==v):continue\n",
    "                elif (connect[0]==v):adj_list.append(connect[1])\n",
    "                else: adj_list.append(connect[0])\n",
    "                all_connect.append(connect)\n",
    "\n",
    "        return adj_list#, connected_edges\n",
    "    \n",
    "    def read_from_file(self, file):\n",
    "        f = open(file, mode='r')\n",
    "        def read_from_txt(txt):\n",
    "            lines=[]\n",
    "            while(True):\n",
    "                l = f.readline().replace('\\n','')\n",
    "                if l == '':\n",
    "                    return lines\n",
    "                lines.append(l)\n",
    "        \n",
    "        inputs = read_from_txt(f)\n",
    "        V = inputs[0]\n",
    "        E = inputs[1]\n",
    "        edges = []\n",
    "        for line in inputs:\n",
    "            if line == V or line == E: continue\n",
    "            line = line.split(\" \")\n",
    "            line[0] = int(line[0])\n",
    "            line[1] = int(line[1])\n",
    "            edges.append(line)\n",
    "        self.V = int(V)\n",
    "        self.E = int(E)\n",
    "        self.edges = edges\n",
    "        f.close()\n",
    "        \n",
    "        # 这是用dict， 如何用linked list？为什么用？（遍历，插入简单，增加新edge）\n",
    "        for v in range(self.V):\n",
    "            self.adj_dict[v] = self.adj(v)\n",
    "            \n",
    "    def addEdge(self, v, w):\n",
    "        self.adj_dict[v].append(w)\n",
    "        self.adj_dict[w].append(v)\n",
    "        \n",
    "    def degree(self, v: int)->int:\n",
    "        count = 0\n",
    "        for _ in range(len((self.adj(v)))):\n",
    "            count+=1\n",
    "        return count\n",
    "    \n",
    "    def maxdegree(self)->int:\n",
    "        max_degree = 0\n",
    "        for v in range(self.V):\n",
    "            if self.degree(v) >= max_degree: max_degree = self.degree(v)\n",
    "        return max_degree\n",
    "    \n",
    "    \n",
    "    def dfs(self, v):\n",
    "        # 2E query operations and V mark operations, constant time proportional to E+V\n",
    "        self.mark[v] = True\n",
    "        for i in self.adj(v) :\n",
    "            if not self.mark[i]:\n",
    "                self.edgeTo[i] = v\n",
    "                self.dfs(i)\n",
    "                \n",
    "    def path_To(self, root:int, target:int, method):\n",
    "        self.root = None\n",
    "        self.mark = {}\n",
    "        for v in range(self.V):\n",
    "            self.mark[v] = False\n",
    "        # call dfs to get path from root to target\n",
    "        if method == \"bfs\":self.bfs(root)\n",
    "        elif method == \"dfs\":self.dfs(root)\n",
    "            \n",
    "        def pathTo(v):\n",
    "            if not self.mark[v]:\n",
    "                print(\"There is no path found!\")\n",
    "                return None\n",
    "            if v == root:\n",
    "                self.root = Node(v)\n",
    "            try:\n",
    "                pathTo(self.edgeTo[v])\n",
    "            except:\n",
    "                return\n",
    "            add_new_node(self.root, v)\n",
    "            \n",
    "        pathTo(target)\n",
    "        return self.root\n",
    "    \n",
    "    def bfs(self,s):\n",
    "        import queue\n",
    "        q = queue.Queue()\n",
    "        self.mark[s] = True\n",
    "        q.put(s)\n",
    "        while (not q.empty()): # 直到q为空为止\n",
    "            w = q.get()\n",
    "            for i in self.adj(w):\n",
    "                if not self.mark[i]:\n",
    "                    self.edgeTo[i] = w\n",
    "                    self.mark[i] = True\n",
    "                    q.put(i)\n",
    "     \n",
    "    \n",
    "def add_new_node(root,value):\n",
    "    while(root.next is not None):\n",
    "        root = root.next\n",
    "        \n",
    "    root.next = Node(value)\n",
    "    \n",
    "def traverse_root(root):\n",
    "    while(root is not None):\n",
    "        print(root.value)\n",
    "        root = root.next       \n",
    "    \n",
    "\n",
    "G = Graph()\n",
    "G.read_from_file(\"text.txt\")"
   ]
  },
  {
   "cell_type": "code",
   "execution_count": 3,
   "metadata": {
    "ExecuteTime": {
     "end_time": "2019-09-14T12:23:25.358954Z",
     "start_time": "2019-09-14T12:23:25.354589Z"
    }
   },
   "outputs": [
    {
     "name": "stdout",
     "output_type": "stream",
     "text": [
      "3\n",
      "0\n"
     ]
    }
   ],
   "source": [
    "# 如何逆序打印 linked list？\n",
    "root = Node(0)\n",
    "add_new_node(root, 3)\n",
    "def reverse_print_linked_list(root):\n",
    "    if (root == None):\n",
    "        return\n",
    "    \n",
    "    reverse_print_linked_list(root.next)\n",
    "    print(root.value)\n",
    "    \n",
    "reverse_print_linked_list(root)"
   ]
  },
  {
   "cell_type": "code",
   "execution_count": 4,
   "metadata": {
    "ExecuteTime": {
     "end_time": "2019-09-14T12:23:26.332132Z",
     "start_time": "2019-09-14T12:23:26.321458Z"
    }
   },
   "outputs": [
    {
     "data": {
      "text/plain": [
       "{0: [5, 1, 2, 6],\n",
       " 1: [0],\n",
       " 2: [0],\n",
       " 3: [4, 5],\n",
       " 4: [3, 6, 5],\n",
       " 5: [0, 4, 3],\n",
       " 6: [4, 0],\n",
       " 7: [8],\n",
       " 8: [7],\n",
       " 9: [12, 10, 11],\n",
       " 10: [9],\n",
       " 11: [12, 9],\n",
       " 12: [9, 11]}"
      ]
     },
     "execution_count": 4,
     "metadata": {},
     "output_type": "execute_result"
    }
   ],
   "source": [
    "G.adj_dict"
   ]
  },
  {
   "cell_type": "code",
   "execution_count": 5,
   "metadata": {
    "ExecuteTime": {
     "end_time": "2019-09-14T12:23:26.565672Z",
     "start_time": "2019-09-14T12:23:26.562032Z"
    }
   },
   "outputs": [
    {
     "name": "stdout",
     "output_type": "stream",
     "text": [
      "vertices adjacent to 0: [5, 1, 2, 6]\n",
      "edges connected to 0: 1\n",
      "maximum degree: 4\n"
     ]
    }
   ],
   "source": [
    "print(\"vertices adjacent to 0: {}\".format(G.adj(0)))\n",
    "print(\"edges connected to 0: {}\".format(G.degree(2)))\n",
    "print(\"maximum degree: {}\".format(G.maxdegree()))"
   ]
  },
  {
   "cell_type": "code",
   "execution_count": 6,
   "metadata": {
    "ExecuteTime": {
     "end_time": "2019-09-14T12:23:27.628524Z",
     "start_time": "2019-09-14T12:23:27.624764Z"
    }
   },
   "outputs": [
    {
     "name": "stdout",
     "output_type": "stream",
     "text": [
      "4\n",
      "3\n",
      "5\n",
      "0\n"
     ]
    }
   ],
   "source": [
    "r = G.path_To(root=4, target=0,method=\"dfs\")\n",
    "traverse_root(r)"
   ]
  },
  {
   "cell_type": "code",
   "execution_count": 7,
   "metadata": {
    "ExecuteTime": {
     "end_time": "2019-09-14T12:23:27.820909Z",
     "start_time": "2019-09-14T12:23:27.817518Z"
    }
   },
   "outputs": [
    {
     "name": "stdout",
     "output_type": "stream",
     "text": [
      "4\n",
      "6\n",
      "0\n"
     ]
    }
   ],
   "source": [
    "r = G.path_To(root=4, target=0,method=\"bfs\")\n",
    "traverse_root(r)"
   ]
  },
  {
   "cell_type": "markdown",
   "metadata": {},
   "source": [
    "## Connected Component"
   ]
  },
  {
   "cell_type": "code",
   "execution_count": 16,
   "metadata": {
    "ExecuteTime": {
     "end_time": "2019-09-14T12:26:28.127578Z",
     "start_time": "2019-09-14T12:26:28.120568Z"
    }
   },
   "outputs": [
    {
     "name": "stdout",
     "output_type": "stream",
     "text": [
      "{0: 0, 5: 0, 4: 0, 3: 0, 6: 0, 1: 0, 2: 0, 7: 1, 8: 1, 9: 2, 12: 2, 11: 2, 10: 2}\n",
      "Is 0 and 1 are connected? True\n",
      "Total components: 3\n",
      "This graph is NOT connected!\n"
     ]
    }
   ],
   "source": [
    "# build a new class whose constructor allows passing a Graph instance as arguement\n",
    "# the instance of CC support queries about connectivity\n",
    "class CC():\n",
    "    def __init__(self, G: Graph):\n",
    "        self.mark = {}\n",
    "        for v in range(G.V):\n",
    "            self.mark[v] = False\n",
    "        self.id = {}\n",
    "        self.count = 0\n",
    "        self.G = G\n",
    "        self._CC()\n",
    "        \n",
    "    def _CC(self):\n",
    "        for v in range(self.G.V):\n",
    "            if not self.mark[v]:\n",
    "                self._dfs(v)\n",
    "                self.count += 1\n",
    "            \n",
    "    def _dfs(self, v):\n",
    "        self.mark[v] = True\n",
    "        self.id[v] = self.count\n",
    "        for i in self.G.adj(v) :\n",
    "            if not self.mark[i]:\n",
    "                self._dfs(i)\n",
    "                \n",
    "    def connected(self,v,w):\n",
    "        return self.id[v] == self.id[w]\n",
    "                \n",
    "    def _id(self):\n",
    "        return self.id\n",
    "    \n",
    "                \n",
    "C = CC(G)\n",
    "print(C._id())\n",
    "print(\"Is 0 and 1 are connected? {}\".format(C.connected(0,1)))\n",
    "print(\"Total components: {}\".format(C.count))\n",
    "if C.count != G.V:\n",
    "    print(\"This graph is NOT connected!\")"
   ]
  },
  {
   "cell_type": "code",
   "execution_count": 24,
   "metadata": {
    "ExecuteTime": {
     "end_time": "2019-09-14T12:32:49.770200Z",
     "start_time": "2019-09-14T12:32:49.764370Z"
    }
   },
   "outputs": [
    {
     "name": "stdout",
     "output_type": "stream",
     "text": [
      "Is the given graph bipartite?: False\n"
     ]
    }
   ],
   "source": [
    "# check if the given graph is bipartite\n",
    "class TwoColor():\n",
    "    def __init__(self, G: Graph):\n",
    "        self.mark = {}\n",
    "        for v in range(G.V):\n",
    "            self.mark[v] = False\n",
    "        self.color = {} # a dictionary of boolean\n",
    "        self.G = G\n",
    "        # 从某一个点开始搜索，譬如第一个点\n",
    "        self.color[0] = True\n",
    "        for v in range(G.V):\n",
    "            if not self.mark[v]:\n",
    "                self.color[v] = True\n",
    "                self._dfs(v)\n",
    "        \n",
    "    def _dfs(self, v):\n",
    "        self.mark[v] = True\n",
    "        for i in self.G.adj(v):\n",
    "            if not self.mark[i]:\n",
    "                self.color[i] = not self.color[v]\n",
    "                self._dfs(i)\n",
    "            elif self.color[v] == self.color[i]:\n",
    "                self.isBipartite = False\n",
    "                \n",
    "twoColor = TwoColor(G)\n",
    "print(\"Is the given graph bipartite?: {}\".format(twoColor.isBipartite))"
   ]
  },
  {
   "cell_type": "markdown",
   "metadata": {},
   "source": [
    "## Cycle Finding"
   ]
  },
  {
   "cell_type": "code",
   "execution_count": 46,
   "metadata": {
    "ExecuteTime": {
     "end_time": "2019-09-13T13:34:19.147390Z",
     "start_time": "2019-09-13T13:34:19.142126Z"
    }
   },
   "outputs": [
    {
     "name": "stdout",
     "output_type": "stream",
     "text": [
      "Graph has cycle?: True\n"
     ]
    }
   ],
   "source": [
    "class Cycle():\n",
    "    def __init__(self, G: Graph):\n",
    "        self.mark = {}\n",
    "        for v in range(G.V):\n",
    "            self.mark[v] = False\n",
    "        self.G = G\n",
    "        \n",
    "        for s in range(G.V):\n",
    "            if not self.mark[s]: # 这个语句是因为可能存在多个components\n",
    "                self.dfs(s,s)\n",
    "        \n",
    "    def dfs(self, u, w):\n",
    "        self.mark[u] = True\n",
    "        for v in self.G.adj(u):\n",
    "            if not self.mark[v]:\n",
    "                self.G.edgeTo[v] = u\n",
    "                self.dfs(v, u)\n",
    "            elif v == w: self.hasCycle = True\n",
    "    \n",
    "    \n",
    "cycle = Cycle(G)\n",
    "print(\"Graph has cycle?: {}\".format(cycle.hasCycle))"
   ]
  },
  {
   "cell_type": "code",
   "execution_count": 11,
   "metadata": {
    "ExecuteTime": {
     "end_time": "2019-09-11T03:52:27.923617Z",
     "start_time": "2019-09-11T03:52:27.916969Z"
    }
   },
   "outputs": [
    {
     "name": "stdout",
     "output_type": "stream",
     "text": [
      "Getting\n",
      "10\n",
      "Getting\n",
      "25\n"
     ]
    }
   ],
   "source": [
    "class Celsius:\n",
    "    def __init__(self, tem =0):\n",
    "        self.set_tem(tem)\n",
    "        \n",
    "    def to_fahrenheit(self):\n",
    "        return (self.get_tem() *1.8) + 32\n",
    "    \n",
    "    def get_tem(self):\n",
    "        return self._tem\n",
    "    # 每次init时都会自动调用这个方法\n",
    "    def set_tem(self, value):\n",
    "        if value < -273:\n",
    "            raise ValueError(\"Temperature below -273 is not possible\")\n",
    "        self._tem = value\n",
    "        \n",
    "\n",
    "\n",
    "class Celsius:\n",
    "    def __init__(self, temp=0):\n",
    "        self._temp = temp\n",
    "    # 本质是get setter，用处是当需要对得到和返回变量进行特殊处理时，可以用   \n",
    "    @property\n",
    "    def temperature(self):\n",
    "        print(\"Getting\")\n",
    "        return self._temp\n",
    "        \n",
    "    @temperature.setter\n",
    "    def temperature(self, value):\n",
    "        self._temp = value\n",
    "        \n",
    "C = Celsius(10)\n",
    "print(C.temperature)\n",
    "C.temperature = 25\n",
    "print(C.temperature)"
   ]
  }
 ],
 "metadata": {
  "kernelspec": {
   "display_name": "Python 3",
   "language": "python",
   "name": "python3"
  },
  "language_info": {
   "codemirror_mode": {
    "name": "ipython",
    "version": 3
   },
   "file_extension": ".py",
   "mimetype": "text/x-python",
   "name": "python",
   "nbconvert_exporter": "python",
   "pygments_lexer": "ipython3",
   "version": "3.6.8"
  },
  "toc": {
   "base_numbering": 1,
   "nav_menu": {},
   "number_sections": true,
   "sideBar": true,
   "skip_h1_title": false,
   "title_cell": "Table of Contents",
   "title_sidebar": "Contents",
   "toc_cell": false,
   "toc_position": {},
   "toc_section_display": true,
   "toc_window_display": false
  },
  "varInspector": {
   "cols": {
    "lenName": 16,
    "lenType": 16,
    "lenVar": 40
   },
   "kernels_config": {
    "python": {
     "delete_cmd_postfix": "",
     "delete_cmd_prefix": "del ",
     "library": "var_list.py",
     "varRefreshCmd": "print(var_dic_list())"
    },
    "r": {
     "delete_cmd_postfix": ") ",
     "delete_cmd_prefix": "rm(",
     "library": "var_list.r",
     "varRefreshCmd": "cat(var_dic_list()) "
    }
   },
   "types_to_exclude": [
    "module",
    "function",
    "builtin_function_or_method",
    "instance",
    "_Feature"
   ],
   "window_display": false
  }
 },
 "nbformat": 4,
 "nbformat_minor": 2
}

{
 "cells": [
  {
   "cell_type": "code",
   "execution_count": 11,
   "metadata": {
    "ExecuteTime": {
     "end_time": "2019-11-11T00:45:06.343000+08:00",
     "start_time": "2019-11-10T16:45:05.582Z"
    }
   },
   "outputs": [
    {
     "data": {
      "text/plain": [
       "2×2 BitArray{2}:\n",
       " 0  0\n",
       " 0  0"
      ]
     },
     "execution_count": 11,
     "metadata": {},
     "output_type": "execute_result"
    }
   ],
   "source": [
    "A = zeros()\n",
    "Int8[2,3,4]\n",
    "BitArray(undef, 2, 2)"
   ]
  },
  {
   "cell_type": "code",
   "execution_count": 21,
   "metadata": {
    "ExecuteTime": {
     "end_time": "2019-11-13T21:34:14.943000+08:00",
     "start_time": "2019-11-13T13:34:14.928Z"
    }
   },
   "outputs": [
    {
     "name": "stdout",
     "output_type": "stream",
     "text": [
      "5050\n"
     ]
    }
   ],
   "source": [
    "function acc(ac::Int,x::Int) ::Int # Type Declaration\n",
    "    return ac + x\n",
    "end\n",
    "\n",
    "s = 0\n",
    "for i=1:100\n",
    "    s = acc(s, i)\n",
    "end\n",
    "println(s)"
   ]
  },
  {
   "cell_type": "code",
   "execution_count": 2,
   "metadata": {
    "ExecuteTime": {
     "end_time": "2019-11-12T22:00:05.220000+08:00",
     "start_time": "2019-11-12T14:00:04.533Z"
    }
   },
   "outputs": [
    {
     "data": {
      "text/plain": [
       "Point{Int64}(2, 3)"
      ]
     },
     "execution_count": 2,
     "metadata": {},
     "output_type": "execute_result"
    }
   ],
   "source": [
    "# julia麻烦的地方在于interact每次要清空才能重定义，更适合工程建模\n",
    "# 尝试下画图界面\n",
    "struct Point{T<:Real}\n",
    "    x::T\n",
    "    y::T\n",
    "end\n",
    "\n",
    "Point(2,3)"
   ]
  },
  {
   "cell_type": "code",
   "execution_count": 34,
   "metadata": {
    "ExecuteTime": {
     "end_time": "2019-11-13T14:18:52.720000+08:00",
     "start_time": "2019-11-13T06:18:52.709Z"
    }
   },
   "outputs": [
    {
     "data": {
      "text/plain": [
       "OrderSet(0, 3)"
      ]
     },
     "execution_count": 34,
     "metadata": {},
     "output_type": "execute_result"
    }
   ],
   "source": [
    "struct OrderSet\n",
    "    x\n",
    "    y\n",
    "    OrderSet(x,y)= x%2 == 0 ? new(0,y) : new(x,y)\n",
    "    end\n",
    "OrderSet(2,3)"
   ]
  },
  {
   "cell_type": "code",
   "execution_count": null,
   "metadata": {},
   "outputs": [],
   "source": [
    "# next step: how to turn an idea workable?\n",
    "struct Febonacci\n",
    "    a1::Int\n",
    "    a2::Int\n",
    "    function get_next\n",
    "        a3 = a1 + a2\n",
    "        a1 = a3\n",
    "        \n",
    "    end\n",
    "end\n",
    "\n",
    "feb = Febonacci(1,1)\n",
    "n = 10\n",
    "t = 0 # store all results\n",
    "for i=1:n\n",
    "    t = feb.get_next()\n",
    "println(t)\n",
    "    \n",
    "# then use the number as index to get item and stored in linked list\n"
   ]
  }
 ],
 "metadata": {
  "kernelspec": {
   "display_name": "Julia 1.2.0",
   "language": "julia",
   "name": "julia-1.2"
  },
  "language_info": {
   "file_extension": ".jl",
   "mimetype": "application/julia",
   "name": "julia",
   "version": "1.2.0"
  },
  "toc": {
   "base_numbering": 1,
   "nav_menu": {},
   "number_sections": true,
   "sideBar": true,
   "skip_h1_title": false,
   "title_cell": "Table of Contents",
   "title_sidebar": "Contents",
   "toc_cell": false,
   "toc_position": {},
   "toc_section_display": true,
   "toc_window_display": false
  },
  "varInspector": {
   "cols": {
    "lenName": 16,
    "lenType": 16,
    "lenVar": 40
   },
   "kernels_config": {
    "python": {
     "delete_cmd_postfix": "",
     "delete_cmd_prefix": "del ",
     "library": "var_list.py",
     "varRefreshCmd": "print(var_dic_list())"
    },
    "r": {
     "delete_cmd_postfix": ") ",
     "delete_cmd_prefix": "rm(",
     "library": "var_list.r",
     "varRefreshCmd": "cat(var_dic_list()) "
    }
   },
   "types_to_exclude": [
    "module",
    "function",
    "builtin_function_or_method",
    "instance",
    "_Feature"
   ],
   "window_display": false
  }
 },
 "nbformat": 4,
 "nbformat_minor": 2
}

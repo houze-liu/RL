{
 "cells": [
  {
   "cell_type": "markdown",
   "metadata": {},
   "source": [
    "# The main puerpose of this file is to 1. study intergrating Info to AE; 2. implement a U-net to enhance understanding."
   ]
  },
  {
   "cell_type": "code",
   "execution_count": 296,
   "metadata": {
    "ExecuteTime": {
     "end_time": "2019-10-11T05:13:14.428523Z",
     "start_time": "2019-10-11T05:13:14.426073Z"
    }
   },
   "outputs": [],
   "source": [
    "import torchvision.datasets as ds\n",
    "import numpy as np"
   ]
  },
  {
   "cell_type": "code",
   "execution_count": 270,
   "metadata": {
    "ExecuteTime": {
     "end_time": "2019-10-10T13:20:14.136352Z",
     "start_time": "2019-10-10T13:20:14.088776Z"
    }
   },
   "outputs": [
    {
     "data": {
      "text/plain": [
       "torch.Size([64, 1, 64, 64])"
      ]
     },
     "execution_count": 270,
     "metadata": {},
     "output_type": "execute_result"
    }
   ],
   "source": [
    "# firstly, define a auto-encoder: retain most salient information 什么是关键信息？能够还原输入的\n",
    "import torch.nn as nn\n",
    "import torch\n",
    "class AE(nn.Module):\n",
    "    def __init__(self):\n",
    "        super(AE, self).__init__()\n",
    "        layers = []\n",
    "        layers.append(nn.Conv2d(kernel_size=3, padding=2, stride=1, in_channels=1, out_channels=1))\n",
    "        layers.append(nn.Sigmoid())\n",
    "        layers.append(nn.ConvTranspose2d(kernel_size=3, padding=2, stride=1, in_channels=1, out_channels=1))\n",
    "        layers.append(nn.Sigmoid()) # dense prediction\n",
    "        self.layers = layers\n",
    "        self.model = nn.Sequential(*layers)\n",
    "        \n",
    "    def forward(self,x):\n",
    "        return self.model(x) + x\n",
    "    \n",
    "ae = AE()\n",
    "x = torch.randn(64, 1, 64, 64)\n",
    "ae(x).shape"
   ]
  },
  {
   "cell_type": "markdown",
   "metadata": {},
   "source": [
    "## part A: InfoAE\n",
    "Maximizing Mutual Info between input c and predicted c_hat"
   ]
  },
  {
   "cell_type": "code",
   "execution_count": 329,
   "metadata": {
    "ExecuteTime": {
     "end_time": "2019-10-11T05:55:35.601476Z",
     "start_time": "2019-10-11T05:55:35.594931Z"
    }
   },
   "outputs": [],
   "source": [
    "class Encoder(nn.Module):\n",
    "    def __init__(self):\n",
    "        super(Encoder, self).__init__()\n",
    "        layers = []\n",
    "        layers.append(nn.Linear(in_features=784, out_features=512))\n",
    "        layers.append(nn.ReLU(inplace=True))\n",
    "        layers.append(nn.Linear(in_features=512, out_features=256))\n",
    "        layers.append(nn.ReLU(inplace=True))\n",
    "        layers.append(nn.Linear(in_features=256, out_features=10))\n",
    "#         layers.append(nn.Sigmoid()) # 限制了code的范围效果不行，是否和梯度消失有关系？\n",
    "        self.model = nn.Sequential(*layers)\n",
    "        \n",
    "    def forward(self, x):\n",
    "        return self.model(x.view(-1, 784))\n",
    "    \n",
    "class Decoder(nn.Module):\n",
    "    def __init__(self):\n",
    "        super(Decoder, self).__init__()\n",
    "        layers = []\n",
    "        layers.append(nn.Linear(in_features=10, out_features=256))\n",
    "        layers.append(nn.ReLU(inplace=True))\n",
    "        layers.append(nn.Linear(in_features=256, out_features=512))\n",
    "        layers.append(nn.ReLU(inplace=True))\n",
    "        layers.append(nn.Linear(in_features=512, out_features=784))\n",
    "        layers.append(nn.Sigmoid())\n",
    "        self.model = nn.Sequential(*layers)\n",
    "        \n",
    "    def forward(self, z):\n",
    "        out = self.model(z)\n",
    "        return out   "
   ]
  },
  {
   "cell_type": "code",
   "execution_count": 298,
   "metadata": {
    "ExecuteTime": {
     "end_time": "2019-10-11T05:13:17.817576Z",
     "start_time": "2019-10-11T05:13:17.785197Z"
    }
   },
   "outputs": [],
   "source": [
    "class Dataset():\n",
    "    def __init__(self, test_val_split=0.5, normalize=True):\n",
    "        \"\"\"\n",
    "        arg:\n",
    "            test_val_split: the proportion of data_test is used for test data\n",
    "        \"\"\"\n",
    "        self.idx = 0\n",
    "        self.ds = ds\n",
    "        self.ratio = test_val_split\n",
    "        \n",
    "        self._extract_train_test_data()\n",
    "        self._test_val_split()\n",
    "        if normalize:\n",
    "            self._normalize()\n",
    "    \n",
    "    def _extract_train_test_data(self):\n",
    "        data_train = self.ds.MNIST(root='/Users/ellise/Desktop/datasets/MNIST_data/', train=True, download=False)\n",
    "        data_test = self.ds.MNIST(root='/Users/ellise/Desktop/datasets/MNIST_data/', train=False, download=False)\n",
    "        self.X_train, self.y_train = data_train.train_data.float(), data_train.train_labels\n",
    "        self.X_test, self.y_test = data_test.test_data.float(), data_test.test_labels\n",
    "        self.num_instances_test = self.X_test.shape[0]\n",
    "        \n",
    "    def _test_val_split(self):\n",
    "        \"\"\"\n",
    "        split test and validation set according to split ratio and total_size\n",
    "        \"\"\"\n",
    "        split_idx = self.num_instances_test - int(self.num_instances_test * self.ratio)\n",
    "        self.X_val, self.y_val = self.X_test[:split_idx], self.y_test[:split_idx]\n",
    "        self.X_test, self.y_test = self.X_test[split_idx:], self.y_test[split_idx:]\n",
    "        print(\"Train set size: {}; Test set size: {}; Validation set size: {}\".format(self.X_train.shape[0],\\\n",
    "                                                                                     self.X_test.shape[0],\\\n",
    "                                                                                     self.X_val.shape[0]))\n",
    "        \n",
    "    def get_train_batch(self, batch_size):\n",
    "        idx_start = self.idx\n",
    "        idx_end = self.idx + batch_size\n",
    "        self.idx += batch_size\n",
    "\n",
    "        if(self.idx >= self.X_train.shape[0]):\n",
    "            self.idx = 0\n",
    "            idx_list = np.linspace(0,self.X_train.shape[0]-1,self.X_train.shape[0])\n",
    "            idx_list_shuffle = np.random.shuffle(np.linspace(0,self.X_train.shape[0]-1,self.X_train.shape[0]))\n",
    "\n",
    "            self.X_train[idx_list] = self.X_train[idx_list_shuffle]\n",
    "            self.y_train[idx_list] = self.y_train[idx_list_shuffle]\n",
    "        return (self.X_train[idx_start:idx_end], self.y_train[idx_start:idx_end])\n",
    "    \n",
    "    def _normalize(self):\n",
    "        def squash(X):\n",
    "            # put data into 0-1\n",
    "            return (X - torch.min(X)) / (torch.max(X) - torch.min(X))\n",
    "        self.X_train = squash(self.X_train)\n",
    "        print()\n",
    "        self.X_test = squash(self.X_test)\n",
    "        self.X_val = squash(self.X_val)\n",
    "        \n",
    "    def get_test_data(self):\n",
    "        return (self.X_test, self.y_test)\n",
    "        \n",
    "    def get_validation_data(self):\n",
    "        return (self.X_val, self.y_val)\n",
    "    \n",
    "    def get_num_of_instances_in_train(self):\n",
    "        # used for return how many instances in training set in total\n",
    "        return self.X_train.shape[0]\n",
    "    \n",
    "    def get_test_set_size(self):\n",
    "        return self.X_test.shape[0]\n",
    "    \n",
    "    def get_val_set_size(self):\n",
    "        return self.X_val.shape[0]"
   ]
  },
  {
   "cell_type": "code",
   "execution_count": 330,
   "metadata": {
    "ExecuteTime": {
     "end_time": "2019-10-11T05:55:38.759129Z",
     "start_time": "2019-10-11T05:55:38.753402Z"
    }
   },
   "outputs": [],
   "source": [
    "def Train_AE(epochs, batch_size, learning_rate, encoder, decoder, opt, criterion, dataset):\n",
    "    param = list(encoder.parameters()) + list(decoder.parameters())\n",
    "    opt = opt(lr=learning_rate, params=param) \n",
    "    criterion = criterion()\n",
    "    \n",
    "    num = dataset.get_num_of_instances_in_train()\n",
    "    \n",
    "    X_test, y_test = dataset.get_test_data()\n",
    "    \n",
    "    for e in range(epochs * int(num / batch_size)):\n",
    "        x_batch, y_batch = dataset.get_train_batch(batch_size=batch_size)\n",
    "        code = encoder(x_batch)\n",
    "        x_batch_hat = decoder(code)\n",
    "        loss = criterion(input=x_batch_hat, target=x_batch.view(-1, 784))\n",
    "        loss.backward()\n",
    "        opt.step()\n",
    "        opt.zero_grad()\n",
    "        \n",
    "        # get result every several number of steps\n",
    "        if e % int(num/batch_size) == 0:\n",
    "            cur_epoch = int(e / int(num/batch_size)) + 1\n",
    "            print(\"Epoch: {}; [Loss] : [{}]\".format(cur_epoch, loss))\n",
    "            \n",
    "#     X_test_hat = decoder(encoder(X_test, c))\n",
    "#     loss_test = criterion(input=X_test_hat, target=X_test.view(-1,784))\n",
    "#     print(\"Test Loss: {}\".format(loss_test))"
   ]
  },
  {
   "cell_type": "code",
   "execution_count": 331,
   "metadata": {
    "ExecuteTime": {
     "end_time": "2019-10-11T05:57:34.798368Z",
     "start_time": "2019-10-11T05:55:39.726446Z"
    }
   },
   "outputs": [
    {
     "name": "stdout",
     "output_type": "stream",
     "text": [
      "Train set size: 60000; Test set size: 8000; Validation set size: 2000\n",
      "\n",
      "Epoch: 1; [Loss] : [0.23107358813285828]\n",
      "Epoch: 2; [Loss] : [0.03213575482368469]\n",
      "Epoch: 3; [Loss] : [0.021273810416460037]\n",
      "Epoch: 4; [Loss] : [0.01725080981850624]\n",
      "Epoch: 5; [Loss] : [0.01721201092004776]\n",
      "Epoch: 6; [Loss] : [0.01468177791684866]\n",
      "Epoch: 7; [Loss] : [0.015695497393608093]\n",
      "Epoch: 8; [Loss] : [0.015369824133813381]\n",
      "Epoch: 9; [Loss] : [0.01426712330430746]\n",
      "Epoch: 10; [Loss] : [0.014800415374338627]\n"
     ]
    }
   ],
   "source": [
    "dataset = Dataset(test_val_split=0.8,normalize=True) # normalize data to 0,1\n",
    "encoder = Encoder()\n",
    "decoder = Decoder()\n",
    "opt = torch.optim.Adam\n",
    "criterion = nn.MSELoss\n",
    "Train_AE(epochs=10, batch_size=256, learning_rate=5e-3, encoder=encoder, decoder=decoder,opt=opt, criterion=criterion, dataset=dataset)"
   ]
  },
  {
   "cell_type": "code",
   "execution_count": 332,
   "metadata": {
    "ExecuteTime": {
     "end_time": "2019-10-11T05:57:35.999894Z",
     "start_time": "2019-10-11T05:57:35.556164Z"
    }
   },
   "outputs": [
    {
     "data": {
      "image/png": "[encoded data removed]",
      "text/plain": [
       "<Figure size 432x288 with 16 Axes>"
      ]
     },
     "metadata": {
      "needs_background": "light"
     },
     "output_type": "display_data"
    }
   ],
   "source": [
    "x_batch, y_batch = dataset.get_train_batch(batch_size=256)\n",
    "for i in range(16):\n",
    "    plt.subplot(4,4,i+1)\n",
    "    plt.imshow(x_batch[i].detach(), cmap='gray')\n",
    "    plt.axis('off')"
   ]
  },
  {
   "cell_type": "code",
   "execution_count": 351,
   "metadata": {
    "ExecuteTime": {
     "end_time": "2019-10-11T06:02:34.274027Z",
     "start_time": "2019-10-11T06:02:33.859777Z"
    }
   },
   "outputs": [
    {
     "data": {
      "image/png": "[encoded data removed]",
      "text/plain": [
       "<Figure size 432x288 with 16 Axes>"
      ]
     },
     "metadata": {
      "needs_background": "light"
     },
     "output_type": "display_data"
    }
   ],
   "source": [
    "##### import matplotlib.pyplot as plt\n",
    "# x_batch, _ = dataset.get_train_batch(batch_size=16)\n",
    "code = encoder(x_batch.view(-1, 784))\n",
    "# code = torch.zeros_like(code)\n",
    "# code [:,0] += 0.5\n",
    "x_reconst = decoder(code)\n",
    "\n",
    "for i in range(16):\n",
    "    plt.subplot(4,4,i+1)\n",
    "    plt.imshow(x_reconst[i].view(28,28).detach(), cmap='gray')\n",
    "    plt.axis('off')"
   ]
  },
  {
   "cell_type": "code",
   "execution_count": 335,
   "metadata": {
    "ExecuteTime": {
     "end_time": "2019-10-11T05:58:50.369848Z",
     "start_time": "2019-10-11T05:58:50.364386Z"
    }
   },
   "outputs": [
    {
     "data": {
      "text/plain": [
       "tensor([[-0.3408, -0.6531,  0.4171,  ..., -0.8929, -1.8156, -0.5782],\n",
       "        [ 0.2632, -2.3161, -4.5071,  ...,  4.1155, -2.0571, -2.1095],\n",
       "        [ 1.6686, -2.3461, -0.5196,  ...,  0.6723,  0.7480, -0.8037],\n",
       "        ...,\n",
       "        [-1.6680, -0.3022,  0.2140,  ...,  1.5278,  1.7897, -0.8048],\n",
       "        [ 0.7348, -0.7178,  1.0588,  ...,  0.1717, -0.9685, -2.0358],\n",
       "        [-0.5548, -0.0950,  2.0271,  ...,  0.1891, -0.2435, -0.4719]],\n",
       "       grad_fn=<AddmmBackward>)"
      ]
     },
     "execution_count": 335,
     "metadata": {},
     "output_type": "execute_result"
    }
   ],
   "source": [
    "code"
   ]
  },
  {
   "cell_type": "markdown",
   "metadata": {},
   "source": [
    "## Train a GAN to generate code representation for original dataset; decode to recover sample in original space"
   ]
  },
  {
   "cell_type": "code",
   "execution_count": 339,
   "metadata": {
    "ExecuteTime": {
     "end_time": "2019-10-11T05:59:39.895749Z",
     "start_time": "2019-10-11T05:59:39.889865Z"
    }
   },
   "outputs": [],
   "source": [
    "class Generator(nn.Module):\n",
    "    def __init__(self):\n",
    "        super(Generator, self).__init__()\n",
    "        layers = []\n",
    "        layers.append(nn.Linear(in_features=100, out_features=128))\n",
    "        layers.append(nn.ReLU(True))\n",
    "        layers.append(nn.Linear(in_features=128, out_features=10))\n",
    "#         layers.append(nn.Sigmoid()) # Tanh不太行，可能和Linear而不是Conv有关\n",
    "        \n",
    "        self.model = nn.Sequential(*layers)\n",
    "        \n",
    "    def forward(self, z):\n",
    "        return self.model(z)\n",
    "    \n",
    "class Discriminator(nn.Module):\n",
    "    def __init__(self):\n",
    "        super(Discriminator, self).__init__()\n",
    "        layers = []\n",
    "        layers.append(nn.Linear(in_features=10, out_features=128))\n",
    "        layers.append(nn.ReLU(True))\n",
    "        layers.append(nn.Linear(in_features=128, out_features=1))\n",
    "        layers.append(nn.Sigmoid())\n",
    "        \n",
    "        self.model = nn.Sequential(*layers)\n",
    "        \n",
    "    def forward(self, x):\n",
    "        return self.model(x.view(x.shape[0], -1))"
   ]
  },
  {
   "cell_type": "code",
   "execution_count": 342,
   "metadata": {
    "ExecuteTime": {
     "end_time": "2019-10-11T06:00:23.709186Z",
     "start_time": "2019-10-11T06:00:22.519572Z"
    }
   },
   "outputs": [
    {
     "name": "stdout",
     "output_type": "stream",
     "text": [
      "Train set size: 60000; Test set size: 8000; Validation set size: 2000\n",
      "\n"
     ]
    }
   ],
   "source": [
    "dataset = Dataset(test_val_split=0.8,normalize=True) # normalize data to 0,1\n",
    "dataset.X_train = encoder(dataset.X_train).detach()\n",
    "dataset.X_test = encoder(dataset.X_test).detach()\n",
    "dataset.X_val = encoder(dataset.X_val).detach()"
   ]
  },
  {
   "cell_type": "code",
   "execution_count": 343,
   "metadata": {
    "ExecuteTime": {
     "end_time": "2019-10-11T06:01:24.999493Z",
     "start_time": "2019-10-11T06:00:26.881048Z"
    }
   },
   "outputs": [
    {
     "name": "stdout",
     "output_type": "stream",
     "text": [
      "Epoch:0;Loss_D:1.2914161682128906;Loss_G:0.6359814405441284\n",
      "Epoch:1;Loss_D:0.8622974753379822;Loss_G:0.9863688349723816\n",
      "Epoch:2;Loss_D:0.9455296993255615;Loss_G:1.4100452661514282\n",
      "Epoch:3;Loss_D:1.1038964986801147;Loss_G:1.0091819763183594\n",
      "Epoch:4;Loss_D:1.6867461204528809;Loss_G:0.7490944266319275\n",
      "Epoch:5;Loss_D:1.419289469718933;Loss_G:0.8552502989768982\n",
      "Epoch:6;Loss_D:1.566993236541748;Loss_G:0.9604910016059875\n",
      "Epoch:7;Loss_D:1.0577930212020874;Loss_G:1.0793362855911255\n",
      "Epoch:8;Loss_D:1.0112327337265015;Loss_G:1.0307053327560425\n",
      "Epoch:9;Loss_D:1.3170644044876099;Loss_G:0.976226806640625\n",
      "Epoch:10;Loss_D:1.3855184316635132;Loss_G:0.8281793594360352\n",
      "Epoch:11;Loss_D:1.2576253414154053;Loss_G:0.8364502787590027\n",
      "Epoch:12;Loss_D:1.2532711029052734;Loss_G:0.9973567724227905\n",
      "Epoch:13;Loss_D:1.3050909042358398;Loss_G:0.9388174414634705\n",
      "Epoch:14;Loss_D:1.306952714920044;Loss_G:0.7635202407836914\n",
      "Epoch:15;Loss_D:1.3786497116088867;Loss_G:0.848691463470459\n",
      "Epoch:16;Loss_D:1.39729905128479;Loss_G:0.7953256368637085\n",
      "Epoch:17;Loss_D:1.277907133102417;Loss_G:0.9023303985595703\n",
      "Epoch:18;Loss_D:1.5543879270553589;Loss_G:0.7901405096054077\n",
      "Epoch:19;Loss_D:1.387921690940857;Loss_G:0.8556655645370483\n",
      "Epoch:20;Loss_D:1.316054344177246;Loss_G:0.9406265616416931\n",
      "Epoch:21;Loss_D:1.3546531200408936;Loss_G:0.9323909878730774\n",
      "Epoch:22;Loss_D:1.2893736362457275;Loss_G:0.7785683870315552\n",
      "Epoch:23;Loss_D:1.5926494598388672;Loss_G:0.744892418384552\n",
      "Epoch:24;Loss_D:1.309443473815918;Loss_G:0.7919709086418152\n",
      "Epoch:25;Loss_D:1.1874449253082275;Loss_G:1.018333077430725\n",
      "Epoch:26;Loss_D:1.5296759605407715;Loss_G:0.6793965101242065\n",
      "Epoch:27;Loss_D:1.3738157749176025;Loss_G:0.7592002749443054\n",
      "Epoch:28;Loss_D:1.2019331455230713;Loss_G:0.8481940031051636\n",
      "Epoch:29;Loss_D:1.2174203395843506;Loss_G:0.8436993956565857\n",
      "Epoch:30;Loss_D:1.3378357887268066;Loss_G:0.7500863671302795\n",
      "Epoch:31;Loss_D:1.2947561740875244;Loss_G:0.8519468307495117\n",
      "Epoch:32;Loss_D:1.1823070049285889;Loss_G:0.8307079076766968\n",
      "Epoch:33;Loss_D:1.3770582675933838;Loss_G:0.7997900247573853\n",
      "Epoch:34;Loss_D:1.328925609588623;Loss_G:0.8244173526763916\n",
      "Epoch:35;Loss_D:1.381166696548462;Loss_G:0.8461487889289856\n",
      "Epoch:36;Loss_D:1.2538256645202637;Loss_G:0.7320107221603394\n",
      "Epoch:37;Loss_D:1.4073137044906616;Loss_G:0.7541561722755432\n",
      "Epoch:38;Loss_D:1.302367925643921;Loss_G:0.8650341629981995\n",
      "Epoch:39;Loss_D:1.27113676071167;Loss_G:0.8845638632774353\n",
      "Epoch:40;Loss_D:1.2717654705047607;Loss_G:0.8439122438430786\n",
      "Epoch:41;Loss_D:1.3010945320129395;Loss_G:0.7520079016685486\n",
      "Epoch:42;Loss_D:1.2757620811462402;Loss_G:0.8470080494880676\n",
      "Epoch:43;Loss_D:1.2378900051116943;Loss_G:1.002910852432251\n",
      "Epoch:44;Loss_D:1.3760592937469482;Loss_G:0.798755407333374\n",
      "Epoch:45;Loss_D:1.352023720741272;Loss_G:0.8200428485870361\n",
      "Epoch:46;Loss_D:1.3164722919464111;Loss_G:0.8492504954338074\n",
      "Epoch:47;Loss_D:1.3196074962615967;Loss_G:0.793390154838562\n",
      "Epoch:48;Loss_D:1.3503468036651611;Loss_G:0.8356314897537231\n",
      "Epoch:49;Loss_D:1.426926851272583;Loss_G:0.731415867805481\n"
     ]
    }
   ],
   "source": [
    "G = Generator()\n",
    "D = Discriminator()\n",
    "opt_G = torch.optim.Adam(lr=1e-3,params=G.parameters())\n",
    "opt_D = torch.optim.Adam(lr=1e-3,params=D.parameters())\n",
    "\n",
    "# dataset = Dataset(0.8, True)\n",
    "# change training set to [-1,1]\n",
    "#dataset.X_train = (dataset.X_train - 0.5) * 2\n",
    "epochs = 50\n",
    "num = dataset.get_num_of_instances_in_train()\n",
    "batch_size = 256\n",
    "for e in range(epochs * int(num / batch_size)):    \n",
    "    for i in range(1):\n",
    "        x_real, _ = dataset.get_train_batch(batch_size)\n",
    "        z = torch.Tensor(np.random.randn(x_real.shape[0], 100))\n",
    "        x_fake = G(z)\n",
    "\n",
    "        D_real = D(x_real)\n",
    "        D_fake = D(x_fake)\n",
    "\n",
    "        # loss_D = - torch.mean(torch.log(D_real) + torch.log(1-D_fake))\n",
    "        loss_D = nn.functional.binary_cross_entropy(input=D_real, target=torch.ones_like(D_real))\n",
    "        loss_D += nn.functional.binary_cross_entropy(input=D_fake, target=torch.zeros_like(D_fake))\n",
    "\n",
    "        # update D\n",
    "        loss_D.backward()\n",
    "        opt_D.step()\n",
    "        opt_D.zero_grad()\n",
    "        opt_G.zero_grad()\n",
    "    \n",
    "    z = torch.Tensor(np.random.randn(x_real.shape[0], 100))\n",
    "    x_fake_ = G(z)\n",
    "    D_fake_ = D(x_fake_)\n",
    "    #loss_G = - torch.mean(torch.log(D_fake))\n",
    "    loss_G = nn.functional.binary_cross_entropy(input=D_fake_, target=torch.ones_like(D_fake_))\n",
    "    \n",
    "    # update G\n",
    "    loss_G.backward()\n",
    "    opt_G.step()\n",
    "    opt_G.zero_grad()\n",
    "    opt_D.zero_grad()\n",
    "    \n",
    "    if e % int(num/batch_size) == 0:\n",
    "        print(\"Epoch:{};Loss_D:{};Loss_G:{}\".format(int(e / int(num/batch_size)), loss_D, loss_G))"
   ]
  },
  {
   "cell_type": "code",
   "execution_count": 350,
   "metadata": {
    "ExecuteTime": {
     "end_time": "2019-10-11T06:02:27.590831Z",
     "start_time": "2019-10-11T06:02:27.161276Z"
    }
   },
   "outputs": [
    {
     "data": {
      "image/png": "[encoded data removed]",
      "text/plain": [
       "<Figure size 432x288 with 16 Axes>"
      ]
     },
     "metadata": {
      "needs_background": "light"
     },
     "output_type": "display_data"
    }
   ],
   "source": [
    "z=torch.Tensor(np.random.randn(x_real.shape[0], 100))\n",
    "code = G(z)\n",
    "# code = torch.zeros_like(code)\n",
    "# code [:,0] += 0.5\n",
    "x_reconst = decoder(code)\n",
    "\n",
    "for i in range(16):\n",
    "    plt.subplot(4,4,i+1)\n",
    "    plt.imshow(x_reconst[i].view(28,28).detach(), cmap='gray')\n",
    "    plt.axis('off')"
   ]
  },
  {
   "cell_type": "markdown",
   "metadata": {},
   "source": [
    "Since reconstruction loss is quite a strong restriction, so this might not work"
   ]
  },
  {
   "cell_type": "markdown",
   "metadata": {},
   "source": [
    "## part B: U-net "
   ]
  },
  {
   "cell_type": "code",
   "execution_count": 271,
   "metadata": {
    "ExecuteTime": {
     "end_time": "2019-10-10T13:20:18.552571Z",
     "start_time": "2019-10-10T13:20:18.542681Z"
    }
   },
   "outputs": [],
   "source": [
    "class U_net_generator(nn.Module):\n",
    "    def __init__(self, outer_dim, middle_dim, middle=None, outer_most=False):\n",
    "        super(U_net_generator, self).__init__()\n",
    "        \n",
    "        down_layer = [nn.Conv2d(outer_dim, middle_dim, 4,2,1)] # in, out, kernel, stride, padding\n",
    "        down_layer.append(nn.BatchNorm2d(num_features=middle_dim))\n",
    "        down_layer.append(nn.ReLU())\n",
    "        \n",
    "        up_layer = [nn.ConvTranspose2d(middle_dim, outer_dim, 4,2,1)]\n",
    "        up_layer.append(nn.BatchNorm2d(num_features=outer_dim))\n",
    "        if outer_most:\n",
    "            up_layer.append(nn.Tanh())\n",
    "        else:\n",
    "            up_layer.append(nn.ReLU())\n",
    "            \n",
    "        if middle == None:\n",
    "            self.layers = down_layer + up_layer\n",
    "        else:\n",
    "            self.layers = down_layer + [middle] + up_layer\n",
    "            \n",
    "        self.model = nn.Sequential(*self.layers)\n",
    "        \n",
    "    def forward(self, x):\n",
    "        return self.model(x) + x\n",
    "    \n",
    "net = U_net_generator(2,4)\n",
    "net = U_net_generator(1,2,net)"
   ]
  },
  {
   "cell_type": "code",
   "execution_count": 292,
   "metadata": {
    "ExecuteTime": {
     "end_time": "2019-10-10T13:25:04.819561Z",
     "start_time": "2019-10-10T13:25:04.814844Z"
    }
   },
   "outputs": [],
   "source": [
    "class middle_layer(nn.Module):\n",
    "    def __init__(self, outer_dim, middle_dim):\n",
    "        super(middle_layer, self).__init__()\n",
    "        down_layer = [nn.Conv2d(outer_dim, middle_dim, 4,2,1)] # in, out, kernel, stride, padding\n",
    "        down_layer.append(nn.BatchNorm2d(num_features=middle_dim))\n",
    "        down_layer.append(nn.ReLU())\n",
    "        \n",
    "        up_layer = [nn.ConvTranspose2d(middle_dim, outer_dim, 4,2,1)]\n",
    "        up_layer.append(nn.BatchNorm2d(num_features=outer_dim))\n",
    "        \n",
    "        layers = down_layer + up_layer\n",
    "        self.model = nn.Sequential(*layers)\n",
    "        \n",
    "        self.down_layer = down_layer\n",
    "        \n",
    "    def forward(self, x):\n",
    "        global code\n",
    "        code = nn.Sequential(*self.down_layer)(x)\n",
    "        return self.model(x) + x"
   ]
  },
  {
   "cell_type": "code",
   "execution_count": 293,
   "metadata": {
    "ExecuteTime": {
     "end_time": "2019-10-10T13:25:05.413341Z",
     "start_time": "2019-10-10T13:25:05.400806Z"
    }
   },
   "outputs": [],
   "source": [
    "img = torch.randn(2,3,400,600)"
   ]
  },
  {
   "cell_type": "code",
   "execution_count": 294,
   "metadata": {
    "ExecuteTime": {
     "end_time": "2019-10-10T13:25:05.949469Z",
     "start_time": "2019-10-10T13:25:05.938331Z"
    }
   },
   "outputs": [],
   "source": [
    "code = None\n",
    "img_dim = 3\n",
    "num = 2 # latent code res * 2^num = img res\n",
    "num = num-1 # condiering middle layer dim increase\n",
    "left = int(img_dim*(2 ** num))\n",
    "right = int(img_dim*(2 ** num))\n",
    "net = middle_layer(left, right)\n",
    "for i in range(num):\n",
    "    temp = left\n",
    "    left = int(left / 2)\n",
    "    right = temp\n",
    "    net = U_net_generator(left, right, net)"
   ]
  },
  {
   "cell_type": "code",
   "execution_count": 295,
   "metadata": {
    "ExecuteTime": {
     "end_time": "2019-10-10T13:25:06.498825Z",
     "start_time": "2019-10-10T13:25:06.417986Z"
    }
   },
   "outputs": [
    {
     "data": {
      "text/plain": [
       "torch.Size([2, 3, 400, 600])"
      ]
     },
     "execution_count": 295,
     "metadata": {},
     "output_type": "execute_result"
    }
   ],
   "source": [
    "net(img).shape"
   ]
  },
  {
   "cell_type": "code",
   "execution_count": 291,
   "metadata": {
    "ExecuteTime": {
     "end_time": "2019-10-10T13:24:56.820311Z",
     "start_time": "2019-10-10T13:24:56.816538Z"
    },
    "scrolled": true
   },
   "outputs": [
    {
     "data": {
      "text/plain": [
       "U_net_generator(\n",
       "  (model): Sequential(\n",
       "    (0): Conv2d(3, 6, kernel_size=(4, 4), stride=(2, 2), padding=(1, 1))\n",
       "    (1): BatchNorm2d(6, eps=1e-05, momentum=0.1, affine=True, track_running_stats=True)\n",
       "    (2): ReLU()\n",
       "    (3): middle_layer(\n",
       "      (model): Sequential(\n",
       "        (0): Conv2d(6, 6, kernel_size=(4, 4), stride=(2, 2), padding=(2, 2))\n",
       "        (1): BatchNorm2d(6, eps=1e-05, momentum=0.1, affine=True, track_running_stats=True)\n",
       "        (2): ReLU()\n",
       "        (3): ConvTranspose2d(6, 6, kernel_size=(4, 4), stride=(2, 2), padding=(2, 2))\n",
       "        (4): BatchNorm2d(6, eps=1e-05, momentum=0.1, affine=True, track_running_stats=True)\n",
       "      )\n",
       "    )\n",
       "    (4): ConvTranspose2d(6, 3, kernel_size=(4, 4), stride=(2, 2), padding=(1, 1))\n",
       "    (5): BatchNorm2d(3, eps=1e-05, momentum=0.1, affine=True, track_running_stats=True)\n",
       "    (6): ReLU()\n",
       "  )\n",
       ")"
      ]
     },
     "execution_count": 291,
     "metadata": {},
     "output_type": "execute_result"
    }
   ],
   "source": [
    "net"
   ]
  },
  {
   "cell_type": "code",
   "execution_count": 246,
   "metadata": {
    "ExecuteTime": {
     "end_time": "2019-09-26T05:52:33.221112Z",
     "start_time": "2019-09-26T05:52:33.217166Z"
    }
   },
   "outputs": [
    {
     "data": {
      "text/plain": [
       "torch.Size([64, 6, 16, 16])"
      ]
     },
     "execution_count": 246,
     "metadata": {},
     "output_type": "execute_result"
    }
   ],
   "source": [
    "code.shape"
   ]
  },
  {
   "cell_type": "code",
   "execution_count": 1,
   "metadata": {
    "ExecuteTime": {
     "end_time": "2019-09-28T11:16:51.394085Z",
     "start_time": "2019-09-28T11:16:50.256157Z"
    }
   },
   "outputs": [
    {
     "name": "stdout",
     "output_type": "stream",
     "text": [
      "Train set size: 60000; Test set size: 8000; Validation set size: 2000\n",
      "\n"
     ]
    }
   ],
   "source": [
    "from dataloader import MNIST_Dataset\n",
    "\n",
    "dataset = MNIST_Dataset(test_val_split=0.8, normalize=True)"
   ]
  },
  {
   "cell_type": "markdown",
   "metadata": {},
   "source": [
    "### part C: Energy Based GAN "
   ]
  },
  {
   "cell_type": "code",
   "execution_count": 52,
   "metadata": {
    "ExecuteTime": {
     "end_time": "2019-09-28T11:55:35.679360Z",
     "start_time": "2019-09-28T11:55:35.673589Z"
    }
   },
   "outputs": [],
   "source": [
    "import torch.nn as nn\n",
    "import torch\n",
    "class Generator(nn.Module):\n",
    "    def __init__(self):\n",
    "        super(Generator, self).__init__()\n",
    "        layers = []\n",
    "        layers.append(nn.Linear(in_features=100, out_features=128))\n",
    "        layers.append(nn.ReLU(True))\n",
    "        layers.append(nn.Linear(in_features=128, out_features=784))\n",
    "        layers.append(nn.Sigmoid())\n",
    "        \n",
    "        self.model = nn.Sequential(*layers)\n",
    "        \n",
    "    def forward(self, z):\n",
    "        return self.model(z)\n",
    "\n",
    "class Discriminator(nn.Module): # a AE structure\n",
    "    def __init__(self):\n",
    "        super(Discriminator, self).__init__()\n",
    "        layers = []\n",
    "        layers.append(nn.Linear(in_features=784, out_features=128))\n",
    "        layers.append(nn.ReLU(True))\n",
    "        layers.append(nn.Linear(in_features=128, out_features=784))\n",
    "#         layers.append(nn.Sigmoid())\n",
    "        \n",
    "        self.model = nn.Sequential(*layers)\n",
    "        \n",
    "    def forward(self,x):\n",
    "        return self.model(x)"
   ]
  },
  {
   "cell_type": "code",
   "execution_count": 100,
   "metadata": {
    "ExecuteTime": {
     "end_time": "2019-09-29T15:12:14.570782Z",
     "start_time": "2019-09-29T15:12:14.566531Z"
    }
   },
   "outputs": [],
   "source": [
    "# implementation of PT requires representation\n",
    "class Encoder(nn.Module):\n",
    "    def __init__(self):\n",
    "        super(Encoder, self).__init__()\n",
    "        layers = []\n",
    "        layers.append(nn.Linear(in_features=784, out_features=128))\n",
    "        self.model = nn.Sequential(*layers)\n",
    "        \n",
    "    def forward(self, x):\n",
    "        return self.model(x)\n",
    "    \n",
    "class Decoder(nn.Module):\n",
    "    def __init__(self):\n",
    "        super(Decoder, self).__init__()\n",
    "        layers = []\n",
    "        layers.append(nn.ReLU(True))\n",
    "        layers.append(nn.Linear(in_features=128, out_features=784))\n",
    "        self.model = nn.Sequential(*layers)\n",
    "        \n",
    "    def forward(self, z):\n",
    "        return self.model(z)\n",
    "    "
   ]
  },
  {
   "cell_type": "code",
   "execution_count": 153,
   "metadata": {
    "ExecuteTime": {
     "end_time": "2019-10-03T02:00:46.057963Z",
     "start_time": "2019-10-03T02:00:46.054032Z"
    }
   },
   "outputs": [
    {
     "name": "stdout",
     "output_type": "stream",
     "text": [
      "Help on function normalize in module torch.nn.functional:\n",
      "\n",
      "normalize(input, p=2, dim=1, eps=1e-12, out=None)\n",
      "    Performs :math:`L_p` normalization of inputs over specified dimension.\n",
      "    \n",
      "    For a tensor :attr:`input` of sizes :math:`(n_0, ..., n_{dim}, ..., n_k)`, each\n",
      "    :math:`n_{dim}` -element vector :math:`v` along dimension :attr:`dim` is transformed as\n",
      "    \n",
      "    .. math::\n",
      "        v = \\frac{v}{\\max(\\lVert v \\rVert_p, \\epsilon)}.\n",
      "    \n",
      "    With the default arguments it uses the Euclidean norm over vectors along dimension :math:`1` for normalization.\n",
      "    \n",
      "    Args:\n",
      "        input: input tensor of any shape\n",
      "        p (float): the exponent value in the norm formulation. Default: 2\n",
      "        dim (int): the dimension to reduce. Default: 1\n",
      "        eps (float): small value to avoid division by zero. Default: 1e-12\n",
      "        out (Tensor, optional): the output tensor. If :attr:`out` is used, this\n",
      "                                operation won't be differentiable.\n",
      "\n"
     ]
    }
   ],
   "source": [
    "help(torch.nn.functional.normalize)"
   ]
  },
  {
   "cell_type": "markdown",
   "metadata": {},
   "source": [
    "$v = \\frac{v}{\\max(\\lVert v \\rVert_p, \\epsilon)}$"
   ]
  },
  {
   "cell_type": "code",
   "execution_count": 152,
   "metadata": {
    "ExecuteTime": {
     "end_time": "2019-10-03T01:45:25.750707Z",
     "start_time": "2019-10-03T01:45:25.746307Z"
    }
   },
   "outputs": [
    {
     "name": "stdout",
     "output_type": "stream",
     "text": [
      "tensor([[ 0.0000,  0.0000,  0.0000],\n",
      "        [ 0.0399,  0.0000,  0.0000],\n",
      "        [-1.3614,  0.0908,  0.0000]])\n"
     ]
    }
   ],
   "source": [
    "a = torch.randn(3,3)\n",
    "a = torch.tril(a, -1)\n",
    "print(a)"
   ]
  },
  {
   "cell_type": "code",
   "execution_count": 236,
   "metadata": {
    "ExecuteTime": {
     "end_time": "2019-10-07T02:18:58.315766Z",
     "start_time": "2019-10-07T02:18:58.302867Z"
    }
   },
   "outputs": [
    {
     "data": {
      "text/plain": [
       "tensor(1.)"
      ]
     },
     "execution_count": 236,
     "metadata": {},
     "output_type": "execute_result"
    }
   ],
   "source": [
    "repelling_regularizer(code, code)"
   ]
  },
  {
   "cell_type": "code",
   "execution_count": 232,
   "metadata": {
    "ExecuteTime": {
     "end_time": "2019-10-07T02:17:32.715402Z",
     "start_time": "2019-10-07T02:17:32.710589Z"
    }
   },
   "outputs": [],
   "source": [
    "# representation level\n",
    "# 这个loss目前效果并不是非常好（目的是使得生成的图片更多样），可能原因是训练不够\n",
    "import torch.nn.functional as F\n",
    "def repelling_regularizer(s1, s2):\n",
    "        \"\"\"Calculate Pulling-away Term(PT).\"\"\"\n",
    "\n",
    "        n = s1.size(0)\n",
    "        #先逐项normalize\n",
    "        s1 = F.normalize(s1, p=2, dim=1)\n",
    "        s2 = F.normalize(s2, p=2, dim=1)\n",
    "        #BxBxD，两个B所含不同\n",
    "        S1 = s1.unsqueeze(1).repeat(1, s2.size(0), 1)\n",
    "        S2 = s2.unsqueeze(0).repeat(s1.size(0), 1, 1)\n",
    "        #逐项相乘\n",
    "        f_PT = S1.mul(S2).sum(-1).pow(2)\n",
    "        f_PT = torch.tril(f_PT, -1).sum().mul(2).div((n*(n-1)))\n",
    "\n",
    "        #f_PT = (S1.mul(S2).sum(-1).pow(2).sum(-1)-1).sum(-1).div(n*(n-1))\n",
    "        return f_PT"
   ]
  },
  {
   "cell_type": "code",
   "execution_count": 118,
   "metadata": {
    "ExecuteTime": {
     "end_time": "2019-09-30T13:53:42.521514Z",
     "start_time": "2019-09-30T13:44:29.534182Z"
    }
   },
   "outputs": [
    {
     "name": "stdout",
     "output_type": "stream",
     "text": [
      "Train set size: 60000; Test set size: 8000; Validation set size: 2000\n",
      "\n",
      "Epoch:0;Loss_D:4.651970863342285;Loss_G:1.6763615608215332\n",
      "Epoch:1;Loss_D:0.7047917246818542;Loss_G:37.07980728149414\n",
      "Epoch:2;Loss_D:0.11692502349615097;Loss_G:7.559729099273682\n",
      "Epoch:3;Loss_D:0.05962752550840378;Loss_G:8.211380004882812\n",
      "Epoch:4;Loss_D:0.22650030255317688;Loss_G:9.545670509338379\n",
      "Epoch:5;Loss_D:0.07189350575208664;Loss_G:10.572052955627441\n",
      "Epoch:6;Loss_D:0.39395660161972046;Loss_G:9.611259460449219\n",
      "Epoch:7;Loss_D:0.14473100006580353;Loss_G:8.404374122619629\n",
      "Epoch:8;Loss_D:0.1192273423075676;Loss_G:9.892805099487305\n",
      "Epoch:9;Loss_D:0.05954381451010704;Loss_G:8.807692527770996\n"
     ]
    }
   ],
   "source": [
    "G = Generator()\n",
    "enc = Encoder()\n",
    "dec = Decoder()\n",
    "opt_G = torch.optim.Adam(lr=1e-3,params=G.parameters())\n",
    "opt_D = torch.optim.Adam(lr=1e-3,params=list(enc.parameters()) + list(dec.parameters()))\n",
    "\n",
    "dataset = MNIST_Dataset(0.8, True)\n",
    "# change training set to [-1,1]\n",
    "#dataset.X_train = (dataset.X_train - 0.5) * 2\n",
    "epochs = 10\n",
    "num = dataset.get_num_of_instances_in_train()\n",
    "batch_size = 256\n",
    "m = 5\n",
    "for e in range(epochs * int(num / batch_size)):    \n",
    "    for i in range(3):\n",
    "        x_real, _ = dataset.get_train_batch(batch_size)\n",
    "        x_real = x_real.view(-1, 784)\n",
    "        size_of_batch = x_real.shape[0]\n",
    "        z = torch.Tensor(np.random.randn(x_real.shape[0], 100))\n",
    "        x_fake = G(z)\n",
    "\n",
    "        x_reconst_real = dec(enc(x_real))\n",
    "        x_reconst_fake = dec(enc(x_fake))\n",
    "        D_real = torch.mean((x_real - x_reconst_real) ** 2, 1)\n",
    "        D_fake = torch.mean((x_fake - x_reconst_fake) ** 2, 1)\n",
    "        \n",
    "        loss_D_ = torch.clamp_min((m - D_fake), 0)\n",
    "        loss_D = D_real + loss_D_\n",
    "        loss_D = torch.mean(loss_D)\n",
    "\n",
    "        # update D\n",
    "        loss_D.backward()\n",
    "        opt_D.step()\n",
    "        opt_D.zero_grad()\n",
    "        opt_G.zero_grad()\n",
    "    \n",
    "    z = torch.Tensor(np.random.randn(x_real.shape[0], 100))\n",
    "    x_fake_ = G(z)\n",
    "    h = enc(x_fake_)\n",
    "    x_reconst_fake_ = dec(h)\n",
    "    D_fake_ = torch.mean((x_fake_ - x_reconst_fake_) ** 2, 1)\n",
    "    \n",
    "    loss_pt = repelling_regularizer(h, h)\n",
    "    \n",
    "    loss_G = D_fake_ + loss_pt\n",
    "    loss_G = torch.mean(loss_G)\n",
    "    \n",
    "    # update G\n",
    "    loss_G.backward()\n",
    "    opt_G.step()\n",
    "    opt_G.zero_grad()\n",
    "    opt_D.zero_grad()\n",
    "    \n",
    "    if e % int(num/batch_size) == 0:\n",
    "        print(\"Epoch:{};Loss_D:{};Loss_G:{}\".format(int(e / int(num/batch_size)), loss_D, loss_G))"
   ]
  },
  {
   "cell_type": "code",
   "execution_count": 65,
   "metadata": {
    "ExecuteTime": {
     "end_time": "2019-09-28T12:12:33.398362Z",
     "start_time": "2019-09-28T11:59:50.227670Z"
    }
   },
   "outputs": [
    {
     "name": "stdout",
     "output_type": "stream",
     "text": [
      "Train set size: 60000; Test set size: 8000; Validation set size: 2000\n",
      "\n",
      "Epoch:0;Loss_D:4.651451587677002;Loss_G:0.6890887022018433\n",
      "Epoch:1;Loss_D:0.20721711218357086;Loss_G:6.828254222869873\n",
      "Epoch:2;Loss_D:0.14980153739452362;Loss_G:15.94062328338623\n",
      "Epoch:3;Loss_D:0.05133778601884842;Loss_G:9.121138572692871\n",
      "Epoch:4;Loss_D:0.14838019013404846;Loss_G:7.572526931762695\n",
      "Epoch:5;Loss_D:0.092549629509449;Loss_G:9.472505569458008\n",
      "Epoch:6;Loss_D:0.1043667122721672;Loss_G:19.846860885620117\n",
      "Epoch:7;Loss_D:0.2908119559288025;Loss_G:13.353841781616211\n",
      "Epoch:8;Loss_D:0.10150217264890671;Loss_G:8.072333335876465\n",
      "Epoch:9;Loss_D:0.23601719737052917;Loss_G:6.2242279052734375\n",
      "Epoch:10;Loss_D:0.15371356904506683;Loss_G:7.357212543487549\n",
      "Epoch:11;Loss_D:0.2047193944454193;Loss_G:7.266393661499023\n",
      "Epoch:12;Loss_D:0.21556812524795532;Loss_G:8.368830680847168\n",
      "Epoch:13;Loss_D:0.33321309089660645;Loss_G:7.849333763122559\n",
      "Epoch:14;Loss_D:0.4021087884902954;Loss_G:7.970800876617432\n",
      "Epoch:15;Loss_D:0.49330461025238037;Loss_G:6.83243465423584\n",
      "Epoch:16;Loss_D:0.3636989891529083;Loss_G:8.47980785369873\n",
      "Epoch:17;Loss_D:0.6785445213317871;Loss_G:6.919569492340088\n",
      "Epoch:18;Loss_D:0.4729817509651184;Loss_G:7.612613677978516\n",
      "Epoch:19;Loss_D:0.4945255517959595;Loss_G:6.185210227966309\n",
      "Epoch:20;Loss_D:0.4610579311847687;Loss_G:6.729686260223389\n",
      "Epoch:21;Loss_D:0.5952121615409851;Loss_G:7.041987895965576\n",
      "Epoch:22;Loss_D:0.5374009013175964;Loss_G:6.802415370941162\n",
      "Epoch:23;Loss_D:0.7262827754020691;Loss_G:6.23148775100708\n",
      "Epoch:24;Loss_D:0.532039225101471;Loss_G:7.608219146728516\n",
      "Epoch:25;Loss_D:0.5289444923400879;Loss_G:7.571591377258301\n",
      "Epoch:26;Loss_D:0.5820966362953186;Loss_G:8.004560470581055\n",
      "Epoch:27;Loss_D:0.6452125310897827;Loss_G:6.602068901062012\n",
      "Epoch:28;Loss_D:0.596154510974884;Loss_G:6.35283088684082\n",
      "Epoch:29;Loss_D:0.5843561291694641;Loss_G:7.125616073608398\n",
      "Epoch:30;Loss_D:0.41838356852531433;Loss_G:7.4518842697143555\n",
      "Epoch:31;Loss_D:0.6202024221420288;Loss_G:7.10839319229126\n",
      "Epoch:32;Loss_D:0.5388267040252686;Loss_G:8.02529239654541\n",
      "Epoch:33;Loss_D:0.669241726398468;Loss_G:7.828526973724365\n",
      "Epoch:34;Loss_D:0.5909698605537415;Loss_G:7.600273609161377\n",
      "Epoch:35;Loss_D:0.5143438577651978;Loss_G:7.499673843383789\n",
      "Epoch:36;Loss_D:0.578027606010437;Loss_G:7.877573013305664\n",
      "Epoch:37;Loss_D:0.5680016875267029;Loss_G:8.098956108093262\n",
      "Epoch:38;Loss_D:0.591079831123352;Loss_G:8.34689712524414\n",
      "Epoch:39;Loss_D:0.6404796838760376;Loss_G:8.620065689086914\n",
      "Epoch:40;Loss_D:0.589367151260376;Loss_G:8.177436828613281\n",
      "Epoch:41;Loss_D:0.563895046710968;Loss_G:10.123122215270996\n",
      "Epoch:42;Loss_D:0.6031965017318726;Loss_G:8.375324249267578\n",
      "Epoch:43;Loss_D:0.834679901599884;Loss_G:8.596457481384277\n",
      "Epoch:44;Loss_D:0.5867876410484314;Loss_G:8.361193656921387\n",
      "Epoch:45;Loss_D:0.5866170525550842;Loss_G:8.87474536895752\n",
      "Epoch:46;Loss_D:0.9197822213172913;Loss_G:8.560945510864258\n",
      "Epoch:47;Loss_D:0.783555269241333;Loss_G:7.7436723709106445\n",
      "Epoch:48;Loss_D:0.5650218725204468;Loss_G:9.352432250976562\n",
      "Epoch:49;Loss_D:0.7018681764602661;Loss_G:9.81304931640625\n"
     ]
    }
   ],
   "source": [
    "G = Generator()\n",
    "D = Discriminator()\n",
    "opt_G = torch.optim.Adam(lr=1e-3,params=G.parameters())\n",
    "opt_D = torch.optim.Adam(lr=1e-3,params=D.parameters())\n",
    "\n",
    "dataset = MNIST_Dataset(0.8, True)\n",
    "# change training set to [-1,1]\n",
    "#dataset.X_train = (dataset.X_train - 0.5) * 2\n",
    "epochs = 50\n",
    "num = dataset.get_num_of_instances_in_train()\n",
    "batch_size = 256\n",
    "m = 5\n",
    "for e in range(epochs * int(num / batch_size)):    \n",
    "    for i in range(3):\n",
    "        x_real, _ = dataset.get_train_batch(batch_size)\n",
    "        x_real = x_real.view(-1, 784)\n",
    "        z = torch.Tensor(np.random.randn(x_real.shape[0], 100))\n",
    "        x_fake = G(z)\n",
    "\n",
    "        x_reconst_real = D(x_real)\n",
    "        x_reconst_fake = D(x_fake)\n",
    "        D_real = torch.mean((x_real - x_reconst_real) ** 2, 1)\n",
    "        D_fake = torch.mean((x_fake - x_reconst_fake) ** 2, 1)\n",
    "        \n",
    "        loss_D_ = torch.clamp_min((m - D_fake), 0)\n",
    "        loss_D = D_real + loss_D_\n",
    "        loss_D = torch.mean(loss_D)\n",
    "\n",
    "        # update D\n",
    "        loss_D.backward()\n",
    "        opt_D.step()\n",
    "        opt_D.zero_grad()\n",
    "        opt_G.zero_grad()\n",
    "    \n",
    "    z = torch.Tensor(np.random.randn(x_real.shape[0], 100))\n",
    "    x_fake_ = G(z)\n",
    "    x_reconst_fake_ = D(x_fake_)\n",
    "    D_fake_ = torch.mean((x_fake_ - x_reconst_fake_) ** 2, 1)\n",
    "    \n",
    "    loss_G = D_fake_\n",
    "    loss_G = torch.mean(loss_G)\n",
    "    \n",
    "    # update G\n",
    "    loss_G.backward()\n",
    "    opt_G.step()\n",
    "    opt_G.zero_grad()\n",
    "    opt_D.zero_grad()\n",
    "    \n",
    "    if e % int(num/batch_size) == 0:\n",
    "        print(\"Epoch:{};Loss_D:{};Loss_G:{}\".format(int(e / int(num/batch_size)), loss_D, loss_G))"
   ]
  },
  {
   "cell_type": "code",
   "execution_count": 121,
   "metadata": {
    "ExecuteTime": {
     "end_time": "2019-09-30T14:10:24.235691Z",
     "start_time": "2019-09-30T14:10:21.090012Z"
    }
   },
   "outputs": [
    {
     "data": {
      "image/png": "[encoded data removed]",
      "text/plain": [
       "<Figure size 432x288 with 16 Axes>"
      ]
     },
     "metadata": {
      "needs_background": "light"
     },
     "output_type": "display_data"
    }
   ],
   "source": [
    "import matplotlib.pyplot as plt\n",
    "z = torch.Tensor(np.random.randn(x_real.shape[0], 100))\n",
    "x_fake = G(z).view(x_real.shape[0], 28, 28)\n",
    "for i in range(16):\n",
    "    plt.subplot(4,4,i+1)\n",
    "    plt.imshow(x_fake[i].detach(), cmap='gray')\n",
    "    plt.axis('off')"
   ]
  },
  {
   "cell_type": "code",
   "execution_count": 122,
   "metadata": {
    "ExecuteTime": {
     "end_time": "2019-09-30T14:10:30.649307Z",
     "start_time": "2019-09-30T14:10:30.269333Z"
    }
   },
   "outputs": [
    {
     "data": {
      "image/png": "[encoded data removed]",
      "text/plain": [
       "<Figure size 432x288 with 16 Axes>"
      ]
     },
     "metadata": {
      "needs_background": "light"
     },
     "output_type": "display_data"
    }
   ],
   "source": [
    "import matplotlib.pyplot as plt\n",
    "for i in range(16):\n",
    "    plt.subplot(4,4,i+1)\n",
    "    plt.imshow(x_reconst_real.view(-1, 28, 28)[i].detach(), cmap='gray')\n",
    "    plt.axis('off')"
   ]
  },
  {
   "cell_type": "code",
   "execution_count": 32,
   "metadata": {
    "ExecuteTime": {
     "end_time": "2019-09-28T11:36:27.617948Z",
     "start_time": "2019-09-28T11:36:27.613022Z"
    }
   },
   "outputs": [
    {
     "name": "stdout",
     "output_type": "stream",
     "text": [
      "tensor([1.8962])\n",
      "tensor([1.8962])\n"
     ]
    }
   ],
   "source": [
    "# 去掉sigmoid试一下\n",
    "a = torch.randn(1)\n",
    "print(torch.relu(a))\n",
    "print(torch.clamp_min(a, min=0))"
   ]
  },
  {
   "cell_type": "markdown",
   "metadata": {},
   "source": [
    "# Transfering MNIST from noise domain to clean domain"
   ]
  },
  {
   "cell_type": "code",
   "execution_count": 154,
   "metadata": {
    "ExecuteTime": {
     "end_time": "2019-10-06T09:13:01.109111Z",
     "start_time": "2019-10-06T09:13:00.400203Z"
    }
   },
   "outputs": [
    {
     "name": "stdout",
     "output_type": "stream",
     "text": [
      "Train set size: 60000; Test set size: 8000; Validation set size: 2000\n",
      "\n"
     ]
    }
   ],
   "source": [
    "from dataloader import MNIST_Dataset\n",
    "\n",
    "dataset = MNIST_Dataset(test_val_split=0.8, normalize=True)"
   ]
  },
  {
   "cell_type": "code",
   "execution_count": 163,
   "metadata": {
    "ExecuteTime": {
     "end_time": "2019-10-06T09:20:43.231371Z",
     "start_time": "2019-10-06T09:20:43.223681Z"
    }
   },
   "outputs": [],
   "source": [
    "# define a U-net which takes noise images as inputs\n",
    "# return clean images to discriminator\n",
    "\n",
    "class U_net_generator(nn.Module):\n",
    "    def __init__(self, outer_dim, middle_dim, middle=None, outer_most=False):\n",
    "        super(U_net_generator, self).__init__()\n",
    "        \n",
    "        down_layer = [nn.Conv2d(outer_dim, middle_dim, 4,2,1)] # in, out, kernel, stride, padding\n",
    "        down_layer.append(nn.BatchNorm2d(num_features=middle_dim))\n",
    "        down_layer.append(nn.ReLU())\n",
    "        \n",
    "        up_layer = [nn.ConvTranspose2d(middle_dim, outer_dim, 4,2,1)]\n",
    "        up_layer.append(nn.BatchNorm2d(num_features=outer_dim))\n",
    "        if outer_most:\n",
    "            up_layer.append(nn.Sigmoid())\n",
    "        else:\n",
    "            up_layer.append(nn.ReLU())\n",
    "            \n",
    "        if middle == None:\n",
    "            self.layers = down_layer + up_layer\n",
    "        else:\n",
    "            self.layers = down_layer + [middle] + up_layer\n",
    "            \n",
    "        self.model = nn.Sequential(*self.layers)\n",
    "        \n",
    "    def forward(self, x):\n",
    "        return self.model(x) + x\n",
    "    \n",
    "class Discriminator(nn.Module): # 可以试一下energy structure\n",
    "    def __init__(self):\n",
    "        super(Discriminator, self).__init__()\n",
    "        layers = []\n",
    "        layers.append(nn.Linear(in_features=784, out_features=128))\n",
    "        layers.append(nn.ReLU(True))\n",
    "        layers.append(nn.Linear(in_features=128, out_features=1))\n",
    "        layers.append(nn.Sigmoid())\n",
    "        \n",
    "        self.model = nn.Sequential(*layers)\n",
    "        \n",
    "    def forward(self,x):\n",
    "        return self.model(x.view(-1, 784))\n",
    "    "
   ]
  },
  {
   "cell_type": "code",
   "execution_count": 169,
   "metadata": {
    "ExecuteTime": {
     "end_time": "2019-10-06T09:26:38.064775Z",
     "start_time": "2019-10-06T09:25:33.040855Z"
    }
   },
   "outputs": [
    {
     "name": "stdout",
     "output_type": "stream",
     "text": [
      "Train set size: 60000; Test set size: 8000; Validation set size: 2000\n",
      "\n",
      "Epoch:0;Loss_D:-1.379427194595337;Loss_G:0.6243404150009155\n",
      "Epoch:1;Loss_D:-88.37625885009766;Loss_G:88.37625885009766\n"
     ]
    },
    {
     "ename": "KeyboardInterrupt",
     "evalue": "",
     "output_type": "error",
     "traceback": [
      "\u001b[0;31m---------------------------------------------------------------------------\u001b[0m",
      "\u001b[0;31mKeyboardInterrupt\u001b[0m                         Traceback (most recent call last)",
      "\u001b[0;32m<ipython-input-169-aadcb78e8ea6>\u001b[0m in \u001b[0;36m<module>\u001b[0;34m()\u001b[0m\n\u001b[1;32m     27\u001b[0m \u001b[0;34m\u001b[0m\u001b[0m\n\u001b[1;32m     28\u001b[0m     \u001b[0mx_fake\u001b[0m \u001b[0;34m=\u001b[0m \u001b[0mG\u001b[0m\u001b[0;34m(\u001b[0m\u001b[0mtorch\u001b[0m\u001b[0;34m.\u001b[0m\u001b[0munsqueeze\u001b[0m\u001b[0;34m(\u001b[0m\u001b[0mx_real\u001b[0m\u001b[0;34m,\u001b[0m\u001b[0;36m1\u001b[0m\u001b[0;34m)\u001b[0m\u001b[0;34m)\u001b[0m\u001b[0;34m\u001b[0m\u001b[0;34m\u001b[0m\u001b[0m\n\u001b[0;32m---> 29\u001b[0;31m     \u001b[0mD_fake\u001b[0m \u001b[0;34m=\u001b[0m \u001b[0mD\u001b[0m\u001b[0;34m(\u001b[0m\u001b[0mx_fake\u001b[0m\u001b[0;34m)\u001b[0m\u001b[0;34m\u001b[0m\u001b[0;34m\u001b[0m\u001b[0m\n\u001b[0m\u001b[1;32m     30\u001b[0m \u001b[0;34m\u001b[0m\u001b[0m\n\u001b[1;32m     31\u001b[0m     \u001b[0mloss_G\u001b[0m \u001b[0;34m=\u001b[0m \u001b[0;34m-\u001b[0m\u001b[0mtorch\u001b[0m\u001b[0;34m.\u001b[0m\u001b[0mlog\u001b[0m\u001b[0;34m(\u001b[0m\u001b[0mD_fake\u001b[0m\u001b[0;34m)\u001b[0m\u001b[0;34m\u001b[0m\u001b[0;34m\u001b[0m\u001b[0m\n",
      "\u001b[0;32m~/anaconda2/envs/py36/lib/python3.6/site-packages/torch/nn/modules/module.py\u001b[0m in \u001b[0;36m__call__\u001b[0;34m(self, *input, **kwargs)\u001b[0m\n\u001b[1;32m    487\u001b[0m             \u001b[0mresult\u001b[0m \u001b[0;34m=\u001b[0m \u001b[0mself\u001b[0m\u001b[0;34m.\u001b[0m\u001b[0m_slow_forward\u001b[0m\u001b[0;34m(\u001b[0m\u001b[0;34m*\u001b[0m\u001b[0minput\u001b[0m\u001b[0;34m,\u001b[0m \u001b[0;34m**\u001b[0m\u001b[0mkwargs\u001b[0m\u001b[0;34m)\u001b[0m\u001b[0;34m\u001b[0m\u001b[0;34m\u001b[0m\u001b[0m\n\u001b[1;32m    488\u001b[0m         \u001b[0;32melse\u001b[0m\u001b[0;34m:\u001b[0m\u001b[0;34m\u001b[0m\u001b[0;34m\u001b[0m\u001b[0m\n\u001b[0;32m--> 489\u001b[0;31m             \u001b[0mresult\u001b[0m \u001b[0;34m=\u001b[0m \u001b[0mself\u001b[0m\u001b[0;34m.\u001b[0m\u001b[0mforward\u001b[0m\u001b[0;34m(\u001b[0m\u001b[0;34m*\u001b[0m\u001b[0minput\u001b[0m\u001b[0;34m,\u001b[0m \u001b[0;34m**\u001b[0m\u001b[0mkwargs\u001b[0m\u001b[0;34m)\u001b[0m\u001b[0;34m\u001b[0m\u001b[0;34m\u001b[0m\u001b[0m\n\u001b[0m\u001b[1;32m    490\u001b[0m         \u001b[0;32mfor\u001b[0m \u001b[0mhook\u001b[0m \u001b[0;32min\u001b[0m \u001b[0mself\u001b[0m\u001b[0;34m.\u001b[0m\u001b[0m_forward_hooks\u001b[0m\u001b[0;34m.\u001b[0m\u001b[0mvalues\u001b[0m\u001b[0;34m(\u001b[0m\u001b[0;34m)\u001b[0m\u001b[0;34m:\u001b[0m\u001b[0;34m\u001b[0m\u001b[0;34m\u001b[0m\u001b[0m\n\u001b[1;32m    491\u001b[0m             \u001b[0mhook_result\u001b[0m \u001b[0;34m=\u001b[0m \u001b[0mhook\u001b[0m\u001b[0;34m(\u001b[0m\u001b[0mself\u001b[0m\u001b[0;34m,\u001b[0m \u001b[0minput\u001b[0m\u001b[0;34m,\u001b[0m \u001b[0mresult\u001b[0m\u001b[0;34m)\u001b[0m\u001b[0;34m\u001b[0m\u001b[0;34m\u001b[0m\u001b[0m\n",
      "\u001b[0;32m<ipython-input-163-b724d3a4dd79>\u001b[0m in \u001b[0;36mforward\u001b[0;34m(self, x)\u001b[0m\n\u001b[1;32m     39\u001b[0m \u001b[0;34m\u001b[0m\u001b[0m\n\u001b[1;32m     40\u001b[0m     \u001b[0;32mdef\u001b[0m \u001b[0mforward\u001b[0m\u001b[0;34m(\u001b[0m\u001b[0mself\u001b[0m\u001b[0;34m,\u001b[0m\u001b[0mx\u001b[0m\u001b[0;34m)\u001b[0m\u001b[0;34m:\u001b[0m\u001b[0;34m\u001b[0m\u001b[0;34m\u001b[0m\u001b[0m\n\u001b[0;32m---> 41\u001b[0;31m         \u001b[0;32mreturn\u001b[0m \u001b[0mself\u001b[0m\u001b[0;34m.\u001b[0m\u001b[0mmodel\u001b[0m\u001b[0;34m(\u001b[0m\u001b[0mx\u001b[0m\u001b[0;34m.\u001b[0m\u001b[0mview\u001b[0m\u001b[0;34m(\u001b[0m\u001b[0;34m-\u001b[0m\u001b[0;36m1\u001b[0m\u001b[0;34m,\u001b[0m \u001b[0;36m784\u001b[0m\u001b[0;34m)\u001b[0m\u001b[0;34m)\u001b[0m\u001b[0;34m\u001b[0m\u001b[0;34m\u001b[0m\u001b[0m\n\u001b[0m\u001b[1;32m     42\u001b[0m \u001b[0;34m\u001b[0m\u001b[0m\n",
      "\u001b[0;32m~/anaconda2/envs/py36/lib/python3.6/site-packages/torch/nn/modules/module.py\u001b[0m in \u001b[0;36m__call__\u001b[0;34m(self, *input, **kwargs)\u001b[0m\n\u001b[1;32m    487\u001b[0m             \u001b[0mresult\u001b[0m \u001b[0;34m=\u001b[0m \u001b[0mself\u001b[0m\u001b[0;34m.\u001b[0m\u001b[0m_slow_forward\u001b[0m\u001b[0;34m(\u001b[0m\u001b[0;34m*\u001b[0m\u001b[0minput\u001b[0m\u001b[0;34m,\u001b[0m \u001b[0;34m**\u001b[0m\u001b[0mkwargs\u001b[0m\u001b[0;34m)\u001b[0m\u001b[0;34m\u001b[0m\u001b[0;34m\u001b[0m\u001b[0m\n\u001b[1;32m    488\u001b[0m         \u001b[0;32melse\u001b[0m\u001b[0;34m:\u001b[0m\u001b[0;34m\u001b[0m\u001b[0;34m\u001b[0m\u001b[0m\n\u001b[0;32m--> 489\u001b[0;31m             \u001b[0mresult\u001b[0m \u001b[0;34m=\u001b[0m \u001b[0mself\u001b[0m\u001b[0;34m.\u001b[0m\u001b[0mforward\u001b[0m\u001b[0;34m(\u001b[0m\u001b[0;34m*\u001b[0m\u001b[0minput\u001b[0m\u001b[0;34m,\u001b[0m \u001b[0;34m**\u001b[0m\u001b[0mkwargs\u001b[0m\u001b[0;34m)\u001b[0m\u001b[0;34m\u001b[0m\u001b[0;34m\u001b[0m\u001b[0m\n\u001b[0m\u001b[1;32m    490\u001b[0m         \u001b[0;32mfor\u001b[0m \u001b[0mhook\u001b[0m \u001b[0;32min\u001b[0m \u001b[0mself\u001b[0m\u001b[0;34m.\u001b[0m\u001b[0m_forward_hooks\u001b[0m\u001b[0;34m.\u001b[0m\u001b[0mvalues\u001b[0m\u001b[0;34m(\u001b[0m\u001b[0;34m)\u001b[0m\u001b[0;34m:\u001b[0m\u001b[0;34m\u001b[0m\u001b[0;34m\u001b[0m\u001b[0m\n\u001b[1;32m    491\u001b[0m             \u001b[0mhook_result\u001b[0m \u001b[0;34m=\u001b[0m \u001b[0mhook\u001b[0m\u001b[0;34m(\u001b[0m\u001b[0mself\u001b[0m\u001b[0;34m,\u001b[0m \u001b[0minput\u001b[0m\u001b[0;34m,\u001b[0m \u001b[0mresult\u001b[0m\u001b[0;34m)\u001b[0m\u001b[0;34m\u001b[0m\u001b[0;34m\u001b[0m\u001b[0m\n",
      "\u001b[0;32m~/anaconda2/envs/py36/lib/python3.6/site-packages/torch/nn/modules/container.py\u001b[0m in \u001b[0;36mforward\u001b[0;34m(self, input)\u001b[0m\n\u001b[1;32m     90\u001b[0m     \u001b[0;32mdef\u001b[0m \u001b[0mforward\u001b[0m\u001b[0;34m(\u001b[0m\u001b[0mself\u001b[0m\u001b[0;34m,\u001b[0m \u001b[0minput\u001b[0m\u001b[0;34m)\u001b[0m\u001b[0;34m:\u001b[0m\u001b[0;34m\u001b[0m\u001b[0;34m\u001b[0m\u001b[0m\n\u001b[1;32m     91\u001b[0m         \u001b[0;32mfor\u001b[0m \u001b[0mmodule\u001b[0m \u001b[0;32min\u001b[0m \u001b[0mself\u001b[0m\u001b[0;34m.\u001b[0m\u001b[0m_modules\u001b[0m\u001b[0;34m.\u001b[0m\u001b[0mvalues\u001b[0m\u001b[0;34m(\u001b[0m\u001b[0;34m)\u001b[0m\u001b[0;34m:\u001b[0m\u001b[0;34m\u001b[0m\u001b[0;34m\u001b[0m\u001b[0m\n\u001b[0;32m---> 92\u001b[0;31m             \u001b[0minput\u001b[0m \u001b[0;34m=\u001b[0m \u001b[0mmodule\u001b[0m\u001b[0;34m(\u001b[0m\u001b[0minput\u001b[0m\u001b[0;34m)\u001b[0m\u001b[0;34m\u001b[0m\u001b[0;34m\u001b[0m\u001b[0m\n\u001b[0m\u001b[1;32m     93\u001b[0m         \u001b[0;32mreturn\u001b[0m \u001b[0minput\u001b[0m\u001b[0;34m\u001b[0m\u001b[0;34m\u001b[0m\u001b[0m\n\u001b[1;32m     94\u001b[0m \u001b[0;34m\u001b[0m\u001b[0m\n",
      "\u001b[0;32m~/anaconda2/envs/py36/lib/python3.6/site-packages/torch/nn/modules/module.py\u001b[0m in \u001b[0;36m__call__\u001b[0;34m(self, *input, **kwargs)\u001b[0m\n\u001b[1;32m    487\u001b[0m             \u001b[0mresult\u001b[0m \u001b[0;34m=\u001b[0m \u001b[0mself\u001b[0m\u001b[0;34m.\u001b[0m\u001b[0m_slow_forward\u001b[0m\u001b[0;34m(\u001b[0m\u001b[0;34m*\u001b[0m\u001b[0minput\u001b[0m\u001b[0;34m,\u001b[0m \u001b[0;34m**\u001b[0m\u001b[0mkwargs\u001b[0m\u001b[0;34m)\u001b[0m\u001b[0;34m\u001b[0m\u001b[0;34m\u001b[0m\u001b[0m\n\u001b[1;32m    488\u001b[0m         \u001b[0;32melse\u001b[0m\u001b[0;34m:\u001b[0m\u001b[0;34m\u001b[0m\u001b[0;34m\u001b[0m\u001b[0m\n\u001b[0;32m--> 489\u001b[0;31m             \u001b[0mresult\u001b[0m \u001b[0;34m=\u001b[0m \u001b[0mself\u001b[0m\u001b[0;34m.\u001b[0m\u001b[0mforward\u001b[0m\u001b[0;34m(\u001b[0m\u001b[0;34m*\u001b[0m\u001b[0minput\u001b[0m\u001b[0;34m,\u001b[0m \u001b[0;34m**\u001b[0m\u001b[0mkwargs\u001b[0m\u001b[0;34m)\u001b[0m\u001b[0;34m\u001b[0m\u001b[0;34m\u001b[0m\u001b[0m\n\u001b[0m\u001b[1;32m    490\u001b[0m         \u001b[0;32mfor\u001b[0m \u001b[0mhook\u001b[0m \u001b[0;32min\u001b[0m \u001b[0mself\u001b[0m\u001b[0;34m.\u001b[0m\u001b[0m_forward_hooks\u001b[0m\u001b[0;34m.\u001b[0m\u001b[0mvalues\u001b[0m\u001b[0;34m(\u001b[0m\u001b[0;34m)\u001b[0m\u001b[0;34m:\u001b[0m\u001b[0;34m\u001b[0m\u001b[0;34m\u001b[0m\u001b[0m\n\u001b[1;32m    491\u001b[0m             \u001b[0mhook_result\u001b[0m \u001b[0;34m=\u001b[0m \u001b[0mhook\u001b[0m\u001b[0;34m(\u001b[0m\u001b[0mself\u001b[0m\u001b[0;34m,\u001b[0m \u001b[0minput\u001b[0m\u001b[0;34m,\u001b[0m \u001b[0mresult\u001b[0m\u001b[0;34m)\u001b[0m\u001b[0;34m\u001b[0m\u001b[0;34m\u001b[0m\u001b[0m\n",
      "\u001b[0;32m~/anaconda2/envs/py36/lib/python3.6/site-packages/torch/nn/modules/linear.py\u001b[0m in \u001b[0;36mforward\u001b[0;34m(self, input)\u001b[0m\n\u001b[1;32m     65\u001b[0m     \u001b[0;34m@\u001b[0m\u001b[0mweak_script_method\u001b[0m\u001b[0;34m\u001b[0m\u001b[0;34m\u001b[0m\u001b[0m\n\u001b[1;32m     66\u001b[0m     \u001b[0;32mdef\u001b[0m \u001b[0mforward\u001b[0m\u001b[0;34m(\u001b[0m\u001b[0mself\u001b[0m\u001b[0;34m,\u001b[0m \u001b[0minput\u001b[0m\u001b[0;34m)\u001b[0m\u001b[0;34m:\u001b[0m\u001b[0;34m\u001b[0m\u001b[0;34m\u001b[0m\u001b[0m\n\u001b[0;32m---> 67\u001b[0;31m         \u001b[0;32mreturn\u001b[0m \u001b[0mF\u001b[0m\u001b[0;34m.\u001b[0m\u001b[0mlinear\u001b[0m\u001b[0;34m(\u001b[0m\u001b[0minput\u001b[0m\u001b[0;34m,\u001b[0m \u001b[0mself\u001b[0m\u001b[0;34m.\u001b[0m\u001b[0mweight\u001b[0m\u001b[0;34m,\u001b[0m \u001b[0mself\u001b[0m\u001b[0;34m.\u001b[0m\u001b[0mbias\u001b[0m\u001b[0;34m)\u001b[0m\u001b[0;34m\u001b[0m\u001b[0;34m\u001b[0m\u001b[0m\n\u001b[0m\u001b[1;32m     68\u001b[0m \u001b[0;34m\u001b[0m\u001b[0m\n\u001b[1;32m     69\u001b[0m     \u001b[0;32mdef\u001b[0m \u001b[0mextra_repr\u001b[0m\u001b[0;34m(\u001b[0m\u001b[0mself\u001b[0m\u001b[0;34m)\u001b[0m\u001b[0;34m:\u001b[0m\u001b[0;34m\u001b[0m\u001b[0;34m\u001b[0m\u001b[0m\n",
      "\u001b[0;32m~/anaconda2/envs/py36/lib/python3.6/site-packages/torch/nn/functional.py\u001b[0m in \u001b[0;36mlinear\u001b[0;34m(input, weight, bias)\u001b[0m\n\u001b[1;32m   1350\u001b[0m     \u001b[0;32mif\u001b[0m \u001b[0minput\u001b[0m\u001b[0;34m.\u001b[0m\u001b[0mdim\u001b[0m\u001b[0;34m(\u001b[0m\u001b[0;34m)\u001b[0m \u001b[0;34m==\u001b[0m \u001b[0;36m2\u001b[0m \u001b[0;32mand\u001b[0m \u001b[0mbias\u001b[0m \u001b[0;32mis\u001b[0m \u001b[0;32mnot\u001b[0m \u001b[0;32mNone\u001b[0m\u001b[0;34m:\u001b[0m\u001b[0;34m\u001b[0m\u001b[0;34m\u001b[0m\u001b[0m\n\u001b[1;32m   1351\u001b[0m         \u001b[0;31m# fused op is marginally faster\u001b[0m\u001b[0;34m\u001b[0m\u001b[0;34m\u001b[0m\u001b[0;34m\u001b[0m\u001b[0m\n\u001b[0;32m-> 1352\u001b[0;31m         \u001b[0mret\u001b[0m \u001b[0;34m=\u001b[0m \u001b[0mtorch\u001b[0m\u001b[0;34m.\u001b[0m\u001b[0maddmm\u001b[0m\u001b[0;34m(\u001b[0m\u001b[0mtorch\u001b[0m\u001b[0;34m.\u001b[0m\u001b[0mjit\u001b[0m\u001b[0;34m.\u001b[0m\u001b[0m_unwrap_optional\u001b[0m\u001b[0;34m(\u001b[0m\u001b[0mbias\u001b[0m\u001b[0;34m)\u001b[0m\u001b[0;34m,\u001b[0m \u001b[0minput\u001b[0m\u001b[0;34m,\u001b[0m \u001b[0mweight\u001b[0m\u001b[0;34m.\u001b[0m\u001b[0mt\u001b[0m\u001b[0;34m(\u001b[0m\u001b[0;34m)\u001b[0m\u001b[0;34m)\u001b[0m\u001b[0;34m\u001b[0m\u001b[0;34m\u001b[0m\u001b[0m\n\u001b[0m\u001b[1;32m   1353\u001b[0m     \u001b[0;32melse\u001b[0m\u001b[0;34m:\u001b[0m\u001b[0;34m\u001b[0m\u001b[0;34m\u001b[0m\u001b[0m\n\u001b[1;32m   1354\u001b[0m         \u001b[0moutput\u001b[0m \u001b[0;34m=\u001b[0m \u001b[0minput\u001b[0m\u001b[0;34m.\u001b[0m\u001b[0mmatmul\u001b[0m\u001b[0;34m(\u001b[0m\u001b[0mweight\u001b[0m\u001b[0;34m.\u001b[0m\u001b[0mt\u001b[0m\u001b[0;34m(\u001b[0m\u001b[0;34m)\u001b[0m\u001b[0;34m)\u001b[0m\u001b[0;34m\u001b[0m\u001b[0;34m\u001b[0m\u001b[0m\n",
      "\u001b[0;31mKeyboardInterrupt\u001b[0m: "
     ]
    }
   ],
   "source": [
    "G = U_net_generator(8,16)\n",
    "G = U_net_generator(1,8,G)\n",
    "D = Discriminator()\n",
    "opt_G = torch.optim.Adam(lr=1e-3,params=G.parameters())\n",
    "opt_D = torch.optim.Adam(lr=1e-3,params=D.parameters())\n",
    "\n",
    "dataset = MNIST_Dataset(0.8, True)\n",
    "# change training set to [-1,1]\n",
    "#dataset.X_train = (dataset.X_train - 0.5) * 2\n",
    "epochs = 10\n",
    "num = dataset.get_num_of_instances_in_train()\n",
    "batch_size = 256\n",
    "for e in range(epochs * int(num / batch_size)):    \n",
    "    for i in range(1):\n",
    "        x_real, _ = dataset.get_train_batch(batch_size)\n",
    "        x_fake = G(torch.unsqueeze(x_real,1))\n",
    "\n",
    "        D_real = D(x_real)\n",
    "        D_fake = D(x_fake)\n",
    "        loss_D = torch.log(D_real) + torch.log(1-D_fake)\n",
    "        loss_D = torch.mean(loss_D)\n",
    "\n",
    "        # update D\n",
    "        loss_D.backward()\n",
    "        opt_D.step()\n",
    "        opt_D.zero_grad()\n",
    "    \n",
    "    x_fake = G(torch.unsqueeze(x_real,1))\n",
    "    D_fake = D(x_fake)\n",
    "    \n",
    "    loss_G = -torch.log(D_fake)\n",
    "    loss_G = torch.mean(loss_G)\n",
    "    \n",
    "    # update G\n",
    "    loss_G.backward()\n",
    "    opt_G.step()\n",
    "    opt_G.zero_grad()\n",
    "    \n",
    "    if e % int(num/batch_size) == 0:\n",
    "        print(\"Epoch:{};Loss_D:{};Loss_G:{}\".format(int(e / int(num/batch_size)), loss_D, loss_G))"
   ]
  },
  {
   "cell_type": "code",
   "execution_count": null,
   "metadata": {},
   "outputs": [],
   "source": [
    "# 若AE(G(z)) 和 AE(x_real)一样， 而AE重建x_real perfectly, 则G（z）和x_real是否一样？不一样。不可逆\n"
   ]
  }
 ],
 "metadata": {
  "kernelspec": {
   "display_name": "Python 3",
   "language": "python",
   "name": "python3"
  },
  "language_info": {
   "codemirror_mode": {
    "name": "ipython",
    "version": 3
   },
   "file_extension": ".py",
   "mimetype": "text/x-python",
   "name": "python",
   "nbconvert_exporter": "python",
   "pygments_lexer": "ipython3",
   "version": "3.6.8"
  },
  "toc": {
   "base_numbering": 1,
   "nav_menu": {},
   "number_sections": true,
   "sideBar": true,
   "skip_h1_title": false,
   "title_cell": "Table of Contents",
   "title_sidebar": "Contents",
   "toc_cell": false,
   "toc_position": {},
   "toc_section_display": true,
   "toc_window_display": false
  },
  "varInspector": {
   "cols": {
    "lenName": 16,
    "lenType": 16,
    "lenVar": 40
   },
   "kernels_config": {
    "python": {
     "delete_cmd_postfix": "",
     "delete_cmd_prefix": "del ",
     "library": "var_list.py",
     "varRefreshCmd": "print(var_dic_list())"
    },
    "r": {
     "delete_cmd_postfix": ") ",
     "delete_cmd_prefix": "rm(",
     "library": "var_list.r",
     "varRefreshCmd": "cat(var_dic_list()) "
    }
   },
   "types_to_exclude": [
    "module",
    "function",
    "builtin_function_or_method",
    "instance",
    "_Feature"
   ],
   "window_display": false
  }
 },
 "nbformat": 4,
 "nbformat_minor": 2
}

{
 "cells": [
  {
   "cell_type": "markdown",
   "metadata": {},
   "source": [
    "# graph\n",
    "**Definition:**  \n",
    "A graph is a set of vertices and a collection of edges that each connect a pair of vertices"
   ]
  },
  {
   "cell_type": "code",
   "execution_count": 262,
   "metadata": {
    "ExecuteTime": {
     "end_time": "2019-09-04T10:03:39.533906Z",
     "start_time": "2019-09-04T10:03:39.520731Z"
    }
   },
   "outputs": [],
   "source": [
    "# 以某种格式存放graph并能够读取\n",
    "# 数据结构是算法的基础, e.g. 好的图表征是DFS，BFS搜索算法的基础（路径问题）\n",
    "class Node():\n",
    "    def __init__(self,v):\n",
    "        self.value=v\n",
    "        self.next=None\n",
    "\n",
    "class Graph:\n",
    "    def __init__(self):\n",
    "        self.V = None \n",
    "        self.E = None\n",
    "        self.edges = None # if want a adj of certain V, exame all eadges\n",
    "        self.adj_dict = {} # track the adj list\n",
    "        self.edgeTo = {}\n",
    "        self.mark = {}\n",
    "    \n",
    "    def adj(self, v):\n",
    "        adj_list = []\n",
    "        all_connect = []\n",
    "        # 找出edges中含有v的tuples\n",
    "        for connect in self.edges: \n",
    "            # determin if contains v\n",
    "            if (v in connect):\n",
    "                if (connect[0]==connect[1] and connect[0]==v):continue\n",
    "                elif (connect[0]==v):adj_list.append(connect[1])\n",
    "                else: adj_list.append(connect[0])\n",
    "                all_connect.append(connect)\n",
    "\n",
    "        return adj_list#, connected_edges\n",
    "    \n",
    "    def read_from_file(self, file):\n",
    "        f = open(file, mode='r')\n",
    "        def read_from_txt(txt):\n",
    "            lines=[]\n",
    "            while(True):\n",
    "                l = f.readline().replace('\\n','')\n",
    "                if l == '':\n",
    "                    return lines\n",
    "                lines.append(l)\n",
    "        \n",
    "        inputs = read_from_txt(f)\n",
    "        V = lines[0]\n",
    "        E = lines[1]\n",
    "        edges = []\n",
    "        for line in inputs:\n",
    "            if line == V or line == E: continue\n",
    "            line = line.split(\" \")\n",
    "            line[0] = int(line[0])\n",
    "            line[1] = int(line[1])\n",
    "            edges.append(line)\n",
    "        self.V = int(V)\n",
    "        self.E = int(E)\n",
    "        self.edges = edges\n",
    "        f.close()\n",
    "        \n",
    "        # 这是用dict， 如何用linked list？为什么用？（遍历，插入简单，增加新edge）\n",
    "        for v in range(self.V):\n",
    "            self.adj_dict[v] = self.adj(v)\n",
    "            \n",
    "        # init mark; TODO：如何在仅调用dfs时才init mark？\n",
    "        for v in range(self.V):\n",
    "            self.mark[v] = False\n",
    "\n",
    "    def addEdge(self, v, w):\n",
    "        self.adj_dict[v].append(w)\n",
    "        self.adj_dict[w].append(v)\n",
    "        \n",
    "    def degree(self, v: int)->int:\n",
    "        count = 0\n",
    "        for _ in range(len((self.adj(v)))):\n",
    "            count+=1\n",
    "        return count\n",
    "    \n",
    "    def maxdegree(self)->int:\n",
    "        max_degree = 0\n",
    "        for v in range(self.V):\n",
    "            if self.degree(v) >= max_degree: max_degree = self.degree(v)\n",
    "        return max_degree\n",
    "    \n",
    "    \n",
    "    def dfs(self, v):\n",
    "        self.mark[v] = True\n",
    "        for i in self.adj(v) :\n",
    "            if not self.mark[i]:\n",
    "                self.edgeTo[i] = v\n",
    "                self.dfs(i)\n",
    "                \n",
    "    def path_To(self, root:int, target:int):\n",
    "        # call dfs to get path from root to target\n",
    "        self.dfs(root)\n",
    "        def add_to_path(target):\n",
    "            for i in self.edgeTo:\n",
    "                if i == target:\n",
    "                    add_to_path(self.edgeTo[i])\n",
    "            if (target == root): \n",
    "                self.root = Node(target) \n",
    "            else:\n",
    "                add_new_node(self.root, target)\n",
    "        add_to_path(target)\n",
    "        return self.root\n",
    "\n",
    "# representation using linked list\n",
    "class Node():\n",
    "    def __init__(self,v):\n",
    "        self.value=v\n",
    "        self.next=None\n",
    "\n",
    "root = Node(0)\n",
    "def add_new_node(root,value):\n",
    "    while(root.next is not None):\n",
    "        root = root.next\n",
    "        \n",
    "    root.next = Node(value)\n",
    "    \n",
    "def traverse_root(root):\n",
    "    while(root is not None):\n",
    "        print(root.value)\n",
    "        root = root.next       \n",
    "    \n",
    "\n",
    "G = Graph()\n",
    "G.read_from_file(\"text.txt\")"
   ]
  },
  {
   "cell_type": "code",
   "execution_count": 263,
   "metadata": {
    "ExecuteTime": {
     "end_time": "2019-09-04T10:03:40.000497Z",
     "start_time": "2019-09-04T10:03:39.995833Z"
    }
   },
   "outputs": [
    {
     "name": "stdout",
     "output_type": "stream",
     "text": [
      "3\n",
      "0\n"
     ]
    }
   ],
   "source": [
    "# 如何逆序打印 linked list？\n",
    "root = Node(0)\n",
    "add_new_node(root, 3)\n",
    "def reverse_print_linked_list(root):\n",
    "    if (root == None):\n",
    "        return\n",
    "    \n",
    "    reverse_print_linked_list(root.next)\n",
    "    print(root.value)\n",
    "    \n",
    "reverse_print_linked_list(root)"
   ]
  },
  {
   "cell_type": "code",
   "execution_count": 264,
   "metadata": {
    "ExecuteTime": {
     "end_time": "2019-09-04T10:03:40.321470Z",
     "start_time": "2019-09-04T10:03:40.316105Z"
    }
   },
   "outputs": [
    {
     "data": {
      "text/plain": [
       "([5, 1, 2, 6],\n",
       " 1,\n",
       " 4,\n",
       " {0: [5, 1, 2, 6],\n",
       "  1: [0],\n",
       "  2: [0],\n",
       "  3: [4, 5],\n",
       "  4: [3, 6, 5],\n",
       "  5: [0, 4, 3],\n",
       "  6: [4, 0],\n",
       "  7: [8],\n",
       "  8: [7],\n",
       "  9: [12, 10, 11],\n",
       "  10: [9],\n",
       "  11: [12, 9],\n",
       "  12: [9, 11]})"
      ]
     },
     "execution_count": 264,
     "metadata": {},
     "output_type": "execute_result"
    }
   ],
   "source": [
    "G.adj(0), G.degree(2),G.maxdegree(), G.adj_dict"
   ]
  },
  {
   "cell_type": "code",
   "execution_count": 265,
   "metadata": {
    "ExecuteTime": {
     "end_time": "2019-09-04T10:03:40.919318Z",
     "start_time": "2019-09-04T10:03:40.915752Z"
    }
   },
   "outputs": [
    {
     "name": "stdout",
     "output_type": "stream",
     "text": [
      "0\n",
      "5\n",
      "4\n"
     ]
    }
   ],
   "source": [
    "# 可以用一个linkes list来装路径\n",
    "r = G.path_To(root=0, target=4)\n",
    "traverse_root(r)"
   ]
  },
  {
   "cell_type": "code",
   "execution_count": null,
   "metadata": {},
   "outputs": [],
   "source": [
    "# BFS 搜索\n"
   ]
  }
 ],
 "metadata": {
  "kernelspec": {
   "display_name": "Python 3",
   "language": "python",
   "name": "python3"
  },
  "language_info": {
   "codemirror_mode": {
    "name": "ipython",
    "version": 3
   },
   "file_extension": ".py",
   "mimetype": "text/x-python",
   "name": "python",
   "nbconvert_exporter": "python",
   "pygments_lexer": "ipython3",
   "version": "3.6.8"
  },
  "toc": {
   "base_numbering": 1,
   "nav_menu": {},
   "number_sections": true,
   "sideBar": true,
   "skip_h1_title": false,
   "title_cell": "Table of Contents",
   "title_sidebar": "Contents",
   "toc_cell": false,
   "toc_position": {},
   "toc_section_display": true,
   "toc_window_display": false
  },
  "varInspector": {
   "cols": {
    "lenName": 16,
    "lenType": 16,
    "lenVar": 40
   },
   "kernels_config": {
    "python": {
     "delete_cmd_postfix": "",
     "delete_cmd_prefix": "del ",
     "library": "var_list.py",
     "varRefreshCmd": "print(var_dic_list())"
    },
    "r": {
     "delete_cmd_postfix": ") ",
     "delete_cmd_prefix": "rm(",
     "library": "var_list.r",
     "varRefreshCmd": "cat(var_dic_list()) "
    }
   },
   "types_to_exclude": [
    "module",
    "function",
    "builtin_function_or_method",
    "instance",
    "_Feature"
   ],
   "window_display": false
  }
 },
 "nbformat": 4,
 "nbformat_minor": 2
}

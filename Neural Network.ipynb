{
 "cells": [
  {
   "cell_type": "markdown",
   "metadata": {},
   "source": [
    "# Training A Neural Network\n",
    "Neural network(NN) has many applications. It has large amount of parameters we can train. Usually we train a NN to minimize loss function and make it perform well on some tasks.\n",
    "In this notebook, we are going to walk through a simple NN that can classify data into binary classes."
   ]
  },
  {
   "cell_type": "code",
   "execution_count": 358,
   "metadata": {
    "ExecuteTime": {
     "end_time": "2019-06-24T03:38:25.852997Z",
     "start_time": "2019-06-24T03:38:25.850416Z"
    }
   },
   "outputs": [],
   "source": [
    "# import libraries\n",
    "import seaborn as sns\n",
    "import numpy as np\n",
    "import matplotlib.pyplot as plt"
   ]
  },
  {
   "cell_type": "markdown",
   "metadata": {},
   "source": [
    "## preliminary\n",
    "A neural network usually has many hidden layers and weights matrix as connection. Each unit must pass through activation function to decide fire or not.\n",
    "$$\n",
    "H_2 = \\sigma (H_1 * W_1)\n",
    "$$\n",
    "$H_1$ and $H_2$ are hidden layers and $W_1$ is weight matrix and $\\sigma$ is activation function. $\\sigma$ is applied  element-wisely."
   ]
  },
  {
   "cell_type": "markdown",
   "metadata": {},
   "source": [
    "There are many choices for activation functions, i.e., [Sigmoid](https://en.wikipedia.org/wiki/Sigmoid_function): $\\sigma(x) = \\frac{1}{1+e^{-x}} $  \n",
    "The higher output, the higher probability of being 'activated'."
   ]
  },
  {
   "cell_type": "code",
   "execution_count": 359,
   "metadata": {
    "ExecuteTime": {
     "end_time": "2019-06-24T03:38:37.766031Z",
     "start_time": "2019-06-24T03:38:37.678372Z"
    }
   },
   "outputs": [
    {
     "data": {
      "image/png": "[encoded data removed]",
      "text/plain": [
       "<Figure size 432x288 with 1 Axes>"
      ]
     },
     "metadata": {
      "needs_background": "light"
     },
     "output_type": "display_data"
    }
   ],
   "source": [
    "def sigmoid(x):\n",
    "    return 1. / (1+np.exp(-x))\n",
    "\n",
    "# a plot sigmoid function\n",
    "line = np.linspace(-5, 5, 100)\n",
    "plt.plot(line, sigmoid(line), '.')\n",
    "plt.ylim(0,1)\n",
    "plt.xlabel(\"input\")\n",
    "plt.ylabel(\"output\")\n",
    "plt.title(\"sigmoid\")\n",
    "plt.show()"
   ]
  },
  {
   "cell_type": "markdown",
   "metadata": {},
   "source": [
    "**Steepest gradient descent:**  \n",
    "Usually we go a little step to update weight matrix using gradient: $W_1 = W_1 - \\alpha \\cdot \\frac{d L}{d W_1}$. This update rule is justified by [steepest gradient descent](http://mathworld.wolfram.com/MethodofSteepestDescent.html)."
   ]
  },
  {
   "cell_type": "markdown",
   "metadata": {},
   "source": [
    "**$W_1$ update using derivative $\\frac{d L}{d W_1}$(or gradient)**:  \n",
    "Firstly, we specify our notations:  \n",
    "$H_1^{(i)(j)}$: $i$ th row $j$ th colume in $H_1$, $I$ rows X $J$ columes in total;  \n",
    "$W_1^{(j)(k)}$: $j$ th row $k$ th colume in $W_1$, $J$ rows X $K$ columes in total;  \n",
    "$H_2^{(i)(k)}$: $i$ th row $k$ th colume in $H_2$, $I$ rows X $K$ columes in total;   \n",
    "Let's start by partial derivative of certain element of $W_1$, say $\\frac{\\partial L}{\\partial W_1^{(j)(k)}}$. According to chain rule:  \n",
    "$$\n",
    "\\frac{\\partial L}{\\partial W_1^{(j)(k)}} = \\frac{\\partial  H_2}{\\partial W_1^{(j)(k)}} \\cdot \\frac{\\partial L}{\\partial H_2} \n",
    "$$  \n",
    "So if $W_1^{(j)(k)}$ is changed, $H_2$ will also change; As $H_2$ has changed, so does $L$. We want to sum up all such changes in $L$, our objective is to minimize it:TODO: list equation  \n",
    "$$\n",
    "\\begin{align*}\n",
    "\\frac{\\partial L}{\\partial W_1^{(j)(k)}} =\n",
    "\\sum_{i=1}^{I} \\frac{\\partial H_2^{(i)(k)}}{\\partial W_1^{(j)(k)}} \\frac{\\partial L}{\\partial H2^{(i)(k)}}\n",
    "\\end{align*}\n",
    "$$\n",
    "Notice that those are coefficeints of linear function:  \n",
    "$$\n",
    "\\sum_{j=1}^{J} H_1^{(i)(j)} W_1^{(j)(k)} = H_2^{(i)(k)}\n",
    "$$\n",
    "Hence, $\\frac{\\partial H_2^{(i)(k)}}{\\partial W_1^{(j)(k)}} = H_1^{(i)(j)}$. Plug it into $(1)$:  \n",
    "$$\n",
    "\\frac{\\partial L}{\\partial W_1^{(j)(k)}} = \\sum_{i=1}^{I} H_1^{(i)(j)} \\frac{\\partial L}{\\partial H2^{(i)(k)}}\n",
    "$$\n",
    "Here is an illustration:  \n",
    "![pic1](./assets/pic.png)"
   ]
  },
  {
   "cell_type": "markdown",
   "metadata": {},
   "source": [
    "In the image above, $j$ and $k$ is fixed for partial derivative of $W_1^{(j)(k)}$; $\\sum$ is over $i$, which can be seen as dot-product between $j$th in $H_1$ and $k$th colume in $\\frac{\\partial L}{\\partial H_2}$."
   ]
  },
  {
   "cell_type": "markdown",
   "metadata": {},
   "source": [
    "So far we get $\\frac{\\partial L}{\\partial W_1^{(j)(k)}}$, which is one element in $\\frac{\\partial L}{\\partial W_1}$, but we need the all elements. The interesting thing is that , if we do the same operation to every element using one colume in $H_1$ and one colume in $\\frac{\\partial L}{\\partial H_2}$ and do dot-product, the result is just matrix multiplication between $H_1$ reversed and $\\frac{\\partial L}{\\partial H_2}$: \n",
    "$$\n",
    "\\frac{\\partial L}{\\partial W_1} = H_1^T * \\frac{\\partial L}{\\partial H_2}\n",
    "$$\n",
    "Where $*$ is matrix multiplication.  \n",
    "Here is an illustration:  \n",
    "![mul](./assets/mul.png)"
   ]
  },
  {
   "cell_type": "markdown",
   "metadata": {},
   "source": [
    "You can shift $j$ and $k$ to get any $\\frac{\\partial L}{\\partial W_1^{(j)(k)}}$ of $\\frac{\\partial L}{\\partial W_1}$.  \n",
    "Recall that we want to update our weight matrix $W_1$ using **steepest gradient descent**: $W_1 = W_1 - \\alpha \\cdot \\frac{d L}{d W_1}$; Now we only need to choose a proper $\\alpha$ and train our network!(not really, actually) "
   ]
  },
  {
   "cell_type": "markdown",
   "metadata": {},
   "source": [
    "## Training and Visualization "
   ]
  },
  {
   "cell_type": "markdown",
   "metadata": {},
   "source": [
    "**Step 1:** preparing training data.  \n",
    "We are going to train our neural net to do binary classification. So our data consists of 10000 samples from gaussian distribution $g_0\\sim N(-6,1)$, and another 10000 samples from $g_1\\sim N(6,1)$. We expect our neural net to output probability close to 1 when given new samples from $g_1$ and close to 0 when given samples from $g_0$"
   ]
  },
  {
   "cell_type": "code",
   "execution_count": 374,
   "metadata": {
    "ExecuteTime": {
     "end_time": "2019-06-24T20:10:27.691180Z",
     "start_time": "2019-06-24T20:10:27.605199Z"
    }
   },
   "outputs": [
    {
     "name": "stdout",
     "output_type": "stream",
     "text": [
      "[[ 6.30162001]\n",
      " [-7.59877622]\n",
      " [ 5.72150504]\n",
      " [-3.90241571]\n",
      " [ 6.50755874]]\n",
      "[[1.]\n",
      " [0.]\n",
      " [1.]\n",
      " [0.]\n",
      " [1.]]\n"
     ]
    }
   ],
   "source": [
    "# guassian1\n",
    "g0 = np.random.randn(10000) - 6\n",
    "g0 = np.expand_dims(g0,1)\n",
    "# guassian2\n",
    "g1 = np.random.randn(10000) + 6\n",
    "g1 = np.expand_dims(g1,1)\n",
    "\n",
    "X=np.vstack([g0,g1])\n",
    "y = np.vstack([np.zeros_like(g0),np.ones_like(g1)])\n",
    "data_and_label = np.array(list(zip(X,y))) # pack data and corresponding label\n",
    "np.random.shuffle(data_and_label)\n",
    "\n",
    "X_train = data_label[:,0]\n",
    "y_train = data_label[:,1] # true labels\n",
    "\n",
    "# take a look at firs 5th elements in X_train and y_train\n",
    "print(X_train[:5])\n",
    "print(y_train[:5])"
   ]
  },
  {
   "cell_type": "markdown",
   "metadata": {},
   "source": [
    "**Step 2:** train our neural net!"
   ]
  },
  {
   "cell_type": "code",
   "execution_count": 375,
   "metadata": {
    "ExecuteTime": {
     "end_time": "2019-06-24T20:10:39.654373Z",
     "start_time": "2019-06-24T20:10:39.651030Z"
    }
   },
   "outputs": [],
   "source": [
    "# define cross-entropy loss function\n",
    "def binary_logistic_loss(prediction, label):\n",
    "    y = prediction\n",
    "    y_hat = label\n",
    "    epsilon = 1e-4\n",
    "    error = - y * np.log(y_hat + epsilon) - (1 - y) * np.log(1 - y_hat + epsilon)\n",
    "    return error"
   ]
  },
  {
   "cell_type": "code",
   "execution_count": 376,
   "metadata": {
    "ExecuteTime": {
     "end_time": "2019-06-24T20:11:02.752463Z",
     "start_time": "2019-06-24T20:10:51.223452Z"
    }
   },
   "outputs": [
    {
     "name": "stdout",
     "output_type": "stream",
     "text": [
      "epoch: 0; loss: 6.798121782221799\n",
      "epoch: 100; loss: 0.006299826273001081\n",
      "epoch: 200; loss: 0.003659589936028092\n",
      "epoch: 300; loss: 0.0025066181022530467\n",
      "epoch: 400; loss: 0.0018569864692403386\n",
      "epoch: 500; loss: 0.0014455029653507676\n",
      "epoch: 600; loss: 0.0011669924599880595\n",
      "epoch: 700; loss: 0.0009696708314224809\n",
      "epoch: 800; loss: 0.000824682295348381\n",
      "epoch: 900; loss: 0.0007147741576941311\n"
     ]
    }
   ],
   "source": [
    "# initialization \n",
    "Wxh = np.random.randn(1, 32)\n",
    "bxh = np.zeros(32)\n",
    "Whh = np.random.randn(32, 1)\n",
    "bhh = np.zeros(1)\n",
    "\n",
    "# set step size\n",
    "step = 1\n",
    "\n",
    "# train\n",
    "for i in range(1000):\n",
    "    # forward:\n",
    "    h = X_train.dot(Wxh) + bxh\n",
    "    h_sigmoid = sigmoid(h)\n",
    "    out = h_sigmoid.dot(Whh) + bhh # hh means h->out\n",
    "    y_hat = sigmoid(out)\n",
    "    error = binary_logistic_loss(y_hat, y_train)\n",
    "    L = np.sum(error)/X_train.shape[0]\n",
    "    \n",
    "    # backforward:\n",
    "    derror = 1./X_train.shape[0]\n",
    "    dy_hat2error = y_train * 1./(-y_hat) + (1 - y_train) * (1./(1-y_hat)) # backprop through cross-entropy loss\n",
    "    dout2y_hat = (1 - y_hat) * y_hat # backpro through sigmoid\n",
    "    dout = dout2y_hat * dy_hat2error * derror # chain rule\n",
    "    dWhh = h_sigmoid.T.dot(dout) # dW_1 = H_1.T * H_2\n",
    "    dhh = np.sum(dout, 0)\n",
    "    dh_sigmoid = dout.dot(Whh.T)\n",
    "    dh2h_sigmoid = (1 - h_sigmoid) * h_sigmoid\n",
    "    dh = dh2h_sigmoid * dh_sigmoid\n",
    "    dWxh = X_train.T.dot(dh)\n",
    "    dbxh = np.sum(dh, 0)\n",
    "    \n",
    "    # update\n",
    "    Whh -= step * dWhh\n",
    "    bhh -= step * dhh\n",
    "    Wxh -= step * dWxh\n",
    "    bxh -= step * dbxh\n",
    "    \n",
    "    if i % 100 == 0:\n",
    "        print(\"epoch: {}; loss: {}\".format(i, L))"
   ]
  },
  {
   "cell_type": "markdown",
   "metadata": {},
   "source": [
    "**Step 3:** plot result"
   ]
  },
  {
   "cell_type": "code",
   "execution_count": 377,
   "metadata": {
    "ExecuteTime": {
     "end_time": "2019-06-24T20:11:14.527598Z",
     "start_time": "2019-06-24T20:11:14.519687Z"
    }
   },
   "outputs": [],
   "source": [
    "# X_predict is 10000 real numbers ranging from -10 to 10\n",
    "line = np.linspace(-10,10,10000)\n",
    "X_predict = np.expand_dims(line,1)\n",
    "# make prediction\n",
    "h = X_predict.dot(Wxh) + bxh\n",
    "h_sigmoid = sigmoid(h)\n",
    "out = h_sigmoid.dot(Whh) + bhh # hh means h->out\n",
    "y_hat = sigmoid(out)"
   ]
  },
  {
   "cell_type": "code",
   "execution_count": 378,
   "metadata": {
    "ExecuteTime": {
     "end_time": "2019-06-24T20:11:26.467734Z",
     "start_time": "2019-06-24T20:11:26.063662Z"
    }
   },
   "outputs": [
    {
     "name": "stderr",
     "output_type": "stream",
     "text": [
      "/Users/ellise/anaconda2/envs/py36/lib/python3.6/site-packages/scipy/stats/stats.py:1713: FutureWarning: Using a non-tuple sequence for multidimensional indexing is deprecated; use `arr[tuple(seq)]` instead of `arr[seq]`. In the future this will be interpreted as an array index, `arr[np.array(seq)]`, which will result either in an error or a different result.\n",
      "  return np.add.reduce(sorted[indexer] * weights, axis=axis) / sumval\n"
     ]
    },
    {
     "data": {
      "image/png": "[encoded data removed]",
      "text/plain": [
       "<Figure size 720x720 with 1 Axes>"
      ]
     },
     "metadata": {
      "needs_background": "light"
     },
     "output_type": "display_data"
    }
   ],
   "source": [
    "# plot\n",
    "plt.figure(figsize=(10,10))\n",
    "sns.distplot(g0, hist=False, kde=True, \n",
    "             color = 'darkblue', \n",
    "             kde_kws={'linewidth': 1})\n",
    "sns.distplot(g1, hist=False, kde=True, \n",
    "             color = 'green', \n",
    "             kde_kws={'linewidth': 1})\n",
    "\n",
    "y = np.random.uniform(0,0.005,size=g0.shape)\n",
    "plt.scatter(g0,y,marker=\".\",linewidths=0.0001,alpha=0.05,c='darkblue')\n",
    "plt.scatter(g1,y,marker=\".\",linewidths=0.0001,alpha=0.05,c='green')\n",
    "plt.plot(line, y_hat, color='r')\n",
    "\n",
    "plt.legend([\"Decision Boundary\"])\n",
    "plt.xlabel('x')\n",
    "plt.ylabel('density')\n",
    "plt.title('Histogram')\n",
    "plt.text(60, .025, r'$\\mu,\\ \\sigma$')\n",
    "plt.axis([-10, 10,0, 1])\n",
    "plt.grid(True)\n",
    "plt.show()"
   ]
  },
  {
   "cell_type": "markdown",
   "metadata": {},
   "source": [
    "From the picture above, we can see that if given samples greater than 2.5, our NN will predict close to 1; if given samples less than -2.5, it will predict close to 0. Hence, if our NN predict larger than 0.5, we can label input sample as coming from $g_1$; if less than 0.5, from $g_1$. In this way, we can give NN new samples as input and do classification."
   ]
  },
  {
   "cell_type": "markdown",
   "metadata": {},
   "source": [
    "## Supplementary "
   ]
  },
  {
   "cell_type": "markdown",
   "metadata": {},
   "source": [
    "**Derivative of Sigmoid function:** \n",
    "$$\n",
    "\\sigma(x) = \\frac{1}{1+e^{-x}};  \\\\\n",
    "\\frac{d \\sigma(x)}{d x} = \\frac{-1}{(1+e^{-x})^2}\\cdot(-e^{-x}) \\\\\n",
    "                        = \\frac{e^{-x}}{(1+e^{-x})^2} \\\\\n",
    "                        = \\frac{1}{(1+e^{-x}} \\cdot (1-\\frac{1}{1+e^{-x}}) \\\\\n",
    "                        = \\sigma(x) \\cdot (1-\\sigma(x)) \n",
    "$$"
   ]
  },
  {
   "cell_type": "markdown",
   "metadata": {},
   "source": [
    "**Cross Entropy:** cross-entropy between two distribution $p$ and $q$ is defined as $H[p,q] = -\\sum_i p(x_i)\\log q(x_i)$. We can expand it as follow:  \n",
    "$$\n",
    "\\begin{align}\n",
    "H[p,q] = -\\sum_i p(x_i)\\log q(x_i)\\\\\n",
    "       = \\sum_i p(x_i)\\log[ \\frac{p(x_i)}{q(x_i)} \\cdot \\frac{1}{p(x_i)}] \\\\\n",
    "       = - \\sum_i p(x_i)\\log p(x_i) + \\sum_i p(x_i)\\log\\frac{p(x_i}{q(x_i)} \\\\\n",
    "       = H[p] + D_{KL}(p||q)\n",
    "\\end{align}\n",
    "$$  \n",
    "For classification task where we have correct labels, our label distribution is $p(x)$; we want our prediction distribution $q(x)$ as close to $p(x)$ as possible. Minimizing $H[p,q]$ can be seen as reducing KL-divergence between label distribution and prediction distribution: if two distributions are equal, then $D_{KL}(p||q)=0$ and $H[p,q] = H[p]$ exactly. We can not change $H[p]$."
   ]
  },
  {
   "cell_type": "markdown",
   "metadata": {},
   "source": [
    "For binary classification, our $x$ can only take two values: 0, 1 \n",
    "$$\n",
    "H[p,q] = - p(x=0)\\log q(x=0) - p(x=1)\\log q(x=1)\n",
    "$$\n",
    "The loss function for such idea is: \n",
    "$$\n",
    "L = -y\\log \\hat y - (1-y) \\log (1-\\hat y)\n",
    "$$\n",
    "Where $y$ is true label and $\\hat y$ is prediction. $y$ can only be 0 or 1. If 1, the second term is 0 regardless of $\\hat y$, only first term remains; if 0, the first term is always 0, only second term remains.  "
   ]
  },
  {
   "cell_type": "markdown",
   "metadata": {},
   "source": [
    "**Derivative of Cross Entropy Function:** take derivative w.r.t $\\hat y$, should be straight forward."
   ]
  }
 ],
 "metadata": {
  "kernelspec": {
   "display_name": "Python 3",
   "language": "python",
   "name": "python3"
  },
  "language_info": {
   "codemirror_mode": {
    "name": "ipython",
    "version": 3
   },
   "file_extension": ".py",
   "mimetype": "text/x-python",
   "name": "python",
   "nbconvert_exporter": "python",
   "pygments_lexer": "ipython3",
   "version": "3.6.8"
  },
  "toc": {
   "base_numbering": 1,
   "nav_menu": {},
   "number_sections": true,
   "sideBar": true,
   "skip_h1_title": false,
   "title_cell": "Table of Contents",
   "title_sidebar": "Contents",
   "toc_cell": false,
   "toc_position": {},
   "toc_section_display": true,
   "toc_window_display": false
  },
  "varInspector": {
   "cols": {
    "lenName": 16,
    "lenType": 16,
    "lenVar": 40
   },
   "kernels_config": {
    "python": {
     "delete_cmd_postfix": "",
     "delete_cmd_prefix": "del ",
     "library": "var_list.py",
     "varRefreshCmd": "print(var_dic_list())"
    },
    "r": {
     "delete_cmd_postfix": ") ",
     "delete_cmd_prefix": "rm(",
     "library": "var_list.r",
     "varRefreshCmd": "cat(var_dic_list()) "
    }
   },
   "types_to_exclude": [
    "module",
    "function",
    "builtin_function_or_method",
    "instance",
    "_Feature"
   ],
   "window_display": false
  }
 },
 "nbformat": 4,
 "nbformat_minor": 2
}
